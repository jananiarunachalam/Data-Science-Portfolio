{
  "nbformat": 4,
  "nbformat_minor": 0,
  "metadata": {
    "colab": {
      "name": "Cleaning_Airbnb_Data.ipynb",
      "provenance": []
    },
    "kernelspec": {
      "name": "python3",
      "display_name": "Python 3"
    }
  },
  "cells": [
    {
      "cell_type": "markdown",
      "metadata": {
        "id": "6Ijg5wUCTQYG",
        "colab_type": "text"
      },
      "source": [
        "## **Cleaning Airbnb Data in Python**\n",
        "\n",
        "\n",
        "The majority of data science work often revolves around pre-processing data, and making sure it's ready for analysis.\n",
        "\n",
        "* Import data into `pandas`, and use simple functions to diagnose problems in our data.\n",
        "* Visualize missing and out of range data using `missingno` and `seaborn`.\n",
        "* Apply a range of data cleaning tasks that will ensure the delivery of accurate insights.\n",
        "\n",
        "## **The Dataset**\n",
        "\n",
        "The dataset to be used is a CSV file named `airbnb.csv`, which contains data on airbnb listings in the state of New York. It contains the following columns:\n",
        "\n",
        "- `listing_id`: The unique identifier for a listing\n",
        "- `description`: The description used on the listing\n",
        "- `host_id`: Unique identifier for a host\n",
        "- `host_name`: Name of host\n",
        "- `neighbourhood_full`: Name of boroughs and neighbourhoods\n",
        "- `coordinates`: Coordinates of listing _(latitude, longitude)_\n",
        "- `Listing added`: Date of added listing\n",
        "- `room_type`: Type of room \n",
        "- `rating`: Rating from 0 to 5.\n",
        "- `price`: Price per night for listing\n",
        "- `number_of_reviews`: Amount of reviews received \n",
        "- `last_review`: Date of last review\n",
        "- `reviews_per_month`: Number of reviews per month\n",
        "- `availability_365`: Number of days available per year\n",
        "- `Number of stays`: Total number of stays thus far\n"
      ]
    },
    {
      "cell_type": "markdown",
      "metadata": {
        "id": "BMYfcKeDY85K",
        "colab_type": "text"
      },
      "source": [
        "## **Getting started**"
      ]
    },
    {
      "cell_type": "code",
      "metadata": {
        "id": "EMQfyC7GUNhT",
        "colab_type": "code",
        "colab": {}
      },
      "source": [
        "# Import libraries\n",
        "import pandas as pd\n",
        "import matplotlib.pyplot as plt\n",
        "import numpy as np\n",
        "import seaborn as sns\n",
        "import datetime as dt\n",
        "import missingno as msno\n",
        "import datetime as dt"
      ],
      "execution_count": 0,
      "outputs": []
    },
    {
      "cell_type": "code",
      "metadata": {
        "id": "l8t_EwRNZPLB",
        "colab_type": "code",
        "colab": {}
      },
      "source": [
        "# Read in the dataset\n",
        "airbnb = pd.read_csv('https://github.com/adelnehme/python-for-spreadsheet-users-webinar/blob/master/datasets/airbnb.csv?raw=true', index_col = 'Unnamed: 0')"
      ],
      "execution_count": 0,
      "outputs": []
    },
    {
      "cell_type": "markdown",
      "metadata": {
        "id": "1ui1uvtyZwfQ",
        "colab_type": "text"
      },
      "source": [
        "## **Diagnosing data cleaning problems using simple `pandas` and visualizations** "
      ]
    },
    {
      "cell_type": "markdown",
      "metadata": {
        "id": "t3fgtos4Z6Xa",
        "colab_type": "text"
      },
      "source": [
        "Some important and common methods needed to get a better understanding of DataFrames and diagnose potential data problems are the following: \n",
        "\n",
        "- `.head()` prints the header of a DataFrame\n",
        "- `.dtypes` prints datatypes of all columns in a DataFrame\n",
        "- `.info()` provides a bird's eye view of column data types and missing values in a DataFrame\n",
        "- `.describe()` returns a distribution of numeric columns in your DataFrame\n",
        "- `.isna().sum()` allows us to break down the number of missing values per column in our DataFrame\n",
        "- `.unique()` finds the number of unique values in a DataFrame column\n",
        "\n",
        "<br>\n",
        "\n",
        "- `sns.displot()` plots the distribution of one column in your DataFrame."
      ]
    },
    {
      "cell_type": "code",
      "metadata": {
        "id": "x3w1WbkFZ-ig",
        "colab_type": "code",
        "outputId": "3b1d7ec2-9468-40ba-e0f5-918698a85229",
        "colab": {
          "base_uri": "https://localhost:8080/",
          "height": 467
        }
      },
      "source": [
        "# Print the header of the DataFrame\n",
        "# head() is a method\n",
        "\n",
        "airbnb.head()"
      ],
      "execution_count": 73,
      "outputs": [
        {
          "output_type": "execute_result",
          "data": {
            "text/html": [
              "<div>\n",
              "<style scoped>\n",
              "    .dataframe tbody tr th:only-of-type {\n",
              "        vertical-align: middle;\n",
              "    }\n",
              "\n",
              "    .dataframe tbody tr th {\n",
              "        vertical-align: top;\n",
              "    }\n",
              "\n",
              "    .dataframe thead th {\n",
              "        text-align: right;\n",
              "    }\n",
              "</style>\n",
              "<table border=\"1\" class=\"dataframe\">\n",
              "  <thead>\n",
              "    <tr style=\"text-align: right;\">\n",
              "      <th></th>\n",
              "      <th>listing_id</th>\n",
              "      <th>name</th>\n",
              "      <th>host_id</th>\n",
              "      <th>host_name</th>\n",
              "      <th>neighbourhood_full</th>\n",
              "      <th>coordinates</th>\n",
              "      <th>room_type</th>\n",
              "      <th>price</th>\n",
              "      <th>number_of_reviews</th>\n",
              "      <th>last_review</th>\n",
              "      <th>reviews_per_month</th>\n",
              "      <th>availability_365</th>\n",
              "      <th>rating</th>\n",
              "      <th>number_of_stays</th>\n",
              "      <th>5_stars</th>\n",
              "      <th>listing_added</th>\n",
              "    </tr>\n",
              "  </thead>\n",
              "  <tbody>\n",
              "    <tr>\n",
              "      <th>0</th>\n",
              "      <td>13740704</td>\n",
              "      <td>Cozy,budget friendly, cable inc, private entra...</td>\n",
              "      <td>20583125</td>\n",
              "      <td>Michel</td>\n",
              "      <td>Brooklyn, Flatlands</td>\n",
              "      <td>(40.63222, -73.93398)</td>\n",
              "      <td>Private room</td>\n",
              "      <td>45$</td>\n",
              "      <td>10</td>\n",
              "      <td>2018-12-12</td>\n",
              "      <td>0.70</td>\n",
              "      <td>85</td>\n",
              "      <td>4.100954</td>\n",
              "      <td>12.0</td>\n",
              "      <td>0.609432</td>\n",
              "      <td>2018-06-08</td>\n",
              "    </tr>\n",
              "    <tr>\n",
              "      <th>1</th>\n",
              "      <td>22005115</td>\n",
              "      <td>Two floor apartment near Central Park</td>\n",
              "      <td>82746113</td>\n",
              "      <td>Cecilia</td>\n",
              "      <td>Manhattan, Upper West Side</td>\n",
              "      <td>(40.78761, -73.96862)</td>\n",
              "      <td>Entire home/apt</td>\n",
              "      <td>135$</td>\n",
              "      <td>1</td>\n",
              "      <td>2019-06-30</td>\n",
              "      <td>1.00</td>\n",
              "      <td>145</td>\n",
              "      <td>3.367600</td>\n",
              "      <td>1.2</td>\n",
              "      <td>0.746135</td>\n",
              "      <td>2018-12-25</td>\n",
              "    </tr>\n",
              "    <tr>\n",
              "      <th>2</th>\n",
              "      <td>21667615</td>\n",
              "      <td>Beautiful 1BR in Brooklyn Heights</td>\n",
              "      <td>78251</td>\n",
              "      <td>Leslie</td>\n",
              "      <td>Brooklyn, Brooklyn Heights</td>\n",
              "      <td>(40.7007, -73.99517)</td>\n",
              "      <td>Entire home/apt</td>\n",
              "      <td>150$</td>\n",
              "      <td>0</td>\n",
              "      <td>NaN</td>\n",
              "      <td>NaN</td>\n",
              "      <td>65</td>\n",
              "      <td>NaN</td>\n",
              "      <td>NaN</td>\n",
              "      <td>NaN</td>\n",
              "      <td>2018-08-15</td>\n",
              "    </tr>\n",
              "    <tr>\n",
              "      <th>3</th>\n",
              "      <td>6425850</td>\n",
              "      <td>Spacious, charming studio</td>\n",
              "      <td>32715865</td>\n",
              "      <td>Yelena</td>\n",
              "      <td>Manhattan, Upper West Side</td>\n",
              "      <td>(40.79169, -73.97498)</td>\n",
              "      <td>Entire home/apt</td>\n",
              "      <td>86$</td>\n",
              "      <td>5</td>\n",
              "      <td>2017-09-23</td>\n",
              "      <td>0.13</td>\n",
              "      <td>0</td>\n",
              "      <td>4.763203</td>\n",
              "      <td>6.0</td>\n",
              "      <td>0.769947</td>\n",
              "      <td>2017-03-20</td>\n",
              "    </tr>\n",
              "    <tr>\n",
              "      <th>4</th>\n",
              "      <td>22986519</td>\n",
              "      <td>Bedroom on the lively Lower East Side</td>\n",
              "      <td>154262349</td>\n",
              "      <td>Brooke</td>\n",
              "      <td>Manhattan, Lower East Side</td>\n",
              "      <td>(40.71884, -73.98354)</td>\n",
              "      <td>Private room</td>\n",
              "      <td>160$</td>\n",
              "      <td>23</td>\n",
              "      <td>2019-06-12</td>\n",
              "      <td>2.29</td>\n",
              "      <td>102</td>\n",
              "      <td>3.822591</td>\n",
              "      <td>27.6</td>\n",
              "      <td>0.649383</td>\n",
              "      <td>2020-10-23</td>\n",
              "    </tr>\n",
              "  </tbody>\n",
              "</table>\n",
              "</div>"
            ],
            "text/plain": [
              "   listing_id  ... listing_added\n",
              "0    13740704  ...    2018-06-08\n",
              "1    22005115  ...    2018-12-25\n",
              "2    21667615  ...    2018-08-15\n",
              "3     6425850  ...    2017-03-20\n",
              "4    22986519  ...    2020-10-23\n",
              "\n",
              "[5 rows x 16 columns]"
            ]
          },
          "metadata": {
            "tags": []
          },
          "execution_count": 73
        }
      ]
    },
    {
      "cell_type": "code",
      "metadata": {
        "id": "SiWS3EiPakp2",
        "colab_type": "code",
        "outputId": "83644618-14b4-45f7-9c68-cb2d338ce8da",
        "colab": {
          "base_uri": "https://localhost:8080/",
          "height": 353
        }
      },
      "source": [
        "# Print data types of DataFrame\n",
        "# dtypes is an attribute - do not end w a parentheses\n",
        "\n",
        "airbnb.dtypes"
      ],
      "execution_count": 70,
      "outputs": [
        {
          "output_type": "execute_result",
          "data": {
            "text/plain": [
              "listing_id                    int64\n",
              "name                         object\n",
              "host_id                       int64\n",
              "host_name                    object\n",
              "room_type                    object\n",
              "price                       float64\n",
              "number_of_reviews             int64\n",
              "last_review          datetime64[ns]\n",
              "reviews_per_month           float64\n",
              "availability_365              int64\n",
              "rating                      float64\n",
              "number_of_stays             float64\n",
              "5_stars                     float64\n",
              "listing_added        datetime64[ns]\n",
              "latitude                    float64\n",
              "longitude                   float64\n",
              "borough                      object\n",
              "neighbourhood                object\n",
              "is_rated                      int64\n",
              "dtype: object"
            ]
          },
          "metadata": {
            "tags": []
          },
          "execution_count": 70
        }
      ]
    },
    {
      "cell_type": "markdown",
      "metadata": {
        "id": "lfg3KBn2YYgD",
        "colab_type": "text"
      },
      "source": [
        "coordinates, price - they are objects, convert them to numeric.\n",
        "\n",
        "date should be converted to datetime"
      ]
    },
    {
      "cell_type": "code",
      "metadata": {
        "id": "KoT5LMdSiW1H",
        "colab_type": "code",
        "outputId": "5989e284-4b4a-4c8e-ce2f-b06e4afd0a16",
        "colab": {
          "base_uri": "https://localhost:8080/",
          "height": 403
        }
      },
      "source": [
        "# Print info of DataFrame\n",
        "airbnb.info()"
      ],
      "execution_count": 74,
      "outputs": [
        {
          "output_type": "stream",
          "text": [
            "<class 'pandas.core.frame.DataFrame'>\n",
            "Int64Index: 10019 entries, 0 to 10018\n",
            "Data columns (total 16 columns):\n",
            " #   Column              Non-Null Count  Dtype  \n",
            "---  ------              --------------  -----  \n",
            " 0   listing_id          10019 non-null  int64  \n",
            " 1   name                10014 non-null  object \n",
            " 2   host_id             10019 non-null  int64  \n",
            " 3   host_name           10017 non-null  object \n",
            " 4   neighbourhood_full  10019 non-null  object \n",
            " 5   coordinates         10019 non-null  object \n",
            " 6   room_type           10019 non-null  object \n",
            " 7   price               9781 non-null   object \n",
            " 8   number_of_reviews   10019 non-null  int64  \n",
            " 9   last_review         7944 non-null   object \n",
            " 10  reviews_per_month   7944 non-null   float64\n",
            " 11  availability_365    10019 non-null  int64  \n",
            " 12  rating              7944 non-null   float64\n",
            " 13  number_of_stays     7944 non-null   float64\n",
            " 14  5_stars             7944 non-null   float64\n",
            " 15  listing_added       10019 non-null  object \n",
            "dtypes: float64(4), int64(4), object(8)\n",
            "memory usage: 1.3+ MB\n"
          ],
          "name": "stdout"
        }
      ]
    },
    {
      "cell_type": "code",
      "metadata": {
        "id": "dvsinK9zexdv",
        "colab_type": "code",
        "outputId": "35d8e790-ebab-4127-8d8e-a6770053bd48",
        "colab": {
          "base_uri": "https://localhost:8080/",
          "height": 302
        }
      },
      "source": [
        "# Print number of missing values\n",
        "airbnb.isna().sum()"
      ],
      "execution_count": 75,
      "outputs": [
        {
          "output_type": "execute_result",
          "data": {
            "text/plain": [
              "listing_id               0\n",
              "name                     5\n",
              "host_id                  0\n",
              "host_name                2\n",
              "neighbourhood_full       0\n",
              "coordinates              0\n",
              "room_type                0\n",
              "price                  238\n",
              "number_of_reviews        0\n",
              "last_review           2075\n",
              "reviews_per_month     2075\n",
              "availability_365         0\n",
              "rating                2075\n",
              "number_of_stays       2075\n",
              "5_stars               2075\n",
              "listing_added            0\n",
              "dtype: int64"
            ]
          },
          "metadata": {
            "tags": []
          },
          "execution_count": 75
        }
      ]
    },
    {
      "cell_type": "markdown",
      "metadata": {
        "id": "BLtjk34CgDdF",
        "colab_type": "text"
      },
      "source": [
        "There are a variety of ways of dealing with missing data that is dependent on type of missingness, as well as the business assumptions behind our data - our options could be:\n",
        "\n",
        "- Dropping missing data (if the data dropped does not impact or skew our data)\n",
        "- Setting to missing and impute with statistical measures (median, mean, mode ...)\n",
        "- Imputing with more complex algorithmic/machine learning based approaches\n",
        "- Impute based on business assumptions of our data"
      ]
    },
    {
      "cell_type": "code",
      "metadata": {
        "id": "ydyKeLnKgAHq",
        "colab_type": "code",
        "colab": {
          "base_uri": "https://localhost:8080/",
          "height": 304
        },
        "outputId": "b923602c-97de-4206-8965-ff837a5877bf"
      },
      "source": [
        "# Print description of DataFrame\n",
        "airbnb.describe()"
      ],
      "execution_count": 76,
      "outputs": [
        {
          "output_type": "execute_result",
          "data": {
            "text/html": [
              "<div>\n",
              "<style scoped>\n",
              "    .dataframe tbody tr th:only-of-type {\n",
              "        vertical-align: middle;\n",
              "    }\n",
              "\n",
              "    .dataframe tbody tr th {\n",
              "        vertical-align: top;\n",
              "    }\n",
              "\n",
              "    .dataframe thead th {\n",
              "        text-align: right;\n",
              "    }\n",
              "</style>\n",
              "<table border=\"1\" class=\"dataframe\">\n",
              "  <thead>\n",
              "    <tr style=\"text-align: right;\">\n",
              "      <th></th>\n",
              "      <th>listing_id</th>\n",
              "      <th>host_id</th>\n",
              "      <th>number_of_reviews</th>\n",
              "      <th>reviews_per_month</th>\n",
              "      <th>availability_365</th>\n",
              "      <th>rating</th>\n",
              "      <th>number_of_stays</th>\n",
              "      <th>5_stars</th>\n",
              "    </tr>\n",
              "  </thead>\n",
              "  <tbody>\n",
              "    <tr>\n",
              "      <th>count</th>\n",
              "      <td>1.001900e+04</td>\n",
              "      <td>1.001900e+04</td>\n",
              "      <td>10019.000000</td>\n",
              "      <td>7944.000000</td>\n",
              "      <td>10019.000000</td>\n",
              "      <td>7944.000000</td>\n",
              "      <td>7944.000000</td>\n",
              "      <td>7944.000000</td>\n",
              "    </tr>\n",
              "    <tr>\n",
              "      <th>mean</th>\n",
              "      <td>1.927634e+07</td>\n",
              "      <td>6.795923e+07</td>\n",
              "      <td>22.459727</td>\n",
              "      <td>1.353894</td>\n",
              "      <td>112.284260</td>\n",
              "      <td>4.014458</td>\n",
              "      <td>33.991541</td>\n",
              "      <td>0.718599</td>\n",
              "    </tr>\n",
              "    <tr>\n",
              "      <th>std</th>\n",
              "      <td>1.095056e+07</td>\n",
              "      <td>7.863106e+07</td>\n",
              "      <td>43.173896</td>\n",
              "      <td>1.615380</td>\n",
              "      <td>131.636043</td>\n",
              "      <td>0.575064</td>\n",
              "      <td>56.089279</td>\n",
              "      <td>0.079978</td>\n",
              "    </tr>\n",
              "    <tr>\n",
              "      <th>min</th>\n",
              "      <td>3.831000e+03</td>\n",
              "      <td>2.787000e+03</td>\n",
              "      <td>0.000000</td>\n",
              "      <td>0.010000</td>\n",
              "      <td>0.000000</td>\n",
              "      <td>3.000633</td>\n",
              "      <td>1.200000</td>\n",
              "      <td>0.600026</td>\n",
              "    </tr>\n",
              "    <tr>\n",
              "      <th>25%</th>\n",
              "      <td>9.674772e+06</td>\n",
              "      <td>7.910880e+06</td>\n",
              "      <td>1.000000</td>\n",
              "      <td>0.200000</td>\n",
              "      <td>0.000000</td>\n",
              "      <td>3.520443</td>\n",
              "      <td>3.600000</td>\n",
              "      <td>0.655576</td>\n",
              "    </tr>\n",
              "    <tr>\n",
              "      <th>50%</th>\n",
              "      <td>2.007030e+07</td>\n",
              "      <td>3.165167e+07</td>\n",
              "      <td>5.000000</td>\n",
              "      <td>0.710000</td>\n",
              "      <td>44.000000</td>\n",
              "      <td>4.027965</td>\n",
              "      <td>10.800000</td>\n",
              "      <td>0.709768</td>\n",
              "    </tr>\n",
              "    <tr>\n",
              "      <th>75%</th>\n",
              "      <td>2.933864e+07</td>\n",
              "      <td>1.074344e+08</td>\n",
              "      <td>22.000000</td>\n",
              "      <td>2.000000</td>\n",
              "      <td>226.000000</td>\n",
              "      <td>4.516378</td>\n",
              "      <td>38.400000</td>\n",
              "      <td>0.763978</td>\n",
              "    </tr>\n",
              "    <tr>\n",
              "      <th>max</th>\n",
              "      <td>3.648724e+07</td>\n",
              "      <td>2.741034e+08</td>\n",
              "      <td>510.000000</td>\n",
              "      <td>16.220000</td>\n",
              "      <td>365.000000</td>\n",
              "      <td>5.181114</td>\n",
              "      <td>612.000000</td>\n",
              "      <td>0.950339</td>\n",
              "    </tr>\n",
              "  </tbody>\n",
              "</table>\n",
              "</div>"
            ],
            "text/plain": [
              "         listing_id       host_id  ...  number_of_stays      5_stars\n",
              "count  1.001900e+04  1.001900e+04  ...      7944.000000  7944.000000\n",
              "mean   1.927634e+07  6.795923e+07  ...        33.991541     0.718599\n",
              "std    1.095056e+07  7.863106e+07  ...        56.089279     0.079978\n",
              "min    3.831000e+03  2.787000e+03  ...         1.200000     0.600026\n",
              "25%    9.674772e+06  7.910880e+06  ...         3.600000     0.655576\n",
              "50%    2.007030e+07  3.165167e+07  ...        10.800000     0.709768\n",
              "75%    2.933864e+07  1.074344e+08  ...        38.400000     0.763978\n",
              "max    3.648724e+07  2.741034e+08  ...       612.000000     0.950339\n",
              "\n",
              "[8 rows x 8 columns]"
            ]
          },
          "metadata": {
            "tags": []
          },
          "execution_count": 76
        }
      ]
    },
    {
      "cell_type": "code",
      "metadata": {
        "id": "VVJat5xZjJLX",
        "colab_type": "code",
        "colab": {
          "base_uri": "https://localhost:8080/",
          "height": 295
        },
        "outputId": "da083265-4006-4365-e37f-81ffadbf53a7"
      },
      "source": [
        "# Visualize the distribution of the rating column\n",
        "\n",
        "sns.distplot(airbnb['rating'], bins=10)\n",
        "plt.title('Distribution of Listing Rating')\n",
        "plt.show()"
      ],
      "execution_count": 77,
      "outputs": [
        {
          "output_type": "display_data",
          "data": {
            "image/png": "[encoded data removed]",
            "text/plain": [
              "<Figure size 432x288 with 1 Axes>"
            ]
          },
          "metadata": {
            "tags": [],
            "needs_background": "light"
          }
        }
      ]
    },
    {
      "cell_type": "code",
      "metadata": {
        "id": "mvJGrqxRjihF",
        "colab_type": "code",
        "colab": {
          "base_uri": "https://localhost:8080/",
          "height": 50
        },
        "outputId": "ecb80c57-c428-4615-bae9-8c6ecb6838da"
      },
      "source": [
        "# Find number of unique values in room_type column\n",
        "airbnb.room_type.unique()"
      ],
      "execution_count": 78,
      "outputs": [
        {
          "output_type": "execute_result",
          "data": {
            "text/plain": [
              "array(['Private room', 'Entire home/apt', 'Private', 'Shared room',\n",
              "       'PRIVATE ROOM', 'home', '   Shared room      '], dtype=object)"
            ]
          },
          "metadata": {
            "tags": []
          },
          "execution_count": 78
        }
      ]
    },
    {
      "cell_type": "code",
      "metadata": {
        "id": "tZ0SBerlm2hS",
        "colab_type": "code",
        "colab": {
          "base_uri": "https://localhost:8080/",
          "height": 151
        },
        "outputId": "35fd3077-7bc7-4cde-940f-cb4c1f04b277"
      },
      "source": [
        "# How many values of different room_types do we have?\n",
        "airbnb.room_type.value_counts()"
      ],
      "execution_count": 79,
      "outputs": [
        {
          "output_type": "execute_result",
          "data": {
            "text/plain": [
              "Entire home/apt         5120\n",
              "Private room            4487\n",
              "Shared room              155\n",
              "Private                   89\n",
              "   Shared room            71\n",
              "home                      66\n",
              "PRIVATE ROOM              31\n",
              "Name: room_type, dtype: int64"
            ]
          },
          "metadata": {
            "tags": []
          },
          "execution_count": 79
        }
      ]
    },
    {
      "cell_type": "markdown",
      "metadata": {
        "id": "WqwmfLp9lKjU",
        "colab_type": "text"
      },
      "source": [
        "<br>\n",
        "\n",
        "## **To do list:**\n",
        "\n",
        "_Data type problems:_\n",
        "\n",
        "- **Task 1**: Split `coordinates` into 2 columns and convert them to `float`\n",
        "- **Task 2**: Remove `$` from `price` and convert it to `float`\n",
        "- **Task 3**: Convert `listing_added` and `last_review` to `datetime`\n",
        "\n",
        "<br>\n",
        "\n",
        "_Text/categorical data problems:_\n",
        "\n",
        "- **Task 4**: We need to collapse `room_type` into correct categories\n",
        "- **Task 5**: Divide `neighbourhood_full` into 2 columns and making sure they are clean\n",
        "\n",
        "<br>\n",
        "\n",
        "_Data range problems:_\n",
        "\n",
        "- **Task 6**: Make sure we set the correct maximum for `rating` column out of range values\n",
        "\n",
        "<br>\n",
        "\n",
        "_Dealing with missing data:_\n",
        "\n",
        "- **Task 7**: Understand the type of missingness, and deal with the missing data in most of the remaining columns. \n",
        "\n",
        "<br>\n",
        "\n",
        "_Further_\n",
        "\n",
        "- Investigate if there are duplicates in data\n",
        "- Sanity checks on DataFrame \n",
        "\n",
        "<br>"
      ]
    },
    {
      "cell_type": "markdown",
      "metadata": {
        "id": "8jp5m7QmnCsM",
        "colab_type": "text"
      },
      "source": [
        "## **Cleaning data** "
      ]
    },
    {
      "cell_type": "markdown",
      "metadata": {
        "id": "7rrd0kYCnIYE",
        "colab_type": "text"
      },
      "source": [
        "### Data type problems"
      ]
    },
    {
      "cell_type": "code",
      "metadata": {
        "id": "NawK3x5Tk7HF",
        "colab_type": "code",
        "colab": {
          "base_uri": "https://localhost:8080/",
          "height": 467
        },
        "outputId": "940f6457-3d10-4ab7-fb57-bf0eaaca8af5"
      },
      "source": [
        "# Reminder of the DataFrame\n",
        "airbnb.head()"
      ],
      "execution_count": 80,
      "outputs": [
        {
          "output_type": "execute_result",
          "data": {
            "text/html": [
              "<div>\n",
              "<style scoped>\n",
              "    .dataframe tbody tr th:only-of-type {\n",
              "        vertical-align: middle;\n",
              "    }\n",
              "\n",
              "    .dataframe tbody tr th {\n",
              "        vertical-align: top;\n",
              "    }\n",
              "\n",
              "    .dataframe thead th {\n",
              "        text-align: right;\n",
              "    }\n",
              "</style>\n",
              "<table border=\"1\" class=\"dataframe\">\n",
              "  <thead>\n",
              "    <tr style=\"text-align: right;\">\n",
              "      <th></th>\n",
              "      <th>listing_id</th>\n",
              "      <th>name</th>\n",
              "      <th>host_id</th>\n",
              "      <th>host_name</th>\n",
              "      <th>neighbourhood_full</th>\n",
              "      <th>coordinates</th>\n",
              "      <th>room_type</th>\n",
              "      <th>price</th>\n",
              "      <th>number_of_reviews</th>\n",
              "      <th>last_review</th>\n",
              "      <th>reviews_per_month</th>\n",
              "      <th>availability_365</th>\n",
              "      <th>rating</th>\n",
              "      <th>number_of_stays</th>\n",
              "      <th>5_stars</th>\n",
              "      <th>listing_added</th>\n",
              "    </tr>\n",
              "  </thead>\n",
              "  <tbody>\n",
              "    <tr>\n",
              "      <th>0</th>\n",
              "      <td>13740704</td>\n",
              "      <td>Cozy,budget friendly, cable inc, private entra...</td>\n",
              "      <td>20583125</td>\n",
              "      <td>Michel</td>\n",
              "      <td>Brooklyn, Flatlands</td>\n",
              "      <td>(40.63222, -73.93398)</td>\n",
              "      <td>Private room</td>\n",
              "      <td>45$</td>\n",
              "      <td>10</td>\n",
              "      <td>2018-12-12</td>\n",
              "      <td>0.70</td>\n",
              "      <td>85</td>\n",
              "      <td>4.100954</td>\n",
              "      <td>12.0</td>\n",
              "      <td>0.609432</td>\n",
              "      <td>2018-06-08</td>\n",
              "    </tr>\n",
              "    <tr>\n",
              "      <th>1</th>\n",
              "      <td>22005115</td>\n",
              "      <td>Two floor apartment near Central Park</td>\n",
              "      <td>82746113</td>\n",
              "      <td>Cecilia</td>\n",
              "      <td>Manhattan, Upper West Side</td>\n",
              "      <td>(40.78761, -73.96862)</td>\n",
              "      <td>Entire home/apt</td>\n",
              "      <td>135$</td>\n",
              "      <td>1</td>\n",
              "      <td>2019-06-30</td>\n",
              "      <td>1.00</td>\n",
              "      <td>145</td>\n",
              "      <td>3.367600</td>\n",
              "      <td>1.2</td>\n",
              "      <td>0.746135</td>\n",
              "      <td>2018-12-25</td>\n",
              "    </tr>\n",
              "    <tr>\n",
              "      <th>2</th>\n",
              "      <td>21667615</td>\n",
              "      <td>Beautiful 1BR in Brooklyn Heights</td>\n",
              "      <td>78251</td>\n",
              "      <td>Leslie</td>\n",
              "      <td>Brooklyn, Brooklyn Heights</td>\n",
              "      <td>(40.7007, -73.99517)</td>\n",
              "      <td>Entire home/apt</td>\n",
              "      <td>150$</td>\n",
              "      <td>0</td>\n",
              "      <td>NaN</td>\n",
              "      <td>NaN</td>\n",
              "      <td>65</td>\n",
              "      <td>NaN</td>\n",
              "      <td>NaN</td>\n",
              "      <td>NaN</td>\n",
              "      <td>2018-08-15</td>\n",
              "    </tr>\n",
              "    <tr>\n",
              "      <th>3</th>\n",
              "      <td>6425850</td>\n",
              "      <td>Spacious, charming studio</td>\n",
              "      <td>32715865</td>\n",
              "      <td>Yelena</td>\n",
              "      <td>Manhattan, Upper West Side</td>\n",
              "      <td>(40.79169, -73.97498)</td>\n",
              "      <td>Entire home/apt</td>\n",
              "      <td>86$</td>\n",
              "      <td>5</td>\n",
              "      <td>2017-09-23</td>\n",
              "      <td>0.13</td>\n",
              "      <td>0</td>\n",
              "      <td>4.763203</td>\n",
              "      <td>6.0</td>\n",
              "      <td>0.769947</td>\n",
              "      <td>2017-03-20</td>\n",
              "    </tr>\n",
              "    <tr>\n",
              "      <th>4</th>\n",
              "      <td>22986519</td>\n",
              "      <td>Bedroom on the lively Lower East Side</td>\n",
              "      <td>154262349</td>\n",
              "      <td>Brooke</td>\n",
              "      <td>Manhattan, Lower East Side</td>\n",
              "      <td>(40.71884, -73.98354)</td>\n",
              "      <td>Private room</td>\n",
              "      <td>160$</td>\n",
              "      <td>23</td>\n",
              "      <td>2019-06-12</td>\n",
              "      <td>2.29</td>\n",
              "      <td>102</td>\n",
              "      <td>3.822591</td>\n",
              "      <td>27.6</td>\n",
              "      <td>0.649383</td>\n",
              "      <td>2020-10-23</td>\n",
              "    </tr>\n",
              "  </tbody>\n",
              "</table>\n",
              "</div>"
            ],
            "text/plain": [
              "   listing_id  ... listing_added\n",
              "0    13740704  ...    2018-06-08\n",
              "1    22005115  ...    2018-12-25\n",
              "2    21667615  ...    2018-08-15\n",
              "3     6425850  ...    2017-03-20\n",
              "4    22986519  ...    2020-10-23\n",
              "\n",
              "[5 rows x 16 columns]"
            ]
          },
          "metadata": {
            "tags": []
          },
          "execution_count": 80
        }
      ]
    },
    {
      "cell_type": "markdown",
      "metadata": {
        "id": "3Ev1mCwXniDv",
        "colab_type": "text"
      },
      "source": [
        "##### **Task 1:** Replace `coordinates` with `latitude` and `longitude` columns"
      ]
    },
    {
      "cell_type": "markdown",
      "metadata": {
        "id": "ijAlYOgglvzt",
        "colab_type": "text"
      },
      "source": [
        "To perform this task, we will use the following methods:\n",
        "\n",
        "- `.str.replace(\"\",\"\")` replaces one string in each row of a column with another\n",
        "- `.str.split(\"\")` takes in a string and lets you split a column into two based on that string\n",
        "- `.astype()` lets you convert a column from one type to another"
      ]
    },
    {
      "cell_type": "code",
      "metadata": {
        "id": "UpIxvD_onOgt",
        "colab_type": "code",
        "colab": {
          "base_uri": "https://localhost:8080/",
          "height": 118
        },
        "outputId": "a4d7ba19-3bba-48a2-b4f8-10c387e11e28"
      },
      "source": [
        "# Remove \"(\" and \")\" from coordinates\n",
        "airbnb['coordinates'] = airbnb['coordinates'].str.replace(\"(\",\"\")\n",
        "airbnb['coordinates'] = airbnb['coordinates'].str.replace(\")\",\"\")\n",
        "\n",
        "# Print the header of the column\n",
        "airbnb['coordinates'].head()"
      ],
      "execution_count": 81,
      "outputs": [
        {
          "output_type": "execute_result",
          "data": {
            "text/plain": [
              "0    40.63222, -73.93398\n",
              "1    40.78761, -73.96862\n",
              "2     40.7007, -73.99517\n",
              "3    40.79169, -73.97498\n",
              "4    40.71884, -73.98354\n",
              "Name: coordinates, dtype: object"
            ]
          },
          "metadata": {
            "tags": []
          },
          "execution_count": 81
        }
      ]
    },
    {
      "cell_type": "code",
      "metadata": {
        "id": "nvEKmdRun2Md",
        "colab_type": "code",
        "colab": {
          "base_uri": "https://localhost:8080/",
          "height": 195
        },
        "outputId": "4af73839-675b-4f86-b6a8-dc63bc954c81"
      },
      "source": [
        "# Split column into two\n",
        "\n",
        "lat_long = airbnb['coordinates'].str.split(',', expand=True)\n",
        "lat_long.head()"
      ],
      "execution_count": 82,
      "outputs": [
        {
          "output_type": "execute_result",
          "data": {
            "text/html": [
              "<div>\n",
              "<style scoped>\n",
              "    .dataframe tbody tr th:only-of-type {\n",
              "        vertical-align: middle;\n",
              "    }\n",
              "\n",
              "    .dataframe tbody tr th {\n",
              "        vertical-align: top;\n",
              "    }\n",
              "\n",
              "    .dataframe thead th {\n",
              "        text-align: right;\n",
              "    }\n",
              "</style>\n",
              "<table border=\"1\" class=\"dataframe\">\n",
              "  <thead>\n",
              "    <tr style=\"text-align: right;\">\n",
              "      <th></th>\n",
              "      <th>0</th>\n",
              "      <th>1</th>\n",
              "    </tr>\n",
              "  </thead>\n",
              "  <tbody>\n",
              "    <tr>\n",
              "      <th>0</th>\n",
              "      <td>40.63222</td>\n",
              "      <td>-73.93398</td>\n",
              "    </tr>\n",
              "    <tr>\n",
              "      <th>1</th>\n",
              "      <td>40.78761</td>\n",
              "      <td>-73.96862</td>\n",
              "    </tr>\n",
              "    <tr>\n",
              "      <th>2</th>\n",
              "      <td>40.7007</td>\n",
              "      <td>-73.99517</td>\n",
              "    </tr>\n",
              "    <tr>\n",
              "      <th>3</th>\n",
              "      <td>40.79169</td>\n",
              "      <td>-73.97498</td>\n",
              "    </tr>\n",
              "    <tr>\n",
              "      <th>4</th>\n",
              "      <td>40.71884</td>\n",
              "      <td>-73.98354</td>\n",
              "    </tr>\n",
              "  </tbody>\n",
              "</table>\n",
              "</div>"
            ],
            "text/plain": [
              "          0           1\n",
              "0  40.63222   -73.93398\n",
              "1  40.78761   -73.96862\n",
              "2   40.7007   -73.99517\n",
              "3  40.79169   -73.97498\n",
              "4  40.71884   -73.98354"
            ]
          },
          "metadata": {
            "tags": []
          },
          "execution_count": 82
        }
      ]
    },
    {
      "cell_type": "code",
      "metadata": {
        "id": "LezCKPzfn4yf",
        "colab_type": "code",
        "colab": {
          "base_uri": "https://localhost:8080/",
          "height": 467
        },
        "outputId": "3eea9206-9818-4426-d102-036b60a5d6f7"
      },
      "source": [
        "# Assign correct columns to latitude and longitude columns in airbnb\n",
        "airbnb['latitude'] = lat_long[0]\n",
        "airbnb['longitude'] = lat_long[1]\n",
        "\n",
        "# Print the header and confirm new column creation\n",
        "airbnb.head()"
      ],
      "execution_count": 83,
      "outputs": [
        {
          "output_type": "execute_result",
          "data": {
            "text/html": [
              "<div>\n",
              "<style scoped>\n",
              "    .dataframe tbody tr th:only-of-type {\n",
              "        vertical-align: middle;\n",
              "    }\n",
              "\n",
              "    .dataframe tbody tr th {\n",
              "        vertical-align: top;\n",
              "    }\n",
              "\n",
              "    .dataframe thead th {\n",
              "        text-align: right;\n",
              "    }\n",
              "</style>\n",
              "<table border=\"1\" class=\"dataframe\">\n",
              "  <thead>\n",
              "    <tr style=\"text-align: right;\">\n",
              "      <th></th>\n",
              "      <th>listing_id</th>\n",
              "      <th>name</th>\n",
              "      <th>host_id</th>\n",
              "      <th>host_name</th>\n",
              "      <th>neighbourhood_full</th>\n",
              "      <th>coordinates</th>\n",
              "      <th>room_type</th>\n",
              "      <th>price</th>\n",
              "      <th>number_of_reviews</th>\n",
              "      <th>last_review</th>\n",
              "      <th>reviews_per_month</th>\n",
              "      <th>availability_365</th>\n",
              "      <th>rating</th>\n",
              "      <th>number_of_stays</th>\n",
              "      <th>5_stars</th>\n",
              "      <th>listing_added</th>\n",
              "      <th>latitude</th>\n",
              "      <th>longitude</th>\n",
              "    </tr>\n",
              "  </thead>\n",
              "  <tbody>\n",
              "    <tr>\n",
              "      <th>0</th>\n",
              "      <td>13740704</td>\n",
              "      <td>Cozy,budget friendly, cable inc, private entra...</td>\n",
              "      <td>20583125</td>\n",
              "      <td>Michel</td>\n",
              "      <td>Brooklyn, Flatlands</td>\n",
              "      <td>40.63222, -73.93398</td>\n",
              "      <td>Private room</td>\n",
              "      <td>45$</td>\n",
              "      <td>10</td>\n",
              "      <td>2018-12-12</td>\n",
              "      <td>0.70</td>\n",
              "      <td>85</td>\n",
              "      <td>4.100954</td>\n",
              "      <td>12.0</td>\n",
              "      <td>0.609432</td>\n",
              "      <td>2018-06-08</td>\n",
              "      <td>40.63222</td>\n",
              "      <td>-73.93398</td>\n",
              "    </tr>\n",
              "    <tr>\n",
              "      <th>1</th>\n",
              "      <td>22005115</td>\n",
              "      <td>Two floor apartment near Central Park</td>\n",
              "      <td>82746113</td>\n",
              "      <td>Cecilia</td>\n",
              "      <td>Manhattan, Upper West Side</td>\n",
              "      <td>40.78761, -73.96862</td>\n",
              "      <td>Entire home/apt</td>\n",
              "      <td>135$</td>\n",
              "      <td>1</td>\n",
              "      <td>2019-06-30</td>\n",
              "      <td>1.00</td>\n",
              "      <td>145</td>\n",
              "      <td>3.367600</td>\n",
              "      <td>1.2</td>\n",
              "      <td>0.746135</td>\n",
              "      <td>2018-12-25</td>\n",
              "      <td>40.78761</td>\n",
              "      <td>-73.96862</td>\n",
              "    </tr>\n",
              "    <tr>\n",
              "      <th>2</th>\n",
              "      <td>21667615</td>\n",
              "      <td>Beautiful 1BR in Brooklyn Heights</td>\n",
              "      <td>78251</td>\n",
              "      <td>Leslie</td>\n",
              "      <td>Brooklyn, Brooklyn Heights</td>\n",
              "      <td>40.7007, -73.99517</td>\n",
              "      <td>Entire home/apt</td>\n",
              "      <td>150$</td>\n",
              "      <td>0</td>\n",
              "      <td>NaN</td>\n",
              "      <td>NaN</td>\n",
              "      <td>65</td>\n",
              "      <td>NaN</td>\n",
              "      <td>NaN</td>\n",
              "      <td>NaN</td>\n",
              "      <td>2018-08-15</td>\n",
              "      <td>40.7007</td>\n",
              "      <td>-73.99517</td>\n",
              "    </tr>\n",
              "    <tr>\n",
              "      <th>3</th>\n",
              "      <td>6425850</td>\n",
              "      <td>Spacious, charming studio</td>\n",
              "      <td>32715865</td>\n",
              "      <td>Yelena</td>\n",
              "      <td>Manhattan, Upper West Side</td>\n",
              "      <td>40.79169, -73.97498</td>\n",
              "      <td>Entire home/apt</td>\n",
              "      <td>86$</td>\n",
              "      <td>5</td>\n",
              "      <td>2017-09-23</td>\n",
              "      <td>0.13</td>\n",
              "      <td>0</td>\n",
              "      <td>4.763203</td>\n",
              "      <td>6.0</td>\n",
              "      <td>0.769947</td>\n",
              "      <td>2017-03-20</td>\n",
              "      <td>40.79169</td>\n",
              "      <td>-73.97498</td>\n",
              "    </tr>\n",
              "    <tr>\n",
              "      <th>4</th>\n",
              "      <td>22986519</td>\n",
              "      <td>Bedroom on the lively Lower East Side</td>\n",
              "      <td>154262349</td>\n",
              "      <td>Brooke</td>\n",
              "      <td>Manhattan, Lower East Side</td>\n",
              "      <td>40.71884, -73.98354</td>\n",
              "      <td>Private room</td>\n",
              "      <td>160$</td>\n",
              "      <td>23</td>\n",
              "      <td>2019-06-12</td>\n",
              "      <td>2.29</td>\n",
              "      <td>102</td>\n",
              "      <td>3.822591</td>\n",
              "      <td>27.6</td>\n",
              "      <td>0.649383</td>\n",
              "      <td>2020-10-23</td>\n",
              "      <td>40.71884</td>\n",
              "      <td>-73.98354</td>\n",
              "    </tr>\n",
              "  </tbody>\n",
              "</table>\n",
              "</div>"
            ],
            "text/plain": [
              "   listing_id  ...   longitude\n",
              "0    13740704  ...   -73.93398\n",
              "1    22005115  ...   -73.96862\n",
              "2    21667615  ...   -73.99517\n",
              "3     6425850  ...   -73.97498\n",
              "4    22986519  ...   -73.98354\n",
              "\n",
              "[5 rows x 18 columns]"
            ]
          },
          "metadata": {
            "tags": []
          },
          "execution_count": 83
        }
      ]
    },
    {
      "cell_type": "code",
      "metadata": {
        "id": "toTHDWjFosXs",
        "colab_type": "code",
        "colab": {
          "base_uri": "https://localhost:8080/",
          "height": 336
        },
        "outputId": "5a20eb30-e948-4f99-b97d-76727759e239"
      },
      "source": [
        "# Print out dtypes again\n",
        "airbnb.dtypes"
      ],
      "execution_count": 84,
      "outputs": [
        {
          "output_type": "execute_result",
          "data": {
            "text/plain": [
              "listing_id              int64\n",
              "name                   object\n",
              "host_id                 int64\n",
              "host_name              object\n",
              "neighbourhood_full     object\n",
              "coordinates            object\n",
              "room_type              object\n",
              "price                  object\n",
              "number_of_reviews       int64\n",
              "last_review            object\n",
              "reviews_per_month     float64\n",
              "availability_365        int64\n",
              "rating                float64\n",
              "number_of_stays       float64\n",
              "5_stars               float64\n",
              "listing_added          object\n",
              "latitude               object\n",
              "longitude              object\n",
              "dtype: object"
            ]
          },
          "metadata": {
            "tags": []
          },
          "execution_count": 84
        }
      ]
    },
    {
      "cell_type": "code",
      "metadata": {
        "id": "8zDpaIqDoeNl",
        "colab_type": "code",
        "colab": {
          "base_uri": "https://localhost:8080/",
          "height": 336
        },
        "outputId": "674a5ab3-5382-4713-dbaa-c8e93ec3a787"
      },
      "source": [
        "# Convert latitude and longitude to float\n",
        "airbnb['latitude'] = airbnb['latitude'].astype('float')\n",
        "airbnb['longitude'] = airbnb['longitude'].astype('float')\n",
        "\n",
        "# Print dtypes again\n",
        "airbnb.dtypes"
      ],
      "execution_count": 85,
      "outputs": [
        {
          "output_type": "execute_result",
          "data": {
            "text/plain": [
              "listing_id              int64\n",
              "name                   object\n",
              "host_id                 int64\n",
              "host_name              object\n",
              "neighbourhood_full     object\n",
              "coordinates            object\n",
              "room_type              object\n",
              "price                  object\n",
              "number_of_reviews       int64\n",
              "last_review            object\n",
              "reviews_per_month     float64\n",
              "availability_365        int64\n",
              "rating                float64\n",
              "number_of_stays       float64\n",
              "5_stars               float64\n",
              "listing_added          object\n",
              "latitude              float64\n",
              "longitude             float64\n",
              "dtype: object"
            ]
          },
          "metadata": {
            "tags": []
          },
          "execution_count": 85
        }
      ]
    },
    {
      "cell_type": "code",
      "metadata": {
        "id": "aKZGhJQRo8mp",
        "colab_type": "code",
        "colab": {}
      },
      "source": [
        "# Drop coordinates column\n",
        "airbnb.drop('coordinates', axis=1, inplace=True)"
      ],
      "execution_count": 0,
      "outputs": []
    },
    {
      "cell_type": "markdown",
      "metadata": {
        "id": "bkgGPHpdpMEW",
        "colab_type": "text"
      },
      "source": [
        "##### **Task 2:** Remove `$` from `price` and convert it to `float`"
      ]
    },
    {
      "cell_type": "markdown",
      "metadata": {
        "id": "9jkKFojOmJy5",
        "colab_type": "text"
      },
      "source": [
        "To perform this task, we will be using the following methods:\n",
        "\n",
        "- `.str.strip()` which removes a specified string from each row in a column\n",
        "- `.astype()`"
      ]
    },
    {
      "cell_type": "code",
      "metadata": {
        "id": "gHIB5d-1pdIO",
        "colab_type": "code",
        "colab": {
          "base_uri": "https://localhost:8080/",
          "height": 118
        },
        "outputId": "c1b9807a-509e-4cef-c19c-c71e2c51a20d"
      },
      "source": [
        "# Remove $ from price before conversion to float\n",
        "airbnb['price'] = airbnb['price'].str.strip('$')\n",
        "\n",
        "# Print header to make sure change was done\n",
        "airbnb['price'].head()"
      ],
      "execution_count": 87,
      "outputs": [
        {
          "output_type": "execute_result",
          "data": {
            "text/plain": [
              "0     45\n",
              "1    135\n",
              "2    150\n",
              "3     86\n",
              "4    160\n",
              "Name: price, dtype: object"
            ]
          },
          "metadata": {
            "tags": []
          },
          "execution_count": 87
        }
      ]
    },
    {
      "cell_type": "code",
      "metadata": {
        "id": "Gz4Q2xoGp4AJ",
        "colab_type": "code",
        "colab": {
          "base_uri": "https://localhost:8080/",
          "height": 34
        },
        "outputId": "6539c854-2612-4f2f-911a-79b49f586c97"
      },
      "source": [
        "# Convert price to float\n",
        "airbnb['price'] = airbnb['price'].astype('float')\n",
        "\n",
        "# Calculate mean of price after conversion\n",
        "airbnb.price.mean()"
      ],
      "execution_count": 88,
      "outputs": [
        {
          "output_type": "execute_result",
          "data": {
            "text/plain": [
              "150.90512217564665"
            ]
          },
          "metadata": {
            "tags": []
          },
          "execution_count": 88
        }
      ]
    },
    {
      "cell_type": "code",
      "metadata": {
        "id": "mSLxGradqVix",
        "colab_type": "code",
        "colab": {
          "base_uri": "https://localhost:8080/",
          "height": 279
        },
        "outputId": "3a2fad94-7c67-4eff-b84b-92177fd8d32c"
      },
      "source": [
        "# Visualize distribution of prices\n",
        "sns.distplot(airbnb['price'], bins=20)\n",
        "plt.show()"
      ],
      "execution_count": 89,
      "outputs": [
        {
          "output_type": "display_data",
          "data": {
            "image/png": "[encoded data removed]",
            "text/plain": [
              "<Figure size 432x288 with 1 Axes>"
            ]
          },
          "metadata": {
            "tags": [],
            "needs_background": "light"
          }
        }
      ]
    },
    {
      "cell_type": "markdown",
      "metadata": {
        "id": "HZKW5mWvqg2Z",
        "colab_type": "text"
      },
      "source": [
        "##### **Task 3:** Convert `listing_added` and `last_review` columns to `datetime`"
      ]
    },
    {
      "cell_type": "markdown",
      "metadata": {
        "id": "9ijLZ4zwmWNS",
        "colab_type": "text"
      },
      "source": [
        "To perform this task, we will use the following functions:\n",
        "\n",
        "- `pd.to_datetime(format = \"\")`\n",
        "  - `format` takes in the desired date format `\"%Y-%m-%d\"`"
      ]
    },
    {
      "cell_type": "code",
      "metadata": {
        "id": "cggG5Bucqc6T",
        "colab_type": "code",
        "colab": {
          "base_uri": "https://localhost:8080/",
          "height": 195
        },
        "outputId": "15cc7d21-1588-4d4b-bf8a-7f3448988848"
      },
      "source": [
        "# Print header of two columns\n",
        "airbnb[['listing_added', 'last_review']].head()"
      ],
      "execution_count": 90,
      "outputs": [
        {
          "output_type": "execute_result",
          "data": {
            "text/html": [
              "<div>\n",
              "<style scoped>\n",
              "    .dataframe tbody tr th:only-of-type {\n",
              "        vertical-align: middle;\n",
              "    }\n",
              "\n",
              "    .dataframe tbody tr th {\n",
              "        vertical-align: top;\n",
              "    }\n",
              "\n",
              "    .dataframe thead th {\n",
              "        text-align: right;\n",
              "    }\n",
              "</style>\n",
              "<table border=\"1\" class=\"dataframe\">\n",
              "  <thead>\n",
              "    <tr style=\"text-align: right;\">\n",
              "      <th></th>\n",
              "      <th>listing_added</th>\n",
              "      <th>last_review</th>\n",
              "    </tr>\n",
              "  </thead>\n",
              "  <tbody>\n",
              "    <tr>\n",
              "      <th>0</th>\n",
              "      <td>2018-06-08</td>\n",
              "      <td>2018-12-12</td>\n",
              "    </tr>\n",
              "    <tr>\n",
              "      <th>1</th>\n",
              "      <td>2018-12-25</td>\n",
              "      <td>2019-06-30</td>\n",
              "    </tr>\n",
              "    <tr>\n",
              "      <th>2</th>\n",
              "      <td>2018-08-15</td>\n",
              "      <td>NaN</td>\n",
              "    </tr>\n",
              "    <tr>\n",
              "      <th>3</th>\n",
              "      <td>2017-03-20</td>\n",
              "      <td>2017-09-23</td>\n",
              "    </tr>\n",
              "    <tr>\n",
              "      <th>4</th>\n",
              "      <td>2020-10-23</td>\n",
              "      <td>2019-06-12</td>\n",
              "    </tr>\n",
              "  </tbody>\n",
              "</table>\n",
              "</div>"
            ],
            "text/plain": [
              "  listing_added last_review\n",
              "0    2018-06-08  2018-12-12\n",
              "1    2018-12-25  2019-06-30\n",
              "2    2018-08-15         NaN\n",
              "3    2017-03-20  2017-09-23\n",
              "4    2020-10-23  2019-06-12"
            ]
          },
          "metadata": {
            "tags": []
          },
          "execution_count": 90
        }
      ]
    },
    {
      "cell_type": "code",
      "metadata": {
        "id": "9lVyr6-Gs19z",
        "colab_type": "code",
        "colab": {}
      },
      "source": [
        "# Convert both columns to datetime\n",
        "airbnb['listing_added'] = pd.to_datetime(airbnb['listing_added'], format = '%Y-%m-%d')\n",
        "airbnb['last_review'] = pd.to_datetime(airbnb['last_review'], format = '%Y-%m-%d')"
      ],
      "execution_count": 0,
      "outputs": []
    },
    {
      "cell_type": "code",
      "metadata": {
        "id": "jlVDTYUvtG1f",
        "colab_type": "code",
        "colab": {
          "base_uri": "https://localhost:8080/",
          "height": 168
        },
        "outputId": "978145dc-48fc-4a4a-cbc9-b299f1afcc14"
      },
      "source": [
        "# Print header and datatypes of both columns again\n",
        "print(airbnb[['listing_added', 'last_review']].head())\n",
        "print(airbnb[['listing_added', 'last_review']].dtypes)"
      ],
      "execution_count": 92,
      "outputs": [
        {
          "output_type": "stream",
          "text": [
            "  listing_added last_review\n",
            "0    2018-06-08  2018-12-12\n",
            "1    2018-12-25  2019-06-30\n",
            "2    2018-08-15         NaT\n",
            "3    2017-03-20  2017-09-23\n",
            "4    2020-10-23  2019-06-12\n",
            "listing_added    datetime64[ns]\n",
            "last_review      datetime64[ns]\n",
            "dtype: object\n"
          ],
          "name": "stdout"
        }
      ]
    },
    {
      "cell_type": "markdown",
      "metadata": {
        "id": "eQzkbJPV9rf5",
        "colab_type": "text"
      },
      "source": [
        ""
      ]
    },
    {
      "cell_type": "markdown",
      "metadata": {
        "id": "SvMs1y6gucs6",
        "colab_type": "text"
      },
      "source": [
        "### Text and categorical data problems"
      ]
    },
    {
      "cell_type": "markdown",
      "metadata": {
        "id": "Z19JboeNukIS",
        "colab_type": "text"
      },
      "source": [
        "##### **Task 4:** We need to collapse `room_type` into correct categories"
      ]
    },
    {
      "cell_type": "markdown",
      "metadata": {
        "id": "85lW-8k_msaY",
        "colab_type": "text"
      },
      "source": [
        "To perform this task, we will be using the following methods:\n",
        "\n",
        "- `.str.lower()` to lowercase all rows in a string column\n",
        "- `.str.strip()` to remove all white spaces of each row in a string column\n",
        "- `.replace()` to replace values in a column with another"
      ]
    },
    {
      "cell_type": "code",
      "metadata": {
        "id": "hPJHPWB4tOlP",
        "colab_type": "code",
        "colab": {
          "base_uri": "https://localhost:8080/",
          "height": 50
        },
        "outputId": "41c2d94d-1998-45b1-fc5e-f92f2347d01b"
      },
      "source": [
        "# Print unique values of `room_type`\n",
        "airbnb.room_type.unique()"
      ],
      "execution_count": 93,
      "outputs": [
        {
          "output_type": "execute_result",
          "data": {
            "text/plain": [
              "array(['Private room', 'Entire home/apt', 'Private', 'Shared room',\n",
              "       'PRIVATE ROOM', 'home', '   Shared room      '], dtype=object)"
            ]
          },
          "metadata": {
            "tags": []
          },
          "execution_count": 93
        }
      ]
    },
    {
      "cell_type": "code",
      "metadata": {
        "id": "HwnSnaPEvncy",
        "colab_type": "code",
        "colab": {
          "base_uri": "https://localhost:8080/",
          "height": 50
        },
        "outputId": "50499f62-208b-4893-af86-4719fa3d5716"
      },
      "source": [
        "# Deal with capitalized values\n",
        "airbnb['room_type'] = airbnb['room_type'].str.lower()\n",
        "airbnb['room_type'].unique()"
      ],
      "execution_count": 94,
      "outputs": [
        {
          "output_type": "execute_result",
          "data": {
            "text/plain": [
              "array(['private room', 'entire home/apt', 'private', 'shared room',\n",
              "       'home', '   shared room      '], dtype=object)"
            ]
          },
          "metadata": {
            "tags": []
          },
          "execution_count": 94
        }
      ]
    },
    {
      "cell_type": "code",
      "metadata": {
        "id": "u47Ws-GtvvrC",
        "colab_type": "code",
        "colab": {
          "base_uri": "https://localhost:8080/",
          "height": 50
        },
        "outputId": "50803691-1286-4b4c-b839-fa3c2ebd2e48"
      },
      "source": [
        "# Deal with trailing spaces\n",
        "airbnb['room_type'] = airbnb['room_type'].str.strip()\n",
        "airbnb['room_type'].unique()"
      ],
      "execution_count": 95,
      "outputs": [
        {
          "output_type": "execute_result",
          "data": {
            "text/plain": [
              "array(['private room', 'entire home/apt', 'private', 'shared room',\n",
              "       'home'], dtype=object)"
            ]
          },
          "metadata": {
            "tags": []
          },
          "execution_count": 95
        }
      ]
    },
    {
      "cell_type": "code",
      "metadata": {
        "id": "tYyyzZ2pwMtx",
        "colab_type": "code",
        "colab": {
          "base_uri": "https://localhost:8080/",
          "height": 34
        },
        "outputId": "6d86d6d5-0423-40f0-bd1a-725794cf5847"
      },
      "source": [
        "# Replace values to 'Shared room', 'Entire place', 'Private room' and 'Hotel room' (if applicable).\n",
        "\n",
        "mappings = {\"private room\": \"Private Room\",\n",
        "            \"private\": \"Private Room\",\n",
        "            \"entire home/apt\": \"Entire Place\",\n",
        "            \"shared room\": \"Shared Room\",\n",
        "            \"home\": \"Entire Place\"}\n",
        "\n",
        "# Replace values and collapse data\n",
        "airbnb['room_type'] = airbnb['room_type'].replace(mappings)\n",
        "airbnb['room_type'].unique()"
      ],
      "execution_count": 96,
      "outputs": [
        {
          "output_type": "execute_result",
          "data": {
            "text/plain": [
              "array(['Private Room', 'Entire Place', 'Shared Room'], dtype=object)"
            ]
          },
          "metadata": {
            "tags": []
          },
          "execution_count": 96
        }
      ]
    },
    {
      "cell_type": "markdown",
      "metadata": {
        "id": "VA_2KMIkxjhL",
        "colab_type": "text"
      },
      "source": [
        "##### **Task 5:** Divide `neighbourhood_full` into 2 columns and making sure they are clean"
      ]
    },
    {
      "cell_type": "code",
      "metadata": {
        "id": "Nc3u9b57xKOu",
        "colab_type": "code",
        "colab": {
          "base_uri": "https://localhost:8080/",
          "height": 118
        },
        "outputId": "d8ad02ab-6c73-4585-d429-13c7f9a1c0e5"
      },
      "source": [
        "# Print header of column\n",
        "airbnb['neighbourhood_full'].head()"
      ],
      "execution_count": 97,
      "outputs": [
        {
          "output_type": "execute_result",
          "data": {
            "text/plain": [
              "0           Brooklyn, Flatlands\n",
              "1    Manhattan, Upper West Side\n",
              "2    Brooklyn, Brooklyn Heights\n",
              "3    Manhattan, Upper West Side\n",
              "4    Manhattan, Lower East Side\n",
              "Name: neighbourhood_full, dtype: object"
            ]
          },
          "metadata": {
            "tags": []
          },
          "execution_count": 97
        }
      ]
    },
    {
      "cell_type": "code",
      "metadata": {
        "id": "88O9T3WYxreo",
        "colab_type": "code",
        "colab": {
          "base_uri": "https://localhost:8080/",
          "height": 195
        },
        "outputId": "225981a5-70a7-4a6f-c996-33287a3835c8"
      },
      "source": [
        "# Split neighbourhood_full\n",
        "borough_neighbourhood = airbnb['neighbourhood_full'].str.split(',', expand=True)\n",
        "borough_neighbourhood.head()"
      ],
      "execution_count": 98,
      "outputs": [
        {
          "output_type": "execute_result",
          "data": {
            "text/html": [
              "<div>\n",
              "<style scoped>\n",
              "    .dataframe tbody tr th:only-of-type {\n",
              "        vertical-align: middle;\n",
              "    }\n",
              "\n",
              "    .dataframe tbody tr th {\n",
              "        vertical-align: top;\n",
              "    }\n",
              "\n",
              "    .dataframe thead th {\n",
              "        text-align: right;\n",
              "    }\n",
              "</style>\n",
              "<table border=\"1\" class=\"dataframe\">\n",
              "  <thead>\n",
              "    <tr style=\"text-align: right;\">\n",
              "      <th></th>\n",
              "      <th>0</th>\n",
              "      <th>1</th>\n",
              "    </tr>\n",
              "  </thead>\n",
              "  <tbody>\n",
              "    <tr>\n",
              "      <th>0</th>\n",
              "      <td>Brooklyn</td>\n",
              "      <td>Flatlands</td>\n",
              "    </tr>\n",
              "    <tr>\n",
              "      <th>1</th>\n",
              "      <td>Manhattan</td>\n",
              "      <td>Upper West Side</td>\n",
              "    </tr>\n",
              "    <tr>\n",
              "      <th>2</th>\n",
              "      <td>Brooklyn</td>\n",
              "      <td>Brooklyn Heights</td>\n",
              "    </tr>\n",
              "    <tr>\n",
              "      <th>3</th>\n",
              "      <td>Manhattan</td>\n",
              "      <td>Upper West Side</td>\n",
              "    </tr>\n",
              "    <tr>\n",
              "      <th>4</th>\n",
              "      <td>Manhattan</td>\n",
              "      <td>Lower East Side</td>\n",
              "    </tr>\n",
              "  </tbody>\n",
              "</table>\n",
              "</div>"
            ],
            "text/plain": [
              "           0                  1\n",
              "0   Brooklyn          Flatlands\n",
              "1  Manhattan    Upper West Side\n",
              "2   Brooklyn   Brooklyn Heights\n",
              "3  Manhattan    Upper West Side\n",
              "4  Manhattan    Lower East Side"
            ]
          },
          "metadata": {
            "tags": []
          },
          "execution_count": 98
        }
      ]
    },
    {
      "cell_type": "code",
      "metadata": {
        "id": "mmKhwDxkypDJ",
        "colab_type": "code",
        "colab": {
          "base_uri": "https://localhost:8080/",
          "height": 195
        },
        "outputId": "5a05ec6d-76a3-41a7-fb15-908b1e542021"
      },
      "source": [
        "# Create borough and neighbourhood columns\n",
        "airbnb['borough'] = borough_neighbourhood[0]\n",
        "airbnb['neighbourhood'] = borough_neighbourhood[1]\n",
        "\n",
        "# Print header of columns\n",
        "airbnb[['neighbourhood_full', 'borough', 'neighbourhood']].head()"
      ],
      "execution_count": 99,
      "outputs": [
        {
          "output_type": "execute_result",
          "data": {
            "text/html": [
              "<div>\n",
              "<style scoped>\n",
              "    .dataframe tbody tr th:only-of-type {\n",
              "        vertical-align: middle;\n",
              "    }\n",
              "\n",
              "    .dataframe tbody tr th {\n",
              "        vertical-align: top;\n",
              "    }\n",
              "\n",
              "    .dataframe thead th {\n",
              "        text-align: right;\n",
              "    }\n",
              "</style>\n",
              "<table border=\"1\" class=\"dataframe\">\n",
              "  <thead>\n",
              "    <tr style=\"text-align: right;\">\n",
              "      <th></th>\n",
              "      <th>neighbourhood_full</th>\n",
              "      <th>borough</th>\n",
              "      <th>neighbourhood</th>\n",
              "    </tr>\n",
              "  </thead>\n",
              "  <tbody>\n",
              "    <tr>\n",
              "      <th>0</th>\n",
              "      <td>Brooklyn, Flatlands</td>\n",
              "      <td>Brooklyn</td>\n",
              "      <td>Flatlands</td>\n",
              "    </tr>\n",
              "    <tr>\n",
              "      <th>1</th>\n",
              "      <td>Manhattan, Upper West Side</td>\n",
              "      <td>Manhattan</td>\n",
              "      <td>Upper West Side</td>\n",
              "    </tr>\n",
              "    <tr>\n",
              "      <th>2</th>\n",
              "      <td>Brooklyn, Brooklyn Heights</td>\n",
              "      <td>Brooklyn</td>\n",
              "      <td>Brooklyn Heights</td>\n",
              "    </tr>\n",
              "    <tr>\n",
              "      <th>3</th>\n",
              "      <td>Manhattan, Upper West Side</td>\n",
              "      <td>Manhattan</td>\n",
              "      <td>Upper West Side</td>\n",
              "    </tr>\n",
              "    <tr>\n",
              "      <th>4</th>\n",
              "      <td>Manhattan, Lower East Side</td>\n",
              "      <td>Manhattan</td>\n",
              "      <td>Lower East Side</td>\n",
              "    </tr>\n",
              "  </tbody>\n",
              "</table>\n",
              "</div>"
            ],
            "text/plain": [
              "           neighbourhood_full    borough      neighbourhood\n",
              "0         Brooklyn, Flatlands   Brooklyn          Flatlands\n",
              "1  Manhattan, Upper West Side  Manhattan    Upper West Side\n",
              "2  Brooklyn, Brooklyn Heights   Brooklyn   Brooklyn Heights\n",
              "3  Manhattan, Upper West Side  Manhattan    Upper West Side\n",
              "4  Manhattan, Lower East Side  Manhattan    Lower East Side"
            ]
          },
          "metadata": {
            "tags": []
          },
          "execution_count": 99
        }
      ]
    },
    {
      "cell_type": "code",
      "metadata": {
        "id": "SnflzqkwzCnt",
        "colab_type": "code",
        "colab": {}
      },
      "source": [
        "# Drop neighbourhood_full column\n",
        "# axis = 1 specifies it's a column\n",
        "airbnb.drop('neighbourhood_full', axis=1, inplace=True)"
      ],
      "execution_count": 0,
      "outputs": []
    },
    {
      "cell_type": "code",
      "metadata": {
        "id": "NJqrhMlNzNxk",
        "colab_type": "code",
        "colab": {
          "base_uri": "https://localhost:8080/",
          "height": 806
        },
        "outputId": "6661841c-0da4-4ea6-f6b7-b035214b609b"
      },
      "source": [
        "# Print out unique values of borough and neighbourhood\n",
        "print(airbnb['borough'].unique())\n",
        "print(airbnb['neighbourhood'].unique())"
      ],
      "execution_count": 101,
      "outputs": [
        {
          "output_type": "stream",
          "text": [
            "['Brooklyn' 'Manhattan' 'Queens' 'Bronx' 'Staten Island']\n",
            "[' Flatlands' ' Upper West Side' ' Brooklyn Heights' ' Lower East Side'\n",
            " ' Greenwich Village' ' Harlem' ' Sheepshead Bay' ' Theater District'\n",
            " ' Bushwick' ' Laurelton' ' Mott Haven' ' Flushing' ' Crown Heights'\n",
            " ' Midtown' ' Financial District' ' East Village' ' Park Slope'\n",
            " ' Washington Heights' ' Williamsburg' ' Chelsea' ' Bedford-Stuyvesant'\n",
            " ' Gowanus' ' Upper East Side' ' Ditmars Steinway' ' Cypress Hills'\n",
            " \" Hell's Kitchen\" ' Ridgewood' ' Marble Hill' ' Kips Bay'\n",
            " ' Prospect Heights' ' East New York' ' Concord' ' Stapleton' ' Astoria'\n",
            " ' East Harlem' ' Sunnyside' ' Gramercy' ' Prospect-Lefferts Gardens'\n",
            " ' Sunset Park' ' Forest Hills' ' Windsor Terrace' ' Clinton Hill'\n",
            " ' Murray Hill' ' Flatiron District' ' Greenpoint' ' East Flatbush'\n",
            " ' Tribeca' ' Woodhaven' ' Fort Greene' ' Inwood' ' Chinatown'\n",
            " ' Rockaway Beach' ' Woodside' ' Bayside' ' Bensonhurst' ' SoHo'\n",
            " ' Red Hook' ' West Village' ' South Slope' ' Richmond Hill' ' Jamaica'\n",
            " ' Boerum Hill' ' St. George' ' Clason Point' ' College Point'\n",
            " ' Vinegar Hill' ' Rego Park' ' East Elmhurst' ' Kensington'\n",
            " ' Roosevelt Island' ' Ozone Park' ' Arverne' ' Fordham' ' Wakefield'\n",
            " ' Port Morris' ' Flatbush' ' Elmhurst' ' Bay Ridge' ' Canarsie'\n",
            " ' Little Italy' ' Civic Center' ' St. Albans' ' Morningside Heights'\n",
            " ' Morrisania' ' Two Bridges' ' Concourse' ' Downtown Brooklyn'\n",
            " ' Queens Village' ' Fieldston' ' Allerton' ' Grymes Hill'\n",
            " ' Carroll Gardens' ' Kingsbridge' ' Belle Harbor' ' NoHo' ' Maspeth'\n",
            " ' Borough Park' ' Midwood' ' Fresh Meadows' ' Battery Park City'\n",
            " ' Pelham Bay' ' Van Nest' ' Long Island City' ' Williamsbridge' ' Nolita'\n",
            " ' Kew Gardens' ' Corona' ' Middle Village' ' Jackson Heights'\n",
            " ' Gravesend' ' New Dorp Beach' ' Brighton Beach' ' Belmont'\n",
            " ' Eltingville' ' South Ozone Park' ' Stuyvesant Town' ' Far Rockaway'\n",
            " ' Longwood' ' Glendale' ' Dongan Hills' ' Hollis' ' Columbia St'\n",
            " ' Tompkinsville' ' Springfield Gardens' ' Concourse Village'\n",
            " ' Throgs Neck' ' Cobble Hill' ' South Beach' ' North Riverdale'\n",
            " ' Rosedale' ' Mount Hope' ' Edenwald' ' Parkchester' ' Mill Basin'\n",
            " ' Brownsville' ' Fort Hamilton' ' Howard Beach' ' Claremont Village'\n",
            " ' Pelham Gardens' ' Westchester Square' ' Kew Gardens Hills' ' Arrochar'\n",
            " ' Edgemere' ' Shore Acres' ' Dyker Heights' ' Mount Eden'\n",
            " ' Randall Manor' ' Jamaica Hills' ' Norwood' ' Tottenville'\n",
            " ' Cambria Heights' ' East Morrisania' ' Soundview' ' Morris Park'\n",
            " ' Bronxdale' ' Bellerose' ' Navy Yard' ' Unionport' ' DUMBO' ' Bayswater'\n",
            " ' Tremont' ' Highbridge' ' Graniteville' ' Baychester' ' Morris Heights'\n",
            " ' Coney Island' ' Briarwood' ' West Farms' \" Prince's Bay\"\n",
            " ' University Heights' ' Clifton' ' Bay Terrace' ' City Island'\n",
            " ' West Brighton' ' Douglaston' ' Schuylerville' ' Port Richmond'\n",
            " ' Oakwood' ' Westerleigh' ' Little Neck' ' Holliswood' ' Bergen Beach'\n",
            " ' Castle Hill' ' Olinville' ' Rosebank' ' Melrose' ' Whitestone'\n",
            " ' Grant City' ' Riverdale' ' Neponsit' ' Bath Beach' ' Mariners Harbor'\n",
            " ' Hunts Point' ' Great Kills' ' Midland Beach' ' Eastchester'\n",
            " ' Jamaica Estates' ' New Springville']\n"
          ],
          "name": "stdout"
        }
      ]
    },
    {
      "cell_type": "code",
      "metadata": {
        "id": "sIC_fuLRz-en",
        "colab_type": "code",
        "colab": {
          "base_uri": "https://localhost:8080/",
          "height": 840
        },
        "outputId": "c91df0b2-4036-49b4-d206-3b2670140cad"
      },
      "source": [
        "# Strip white space from neighbourhood column\n",
        "airbnb['neighbourhood'] = airbnb['neighbourhood'].str.strip()\n",
        "\n",
        "# Print unique values again\n",
        "airbnb['neighbourhood'].unique()"
      ],
      "execution_count": 102,
      "outputs": [
        {
          "output_type": "execute_result",
          "data": {
            "text/plain": [
              "array(['Flatlands', 'Upper West Side', 'Brooklyn Heights',\n",
              "       'Lower East Side', 'Greenwich Village', 'Harlem', 'Sheepshead Bay',\n",
              "       'Theater District', 'Bushwick', 'Laurelton', 'Mott Haven',\n",
              "       'Flushing', 'Crown Heights', 'Midtown', 'Financial District',\n",
              "       'East Village', 'Park Slope', 'Washington Heights', 'Williamsburg',\n",
              "       'Chelsea', 'Bedford-Stuyvesant', 'Gowanus', 'Upper East Side',\n",
              "       'Ditmars Steinway', 'Cypress Hills', \"Hell's Kitchen\", 'Ridgewood',\n",
              "       'Marble Hill', 'Kips Bay', 'Prospect Heights', 'East New York',\n",
              "       'Concord', 'Stapleton', 'Astoria', 'East Harlem', 'Sunnyside',\n",
              "       'Gramercy', 'Prospect-Lefferts Gardens', 'Sunset Park',\n",
              "       'Forest Hills', 'Windsor Terrace', 'Clinton Hill', 'Murray Hill',\n",
              "       'Flatiron District', 'Greenpoint', 'East Flatbush', 'Tribeca',\n",
              "       'Woodhaven', 'Fort Greene', 'Inwood', 'Chinatown',\n",
              "       'Rockaway Beach', 'Woodside', 'Bayside', 'Bensonhurst', 'SoHo',\n",
              "       'Red Hook', 'West Village', 'South Slope', 'Richmond Hill',\n",
              "       'Jamaica', 'Boerum Hill', 'St. George', 'Clason Point',\n",
              "       'College Point', 'Vinegar Hill', 'Rego Park', 'East Elmhurst',\n",
              "       'Kensington', 'Roosevelt Island', 'Ozone Park', 'Arverne',\n",
              "       'Fordham', 'Wakefield', 'Port Morris', 'Flatbush', 'Elmhurst',\n",
              "       'Bay Ridge', 'Canarsie', 'Little Italy', 'Civic Center',\n",
              "       'St. Albans', 'Morningside Heights', 'Morrisania', 'Two Bridges',\n",
              "       'Concourse', 'Downtown Brooklyn', 'Queens Village', 'Fieldston',\n",
              "       'Allerton', 'Grymes Hill', 'Carroll Gardens', 'Kingsbridge',\n",
              "       'Belle Harbor', 'NoHo', 'Maspeth', 'Borough Park', 'Midwood',\n",
              "       'Fresh Meadows', 'Battery Park City', 'Pelham Bay', 'Van Nest',\n",
              "       'Long Island City', 'Williamsbridge', 'Nolita', 'Kew Gardens',\n",
              "       'Corona', 'Middle Village', 'Jackson Heights', 'Gravesend',\n",
              "       'New Dorp Beach', 'Brighton Beach', 'Belmont', 'Eltingville',\n",
              "       'South Ozone Park', 'Stuyvesant Town', 'Far Rockaway', 'Longwood',\n",
              "       'Glendale', 'Dongan Hills', 'Hollis', 'Columbia St',\n",
              "       'Tompkinsville', 'Springfield Gardens', 'Concourse Village',\n",
              "       'Throgs Neck', 'Cobble Hill', 'South Beach', 'North Riverdale',\n",
              "       'Rosedale', 'Mount Hope', 'Edenwald', 'Parkchester', 'Mill Basin',\n",
              "       'Brownsville', 'Fort Hamilton', 'Howard Beach',\n",
              "       'Claremont Village', 'Pelham Gardens', 'Westchester Square',\n",
              "       'Kew Gardens Hills', 'Arrochar', 'Edgemere', 'Shore Acres',\n",
              "       'Dyker Heights', 'Mount Eden', 'Randall Manor', 'Jamaica Hills',\n",
              "       'Norwood', 'Tottenville', 'Cambria Heights', 'East Morrisania',\n",
              "       'Soundview', 'Morris Park', 'Bronxdale', 'Bellerose', 'Navy Yard',\n",
              "       'Unionport', 'DUMBO', 'Bayswater', 'Tremont', 'Highbridge',\n",
              "       'Graniteville', 'Baychester', 'Morris Heights', 'Coney Island',\n",
              "       'Briarwood', 'West Farms', \"Prince's Bay\", 'University Heights',\n",
              "       'Clifton', 'Bay Terrace', 'City Island', 'West Brighton',\n",
              "       'Douglaston', 'Schuylerville', 'Port Richmond', 'Oakwood',\n",
              "       'Westerleigh', 'Little Neck', 'Holliswood', 'Bergen Beach',\n",
              "       'Castle Hill', 'Olinville', 'Rosebank', 'Melrose', 'Whitestone',\n",
              "       'Grant City', 'Riverdale', 'Neponsit', 'Bath Beach',\n",
              "       'Mariners Harbor', 'Hunts Point', 'Great Kills', 'Midland Beach',\n",
              "       'Eastchester', 'Jamaica Estates', 'New Springville'], dtype=object)"
            ]
          },
          "metadata": {
            "tags": []
          },
          "execution_count": 102
        }
      ]
    },
    {
      "cell_type": "markdown",
      "metadata": {
        "id": "iFUQqbRp1lil",
        "colab_type": "text"
      },
      "source": [
        "##### **Task 6:** Make sure we set the correct maximum for `rating` column out of range values"
      ]
    },
    {
      "cell_type": "code",
      "metadata": {
        "id": "Bacl6XSU1zyD",
        "colab_type": "code",
        "colab": {
          "base_uri": "https://localhost:8080/",
          "height": 279
        },
        "outputId": "aa146994-de40-4bca-a939-ca5849c8ece9"
      },
      "source": [
        "# Visualize the rating column again\n",
        "sns.distplot(airbnb['rating'], bins=20)\n",
        "plt.show()"
      ],
      "execution_count": 103,
      "outputs": [
        {
          "output_type": "display_data",
          "data": {
            "image/png": "[encoded data removed]",
            "text/plain": [
              "<Figure size 432x288 with 1 Axes>"
            ]
          },
          "metadata": {
            "tags": [],
            "needs_background": "light"
          }
        }
      ]
    },
    {
      "cell_type": "code",
      "metadata": {
        "id": "toWXIeUx2C0o",
        "colab_type": "code",
        "colab": {
          "base_uri": "https://localhost:8080/",
          "height": 341
        },
        "outputId": "da5ebe09-11be-4a79-dc2b-bd24fa38a566"
      },
      "source": [
        "# Isolate rows of rating > 5.0\n",
        "airbnb[airbnb['rating'] > 5.0]"
      ],
      "execution_count": 104,
      "outputs": [
        {
          "output_type": "execute_result",
          "data": {
            "text/html": [
              "<div>\n",
              "<style scoped>\n",
              "    .dataframe tbody tr th:only-of-type {\n",
              "        vertical-align: middle;\n",
              "    }\n",
              "\n",
              "    .dataframe tbody tr th {\n",
              "        vertical-align: top;\n",
              "    }\n",
              "\n",
              "    .dataframe thead th {\n",
              "        text-align: right;\n",
              "    }\n",
              "</style>\n",
              "<table border=\"1\" class=\"dataframe\">\n",
              "  <thead>\n",
              "    <tr style=\"text-align: right;\">\n",
              "      <th></th>\n",
              "      <th>listing_id</th>\n",
              "      <th>name</th>\n",
              "      <th>host_id</th>\n",
              "      <th>host_name</th>\n",
              "      <th>room_type</th>\n",
              "      <th>price</th>\n",
              "      <th>number_of_reviews</th>\n",
              "      <th>last_review</th>\n",
              "      <th>reviews_per_month</th>\n",
              "      <th>availability_365</th>\n",
              "      <th>rating</th>\n",
              "      <th>number_of_stays</th>\n",
              "      <th>5_stars</th>\n",
              "      <th>listing_added</th>\n",
              "      <th>latitude</th>\n",
              "      <th>longitude</th>\n",
              "      <th>borough</th>\n",
              "      <th>neighbourhood</th>\n",
              "    </tr>\n",
              "  </thead>\n",
              "  <tbody>\n",
              "    <tr>\n",
              "      <th>1925</th>\n",
              "      <td>36411407</td>\n",
              "      <td>Brand new 1 bedroom steps from Soho!</td>\n",
              "      <td>33917435</td>\n",
              "      <td>Mike</td>\n",
              "      <td>Entire Place</td>\n",
              "      <td>150.0</td>\n",
              "      <td>1</td>\n",
              "      <td>2019-07-06</td>\n",
              "      <td>1.0</td>\n",
              "      <td>13</td>\n",
              "      <td>5.017040</td>\n",
              "      <td>1.2</td>\n",
              "      <td>0.870161</td>\n",
              "      <td>2018-12-31</td>\n",
              "      <td>40.71825</td>\n",
              "      <td>-73.99019</td>\n",
              "      <td>Manhattan</td>\n",
              "      <td>Lower East Side</td>\n",
              "    </tr>\n",
              "    <tr>\n",
              "      <th>6732</th>\n",
              "      <td>36390226</td>\n",
              "      <td>Comfortable clean Bedstuy private room</td>\n",
              "      <td>267932490</td>\n",
              "      <td>Angela</td>\n",
              "      <td>Private Room</td>\n",
              "      <td>45.0</td>\n",
              "      <td>2</td>\n",
              "      <td>2019-07-08</td>\n",
              "      <td>2.0</td>\n",
              "      <td>14</td>\n",
              "      <td>5.087091</td>\n",
              "      <td>2.4</td>\n",
              "      <td>0.950339</td>\n",
              "      <td>2019-01-02</td>\n",
              "      <td>40.69551</td>\n",
              "      <td>-73.93951</td>\n",
              "      <td>Brooklyn</td>\n",
              "      <td>Bedford-Stuyvesant</td>\n",
              "    </tr>\n",
              "    <tr>\n",
              "      <th>8821</th>\n",
              "      <td>36413632</td>\n",
              "      <td>Spacious 2BR in Beautiful Brooklyn Heights</td>\n",
              "      <td>6608220</td>\n",
              "      <td>Matt</td>\n",
              "      <td>Entire Place</td>\n",
              "      <td>550.0</td>\n",
              "      <td>1</td>\n",
              "      <td>2019-07-07</td>\n",
              "      <td>1.0</td>\n",
              "      <td>230</td>\n",
              "      <td>5.181114</td>\n",
              "      <td>1.2</td>\n",
              "      <td>0.805418</td>\n",
              "      <td>2019-01-01</td>\n",
              "      <td>40.69827</td>\n",
              "      <td>-73.99649</td>\n",
              "      <td>Brooklyn</td>\n",
              "      <td>Brooklyn Heights</td>\n",
              "    </tr>\n",
              "  </tbody>\n",
              "</table>\n",
              "</div>"
            ],
            "text/plain": [
              "      listing_id  ...       neighbourhood\n",
              "1925    36411407  ...     Lower East Side\n",
              "6732    36390226  ...  Bedford-Stuyvesant\n",
              "8821    36413632  ...    Brooklyn Heights\n",
              "\n",
              "[3 rows x 18 columns]"
            ]
          },
          "metadata": {
            "tags": []
          },
          "execution_count": 104
        }
      ]
    },
    {
      "cell_type": "code",
      "metadata": {
        "id": "8GUaTTuvpYVh",
        "colab_type": "code",
        "colab": {
          "base_uri": "https://localhost:8080/",
          "height": 34
        },
        "outputId": "3ab2b5ca-08ef-440d-9f29-601cb275c168"
      },
      "source": [
        "airbnb[airbnb['rating'] > 5.0].index"
      ],
      "execution_count": 105,
      "outputs": [
        {
          "output_type": "execute_result",
          "data": {
            "text/plain": [
              "Int64Index([1925, 6732, 8821], dtype='int64')"
            ]
          },
          "metadata": {
            "tags": []
          },
          "execution_count": 105
        }
      ]
    },
    {
      "cell_type": "code",
      "metadata": {
        "id": "O6GzdjlP2JZN",
        "colab_type": "code",
        "colab": {}
      },
      "source": [
        "# Drop these rows and make sure we have effected changes\n",
        "airbnb.drop(airbnb[airbnb['rating'] > 5.0].index, inplace=True, axis=0)"
      ],
      "execution_count": 0,
      "outputs": []
    },
    {
      "cell_type": "code",
      "metadata": {
        "id": "sjlhjthu3NIP",
        "colab_type": "code",
        "colab": {
          "base_uri": "https://localhost:8080/",
          "height": 279
        },
        "outputId": "ba0ef95a-215d-43db-9471-7f4076889bba"
      },
      "source": [
        "# Visualize the rating column again\n",
        "sns.distplot(airbnb['rating'], bins=20)\n",
        "plt.show()"
      ],
      "execution_count": 107,
      "outputs": [
        {
          "output_type": "display_data",
          "data": {
            "image/png": "[encoded data removed]",
            "text/plain": [
              "<Figure size 432x288 with 1 Axes>"
            ]
          },
          "metadata": {
            "tags": [],
            "needs_background": "light"
          }
        }
      ]
    },
    {
      "cell_type": "code",
      "metadata": {
        "id": "ll1KvVJX4Pd3",
        "colab_type": "code",
        "colab": {
          "base_uri": "https://localhost:8080/",
          "height": 34
        },
        "outputId": "f9b948a9-8431-40fe-d8f4-f933cd07ff6f"
      },
      "source": [
        "# Get the maximum\n",
        "airbnb.rating.max()"
      ],
      "execution_count": 108,
      "outputs": [
        {
          "output_type": "execute_result",
          "data": {
            "text/plain": [
              "4.999561104773598"
            ]
          },
          "metadata": {
            "tags": []
          },
          "execution_count": 108
        }
      ]
    },
    {
      "cell_type": "markdown",
      "metadata": {
        "id": "z21NCGFC04Xl",
        "colab_type": "text"
      },
      "source": [
        "## **Q&A**"
      ]
    },
    {
      "cell_type": "markdown",
      "metadata": {
        "id": "32vk2-Vn5l3Z",
        "colab_type": "text"
      },
      "source": [
        "### Dealing with missing data"
      ]
    },
    {
      "cell_type": "markdown",
      "metadata": {
        "id": "b2K5RQJLlXvf",
        "colab_type": "text"
      },
      "source": [
        "The `missingno` (imported as `msno`) package is great for visualizing missing data - we will be using:\n",
        "\n",
        "- `msno.matrix()` visualizes a missingness matrix\n",
        "- `msno.bar()` visualizes a missngness barplot\n",
        "- `plt.show()` to show the plot"
      ]
    },
    {
      "cell_type": "code",
      "metadata": {
        "id": "spvUQz2K4U4x",
        "colab_type": "code",
        "colab": {
          "base_uri": "https://localhost:8080/",
          "height": 497
        },
        "outputId": "18579ea2-2931-468f-da03-16cf1d389218"
      },
      "source": [
        "# Visualize the missingness \n",
        "msno.matrix(airbnb)\n",
        "plt.show()"
      ],
      "execution_count": 109,
      "outputs": [
        {
          "output_type": "display_data",
          "data": {
            "image/png": "[encoded data removed]",
            "text/plain": [
              "<Figure size 1800x720 with 2 Axes>"
            ]
          },
          "metadata": {
            "tags": [],
            "needs_background": "light"
          }
        }
      ]
    },
    {
      "cell_type": "code",
      "metadata": {
        "id": "G9QLtSbx7pCW",
        "colab_type": "code",
        "colab": {
          "base_uri": "https://localhost:8080/",
          "height": 497
        },
        "outputId": "86176119-80d2-42db-b0b6-c38b89133799"
      },
      "source": [
        "# Visualize the missingness on sorted values\n",
        "msno.matrix(airbnb.sort_values(by='rating'))\n",
        "plt.show()"
      ],
      "execution_count": 110,
      "outputs": [
        {
          "output_type": "display_data",
          "data": {
            "image/png": "[encoded data removed]",
            "text/plain": [
              "<Figure size 1800x720 with 2 Axes>"
            ]
          },
          "metadata": {
            "tags": [],
            "needs_background": "light"
          }
        }
      ]
    },
    {
      "cell_type": "code",
      "metadata": {
        "id": "W5vfZi03RwwY",
        "colab_type": "code",
        "colab": {
          "base_uri": "https://localhost:8080/",
          "height": 562
        },
        "outputId": "670ecdba-0369-4d7b-9a3f-2dc29d026cb5"
      },
      "source": [
        "# Missingness barplot\n",
        "msno.bar(airbnb)"
      ],
      "execution_count": 111,
      "outputs": [
        {
          "output_type": "execute_result",
          "data": {
            "text/plain": [
              "<matplotlib.axes._subplots.AxesSubplot at 0x7f32425ea048>"
            ]
          },
          "metadata": {
            "tags": []
          },
          "execution_count": 111
        },
        {
          "output_type": "display_data",
          "data": {
            "image/png": "[encoded data removed]",
            "text/plain": [
              "<Figure size 1728x720 with 3 Axes>"
            ]
          },
          "metadata": {
            "tags": [],
            "needs_background": "light"
          }
        }
      ]
    },
    {
      "cell_type": "markdown",
      "metadata": {
        "id": "27XSigJyg8Di",
        "colab_type": "text"
      },
      "source": [
        "**Treating the** `rating`, `number_of_stays`, `5_stars`, `reviews_per_month` **columns**"
      ]
    },
    {
      "cell_type": "code",
      "metadata": {
        "id": "pKuLIznfSv3H",
        "colab_type": "code",
        "colab": {
          "base_uri": "https://localhost:8080/",
          "height": 304
        },
        "outputId": "83a9e73f-334e-48ea-b147-6e8c8dd3a17e"
      },
      "source": [
        "# Understand DataFrame with missing values in rating, number_of_stays, 5_stars, reviews_per_month\n",
        "airbnb[airbnb['rating'].isna()].describe()"
      ],
      "execution_count": 112,
      "outputs": [
        {
          "output_type": "execute_result",
          "data": {
            "text/html": [
              "<div>\n",
              "<style scoped>\n",
              "    .dataframe tbody tr th:only-of-type {\n",
              "        vertical-align: middle;\n",
              "    }\n",
              "\n",
              "    .dataframe tbody tr th {\n",
              "        vertical-align: top;\n",
              "    }\n",
              "\n",
              "    .dataframe thead th {\n",
              "        text-align: right;\n",
              "    }\n",
              "</style>\n",
              "<table border=\"1\" class=\"dataframe\">\n",
              "  <thead>\n",
              "    <tr style=\"text-align: right;\">\n",
              "      <th></th>\n",
              "      <th>listing_id</th>\n",
              "      <th>host_id</th>\n",
              "      <th>price</th>\n",
              "      <th>number_of_reviews</th>\n",
              "      <th>reviews_per_month</th>\n",
              "      <th>availability_365</th>\n",
              "      <th>rating</th>\n",
              "      <th>number_of_stays</th>\n",
              "      <th>5_stars</th>\n",
              "      <th>latitude</th>\n",
              "      <th>longitude</th>\n",
              "    </tr>\n",
              "  </thead>\n",
              "  <tbody>\n",
              "    <tr>\n",
              "      <th>count</th>\n",
              "      <td>2.075000e+03</td>\n",
              "      <td>2.075000e+03</td>\n",
              "      <td>2028.000000</td>\n",
              "      <td>2075.0</td>\n",
              "      <td>0.0</td>\n",
              "      <td>2075.000000</td>\n",
              "      <td>0.0</td>\n",
              "      <td>0.0</td>\n",
              "      <td>0.0</td>\n",
              "      <td>2075.000000</td>\n",
              "      <td>2075.000000</td>\n",
              "    </tr>\n",
              "    <tr>\n",
              "      <th>mean</th>\n",
              "      <td>2.274238e+07</td>\n",
              "      <td>8.022455e+07</td>\n",
              "      <td>191.553748</td>\n",
              "      <td>0.0</td>\n",
              "      <td>NaN</td>\n",
              "      <td>104.531566</td>\n",
              "      <td>NaN</td>\n",
              "      <td>NaN</td>\n",
              "      <td>NaN</td>\n",
              "      <td>40.732074</td>\n",
              "      <td>-73.956771</td>\n",
              "    </tr>\n",
              "    <tr>\n",
              "      <th>std</th>\n",
              "      <td>1.123730e+07</td>\n",
              "      <td>8.663163e+07</td>\n",
              "      <td>316.186639</td>\n",
              "      <td>0.0</td>\n",
              "      <td>NaN</td>\n",
              "      <td>138.266525</td>\n",
              "      <td>NaN</td>\n",
              "      <td>NaN</td>\n",
              "      <td>NaN</td>\n",
              "      <td>0.051168</td>\n",
              "      <td>0.041065</td>\n",
              "    </tr>\n",
              "    <tr>\n",
              "      <th>min</th>\n",
              "      <td>6.358800e+04</td>\n",
              "      <td>1.475100e+04</td>\n",
              "      <td>0.000000</td>\n",
              "      <td>0.0</td>\n",
              "      <td>NaN</td>\n",
              "      <td>0.000000</td>\n",
              "      <td>NaN</td>\n",
              "      <td>NaN</td>\n",
              "      <td>NaN</td>\n",
              "      <td>40.527000</td>\n",
              "      <td>-74.209410</td>\n",
              "    </tr>\n",
              "    <tr>\n",
              "      <th>25%</th>\n",
              "      <td>1.232923e+07</td>\n",
              "      <td>1.224305e+07</td>\n",
              "      <td>70.000000</td>\n",
              "      <td>0.0</td>\n",
              "      <td>NaN</td>\n",
              "      <td>0.000000</td>\n",
              "      <td>NaN</td>\n",
              "      <td>NaN</td>\n",
              "      <td>NaN</td>\n",
              "      <td>40.697845</td>\n",
              "      <td>-73.985185</td>\n",
              "    </tr>\n",
              "    <tr>\n",
              "      <th>50%</th>\n",
              "      <td>2.345182e+07</td>\n",
              "      <td>4.040116e+07</td>\n",
              "      <td>120.000000</td>\n",
              "      <td>0.0</td>\n",
              "      <td>NaN</td>\n",
              "      <td>7.000000</td>\n",
              "      <td>NaN</td>\n",
              "      <td>NaN</td>\n",
              "      <td>NaN</td>\n",
              "      <td>40.727790</td>\n",
              "      <td>-73.960940</td>\n",
              "    </tr>\n",
              "    <tr>\n",
              "      <th>75%</th>\n",
              "      <td>3.400364e+07</td>\n",
              "      <td>1.333498e+08</td>\n",
              "      <td>205.250000</td>\n",
              "      <td>0.0</td>\n",
              "      <td>NaN</td>\n",
              "      <td>211.000000</td>\n",
              "      <td>NaN</td>\n",
              "      <td>NaN</td>\n",
              "      <td>NaN</td>\n",
              "      <td>40.763480</td>\n",
              "      <td>-73.939540</td>\n",
              "    </tr>\n",
              "    <tr>\n",
              "      <th>max</th>\n",
              "      <td>3.648724e+07</td>\n",
              "      <td>2.741034e+08</td>\n",
              "      <td>5250.000000</td>\n",
              "      <td>0.0</td>\n",
              "      <td>NaN</td>\n",
              "      <td>365.000000</td>\n",
              "      <td>NaN</td>\n",
              "      <td>NaN</td>\n",
              "      <td>NaN</td>\n",
              "      <td>40.911690</td>\n",
              "      <td>-73.727310</td>\n",
              "    </tr>\n",
              "  </tbody>\n",
              "</table>\n",
              "</div>"
            ],
            "text/plain": [
              "         listing_id       host_id  ...     latitude    longitude\n",
              "count  2.075000e+03  2.075000e+03  ...  2075.000000  2075.000000\n",
              "mean   2.274238e+07  8.022455e+07  ...    40.732074   -73.956771\n",
              "std    1.123730e+07  8.663163e+07  ...     0.051168     0.041065\n",
              "min    6.358800e+04  1.475100e+04  ...    40.527000   -74.209410\n",
              "25%    1.232923e+07  1.224305e+07  ...    40.697845   -73.985185\n",
              "50%    2.345182e+07  4.040116e+07  ...    40.727790   -73.960940\n",
              "75%    3.400364e+07  1.333498e+08  ...    40.763480   -73.939540\n",
              "max    3.648724e+07  2.741034e+08  ...    40.911690   -73.727310\n",
              "\n",
              "[8 rows x 11 columns]"
            ]
          },
          "metadata": {
            "tags": []
          },
          "execution_count": 112
        }
      ]
    },
    {
      "cell_type": "code",
      "metadata": {
        "id": "ij5BmX2gTnrW",
        "colab_type": "code",
        "colab": {
          "base_uri": "https://localhost:8080/",
          "height": 304
        },
        "outputId": "76ce713b-7058-4774-b4f1-2bf0f4ad3113"
      },
      "source": [
        "# Understand DataFrame with missing values in rating, number_of_stays, 5_stars, reviews_per_month\n",
        "airbnb[~airbnb['rating'].isna()].describe()"
      ],
      "execution_count": 113,
      "outputs": [
        {
          "output_type": "execute_result",
          "data": {
            "text/html": [
              "<div>\n",
              "<style scoped>\n",
              "    .dataframe tbody tr th:only-of-type {\n",
              "        vertical-align: middle;\n",
              "    }\n",
              "\n",
              "    .dataframe tbody tr th {\n",
              "        vertical-align: top;\n",
              "    }\n",
              "\n",
              "    .dataframe thead th {\n",
              "        text-align: right;\n",
              "    }\n",
              "</style>\n",
              "<table border=\"1\" class=\"dataframe\">\n",
              "  <thead>\n",
              "    <tr style=\"text-align: right;\">\n",
              "      <th></th>\n",
              "      <th>listing_id</th>\n",
              "      <th>host_id</th>\n",
              "      <th>price</th>\n",
              "      <th>number_of_reviews</th>\n",
              "      <th>reviews_per_month</th>\n",
              "      <th>availability_365</th>\n",
              "      <th>rating</th>\n",
              "      <th>number_of_stays</th>\n",
              "      <th>5_stars</th>\n",
              "      <th>latitude</th>\n",
              "      <th>longitude</th>\n",
              "    </tr>\n",
              "  </thead>\n",
              "  <tbody>\n",
              "    <tr>\n",
              "      <th>count</th>\n",
              "      <td>7.941000e+03</td>\n",
              "      <td>7.941000e+03</td>\n",
              "      <td>7750.000000</td>\n",
              "      <td>7941.000000</td>\n",
              "      <td>7941.000000</td>\n",
              "      <td>7941.000000</td>\n",
              "      <td>7941.000000</td>\n",
              "      <td>7941.000000</td>\n",
              "      <td>7941.000000</td>\n",
              "      <td>7941.000000</td>\n",
              "      <td>7941.000000</td>\n",
              "    </tr>\n",
              "    <tr>\n",
              "      <th>mean</th>\n",
              "      <td>1.836419e+07</td>\n",
              "      <td>6.474110e+07</td>\n",
              "      <td>140.230581</td>\n",
              "      <td>28.336482</td>\n",
              "      <td>1.353901</td>\n",
              "      <td>114.320111</td>\n",
              "      <td>4.014050</td>\n",
              "      <td>34.003778</td>\n",
              "      <td>0.718540</td>\n",
              "      <td>40.728335</td>\n",
              "      <td>-73.950632</td>\n",
              "    </tr>\n",
              "    <tr>\n",
              "      <th>std</th>\n",
              "      <td>1.068788e+07</td>\n",
              "      <td>7.606089e+07</td>\n",
              "      <td>163.630337</td>\n",
              "      <td>46.746949</td>\n",
              "      <td>1.615659</td>\n",
              "      <td>129.789313</td>\n",
              "      <td>0.574787</td>\n",
              "      <td>56.096338</td>\n",
              "      <td>0.079927</td>\n",
              "      <td>0.055491</td>\n",
              "      <td>0.047017</td>\n",
              "    </tr>\n",
              "    <tr>\n",
              "      <th>min</th>\n",
              "      <td>3.831000e+03</td>\n",
              "      <td>2.787000e+03</td>\n",
              "      <td>0.000000</td>\n",
              "      <td>1.000000</td>\n",
              "      <td>0.010000</td>\n",
              "      <td>0.000000</td>\n",
              "      <td>3.000633</td>\n",
              "      <td>1.200000</td>\n",
              "      <td>0.600026</td>\n",
              "      <td>40.508680</td>\n",
              "      <td>-74.239860</td>\n",
              "    </tr>\n",
              "    <tr>\n",
              "      <th>25%</th>\n",
              "      <td>8.964308e+06</td>\n",
              "      <td>7.138163e+06</td>\n",
              "      <td>69.000000</td>\n",
              "      <td>3.000000</td>\n",
              "      <td>0.200000</td>\n",
              "      <td>0.000000</td>\n",
              "      <td>3.519751</td>\n",
              "      <td>3.600000</td>\n",
              "      <td>0.655573</td>\n",
              "      <td>40.688560</td>\n",
              "      <td>-73.982130</td>\n",
              "    </tr>\n",
              "    <tr>\n",
              "      <th>50%</th>\n",
              "      <td>1.927436e+07</td>\n",
              "      <td>2.947846e+07</td>\n",
              "      <td>105.000000</td>\n",
              "      <td>9.000000</td>\n",
              "      <td>0.700000</td>\n",
              "      <td>54.000000</td>\n",
              "      <td>4.027415</td>\n",
              "      <td>10.800000</td>\n",
              "      <td>0.709747</td>\n",
              "      <td>40.721820</td>\n",
              "      <td>-73.954410</td>\n",
              "    </tr>\n",
              "    <tr>\n",
              "      <th>75%</th>\n",
              "      <td>2.787660e+07</td>\n",
              "      <td>1.016578e+08</td>\n",
              "      <td>170.000000</td>\n",
              "      <td>32.000000</td>\n",
              "      <td>2.000000</td>\n",
              "      <td>229.000000</td>\n",
              "      <td>4.515626</td>\n",
              "      <td>38.400000</td>\n",
              "      <td>0.763948</td>\n",
              "      <td>40.763390</td>\n",
              "      <td>-73.934930</td>\n",
              "    </tr>\n",
              "    <tr>\n",
              "      <th>max</th>\n",
              "      <td>3.635113e+07</td>\n",
              "      <td>2.733615e+08</td>\n",
              "      <td>8000.000000</td>\n",
              "      <td>510.000000</td>\n",
              "      <td>16.220000</td>\n",
              "      <td>365.000000</td>\n",
              "      <td>4.999561</td>\n",
              "      <td>612.000000</td>\n",
              "      <td>0.939950</td>\n",
              "      <td>40.913060</td>\n",
              "      <td>-73.719280</td>\n",
              "    </tr>\n",
              "  </tbody>\n",
              "</table>\n",
              "</div>"
            ],
            "text/plain": [
              "         listing_id       host_id  ...     latitude    longitude\n",
              "count  7.941000e+03  7.941000e+03  ...  7941.000000  7941.000000\n",
              "mean   1.836419e+07  6.474110e+07  ...    40.728335   -73.950632\n",
              "std    1.068788e+07  7.606089e+07  ...     0.055491     0.047017\n",
              "min    3.831000e+03  2.787000e+03  ...    40.508680   -74.239860\n",
              "25%    8.964308e+06  7.138163e+06  ...    40.688560   -73.982130\n",
              "50%    1.927436e+07  2.947846e+07  ...    40.721820   -73.954410\n",
              "75%    2.787660e+07  1.016578e+08  ...    40.763390   -73.934930\n",
              "max    3.635113e+07  2.733615e+08  ...    40.913060   -73.719280\n",
              "\n",
              "[8 rows x 11 columns]"
            ]
          },
          "metadata": {
            "tags": []
          },
          "execution_count": 113
        }
      ]
    },
    {
      "cell_type": "code",
      "metadata": {
        "id": "tuRNdMvungIq",
        "colab_type": "code",
        "colab": {}
      },
      "source": [
        "# Impute missing data\n",
        "airbnb = airbnb.fillna({'reviews_per_month':0,\n",
        "                        'number_of_stays':0,\n",
        "                        '5_stars':0})\n",
        "\n",
        "\n",
        "\n",
        "# Create is_rated column\n",
        "is_rated = np.where(airbnb['rating'].isna() == True, 0,1)\n",
        "airbnb['is_rated'] = is_rated"
      ],
      "execution_count": 0,
      "outputs": []
    },
    {
      "cell_type": "code",
      "metadata": {
        "id": "fud0kx7dx-9J",
        "colab_type": "code",
        "colab": {
          "base_uri": "https://localhost:8080/",
          "height": 353
        },
        "outputId": "29eb983d-6492-4b51-c78a-fb32c03f1340"
      },
      "source": [
        "airbnb.isna().sum()"
      ],
      "execution_count": 115,
      "outputs": [
        {
          "output_type": "execute_result",
          "data": {
            "text/plain": [
              "listing_id              0\n",
              "name                    5\n",
              "host_id                 0\n",
              "host_name               2\n",
              "room_type               0\n",
              "price                 238\n",
              "number_of_reviews       0\n",
              "last_review          2075\n",
              "reviews_per_month       0\n",
              "availability_365        0\n",
              "rating               2075\n",
              "number_of_stays         0\n",
              "5_stars                 0\n",
              "listing_added           0\n",
              "latitude                0\n",
              "longitude               0\n",
              "borough                 0\n",
              "neighbourhood           0\n",
              "is_rated                0\n",
              "dtype: int64"
            ]
          },
          "metadata": {
            "tags": []
          },
          "execution_count": 115
        }
      ]
    },
    {
      "cell_type": "markdown",
      "metadata": {
        "id": "lsPP28Xzg9_z",
        "colab_type": "text"
      },
      "source": [
        "**Treating the** `price` **column**"
      ]
    },
    {
      "cell_type": "code",
      "metadata": {
        "id": "lLJJG-SmYLh7",
        "colab_type": "code",
        "colab": {
          "base_uri": "https://localhost:8080/",
          "height": 304
        },
        "outputId": "dc4802f3-86f1-4275-c683-06275a3c1385"
      },
      "source": [
        "# Investigate DataFrame with missing values in price\n",
        "airbnb[airbnb['price'].isna()].describe()"
      ],
      "execution_count": 116,
      "outputs": [
        {
          "output_type": "execute_result",
          "data": {
            "text/html": [
              "<div>\n",
              "<style scoped>\n",
              "    .dataframe tbody tr th:only-of-type {\n",
              "        vertical-align: middle;\n",
              "    }\n",
              "\n",
              "    .dataframe tbody tr th {\n",
              "        vertical-align: top;\n",
              "    }\n",
              "\n",
              "    .dataframe thead th {\n",
              "        text-align: right;\n",
              "    }\n",
              "</style>\n",
              "<table border=\"1\" class=\"dataframe\">\n",
              "  <thead>\n",
              "    <tr style=\"text-align: right;\">\n",
              "      <th></th>\n",
              "      <th>listing_id</th>\n",
              "      <th>host_id</th>\n",
              "      <th>price</th>\n",
              "      <th>number_of_reviews</th>\n",
              "      <th>reviews_per_month</th>\n",
              "      <th>availability_365</th>\n",
              "      <th>rating</th>\n",
              "      <th>number_of_stays</th>\n",
              "      <th>5_stars</th>\n",
              "      <th>latitude</th>\n",
              "      <th>longitude</th>\n",
              "      <th>is_rated</th>\n",
              "    </tr>\n",
              "  </thead>\n",
              "  <tbody>\n",
              "    <tr>\n",
              "      <th>count</th>\n",
              "      <td>2.380000e+02</td>\n",
              "      <td>2.380000e+02</td>\n",
              "      <td>0.0</td>\n",
              "      <td>238.000000</td>\n",
              "      <td>238.000000</td>\n",
              "      <td>238.000000</td>\n",
              "      <td>191.000000</td>\n",
              "      <td>238.000000</td>\n",
              "      <td>238.000000</td>\n",
              "      <td>238.000000</td>\n",
              "      <td>238.000000</td>\n",
              "      <td>238.000000</td>\n",
              "    </tr>\n",
              "    <tr>\n",
              "      <th>mean</th>\n",
              "      <td>1.805656e+07</td>\n",
              "      <td>6.262965e+07</td>\n",
              "      <td>NaN</td>\n",
              "      <td>22.445378</td>\n",
              "      <td>1.117563</td>\n",
              "      <td>98.953782</td>\n",
              "      <td>4.078343</td>\n",
              "      <td>26.934454</td>\n",
              "      <td>0.577721</td>\n",
              "      <td>40.727270</td>\n",
              "      <td>-73.946071</td>\n",
              "      <td>0.802521</td>\n",
              "    </tr>\n",
              "    <tr>\n",
              "      <th>std</th>\n",
              "      <td>1.065176e+07</td>\n",
              "      <td>7.518785e+07</td>\n",
              "      <td>NaN</td>\n",
              "      <td>35.798003</td>\n",
              "      <td>1.666262</td>\n",
              "      <td>125.872256</td>\n",
              "      <td>0.568705</td>\n",
              "      <td>42.957603</td>\n",
              "      <td>0.297066</td>\n",
              "      <td>0.057426</td>\n",
              "      <td>0.048688</td>\n",
              "      <td>0.398936</td>\n",
              "    </tr>\n",
              "    <tr>\n",
              "      <th>min</th>\n",
              "      <td>8.092400e+04</td>\n",
              "      <td>1.145900e+05</td>\n",
              "      <td>NaN</td>\n",
              "      <td>0.000000</td>\n",
              "      <td>0.000000</td>\n",
              "      <td>0.000000</td>\n",
              "      <td>3.007359</td>\n",
              "      <td>0.000000</td>\n",
              "      <td>0.000000</td>\n",
              "      <td>40.581980</td>\n",
              "      <td>-74.160620</td>\n",
              "      <td>0.000000</td>\n",
              "    </tr>\n",
              "    <tr>\n",
              "      <th>25%</th>\n",
              "      <td>8.282298e+06</td>\n",
              "      <td>6.034050e+06</td>\n",
              "      <td>NaN</td>\n",
              "      <td>1.000000</td>\n",
              "      <td>0.080000</td>\n",
              "      <td>0.000000</td>\n",
              "      <td>3.646496</td>\n",
              "      <td>1.200000</td>\n",
              "      <td>0.613462</td>\n",
              "      <td>40.688043</td>\n",
              "      <td>-73.970362</td>\n",
              "      <td>1.000000</td>\n",
              "    </tr>\n",
              "    <tr>\n",
              "      <th>50%</th>\n",
              "      <td>1.863600e+07</td>\n",
              "      <td>2.809524e+07</td>\n",
              "      <td>NaN</td>\n",
              "      <td>6.000000</td>\n",
              "      <td>0.350000</td>\n",
              "      <td>23.000000</td>\n",
              "      <td>4.149203</td>\n",
              "      <td>7.200000</td>\n",
              "      <td>0.681884</td>\n",
              "      <td>40.719925</td>\n",
              "      <td>-73.951370</td>\n",
              "      <td>1.000000</td>\n",
              "    </tr>\n",
              "    <tr>\n",
              "      <th>75%</th>\n",
              "      <td>2.753759e+07</td>\n",
              "      <td>1.009006e+08</td>\n",
              "      <td>NaN</td>\n",
              "      <td>26.000000</td>\n",
              "      <td>1.435000</td>\n",
              "      <td>192.000000</td>\n",
              "      <td>4.538671</td>\n",
              "      <td>31.200000</td>\n",
              "      <td>0.746239</td>\n",
              "      <td>40.762030</td>\n",
              "      <td>-73.927908</td>\n",
              "      <td>1.000000</td>\n",
              "    </tr>\n",
              "    <tr>\n",
              "      <th>max</th>\n",
              "      <td>3.638875e+07</td>\n",
              "      <td>2.668265e+08</td>\n",
              "      <td>NaN</td>\n",
              "      <td>207.000000</td>\n",
              "      <td>8.870000</td>\n",
              "      <td>365.000000</td>\n",
              "      <td>4.957646</td>\n",
              "      <td>248.400000</td>\n",
              "      <td>0.934979</td>\n",
              "      <td>40.870390</td>\n",
              "      <td>-73.734620</td>\n",
              "      <td>1.000000</td>\n",
              "    </tr>\n",
              "  </tbody>\n",
              "</table>\n",
              "</div>"
            ],
            "text/plain": [
              "         listing_id       host_id  price  ...    latitude   longitude    is_rated\n",
              "count  2.380000e+02  2.380000e+02    0.0  ...  238.000000  238.000000  238.000000\n",
              "mean   1.805656e+07  6.262965e+07    NaN  ...   40.727270  -73.946071    0.802521\n",
              "std    1.065176e+07  7.518785e+07    NaN  ...    0.057426    0.048688    0.398936\n",
              "min    8.092400e+04  1.145900e+05    NaN  ...   40.581980  -74.160620    0.000000\n",
              "25%    8.282298e+06  6.034050e+06    NaN  ...   40.688043  -73.970362    1.000000\n",
              "50%    1.863600e+07  2.809524e+07    NaN  ...   40.719925  -73.951370    1.000000\n",
              "75%    2.753759e+07  1.009006e+08    NaN  ...   40.762030  -73.927908    1.000000\n",
              "max    3.638875e+07  2.668265e+08    NaN  ...   40.870390  -73.734620    1.000000\n",
              "\n",
              "[8 rows x 12 columns]"
            ]
          },
          "metadata": {
            "tags": []
          },
          "execution_count": 116
        }
      ]
    },
    {
      "cell_type": "code",
      "metadata": {
        "id": "dluvKIkXr3yV",
        "colab_type": "code",
        "colab": {
          "base_uri": "https://localhost:8080/",
          "height": 304
        },
        "outputId": "fee83e32-c783-420c-c49d-6632fe18ae73"
      },
      "source": [
        "# Investigate DataFrame with missing values in price\n",
        "airbnb[~airbnb['price'].isna()].describe()"
      ],
      "execution_count": 117,
      "outputs": [
        {
          "output_type": "execute_result",
          "data": {
            "text/html": [
              "<div>\n",
              "<style scoped>\n",
              "    .dataframe tbody tr th:only-of-type {\n",
              "        vertical-align: middle;\n",
              "    }\n",
              "\n",
              "    .dataframe tbody tr th {\n",
              "        vertical-align: top;\n",
              "    }\n",
              "\n",
              "    .dataframe thead th {\n",
              "        text-align: right;\n",
              "    }\n",
              "</style>\n",
              "<table border=\"1\" class=\"dataframe\">\n",
              "  <thead>\n",
              "    <tr style=\"text-align: right;\">\n",
              "      <th></th>\n",
              "      <th>listing_id</th>\n",
              "      <th>host_id</th>\n",
              "      <th>price</th>\n",
              "      <th>number_of_reviews</th>\n",
              "      <th>reviews_per_month</th>\n",
              "      <th>availability_365</th>\n",
              "      <th>rating</th>\n",
              "      <th>number_of_stays</th>\n",
              "      <th>5_stars</th>\n",
              "      <th>latitude</th>\n",
              "      <th>longitude</th>\n",
              "      <th>is_rated</th>\n",
              "    </tr>\n",
              "  </thead>\n",
              "  <tbody>\n",
              "    <tr>\n",
              "      <th>count</th>\n",
              "      <td>9.778000e+03</td>\n",
              "      <td>9.778000e+03</td>\n",
              "      <td>9778.00000</td>\n",
              "      <td>9778.000000</td>\n",
              "      <td>9778.000000</td>\n",
              "      <td>9778.000000</td>\n",
              "      <td>7750.000000</td>\n",
              "      <td>9778.000000</td>\n",
              "      <td>9778.000000</td>\n",
              "      <td>9778.000000</td>\n",
              "      <td>9778.000000</td>\n",
              "      <td>9778.000000</td>\n",
              "    </tr>\n",
              "    <tr>\n",
              "      <th>mean</th>\n",
              "      <td>1.930078e+07</td>\n",
              "      <td>6.807826e+07</td>\n",
              "      <td>150.87523</td>\n",
              "      <td>22.466558</td>\n",
              "      <td>1.072341</td>\n",
              "      <td>112.616895</td>\n",
              "      <td>4.012465</td>\n",
              "      <td>26.959869</td>\n",
              "      <td>0.569485</td>\n",
              "      <td>40.729154</td>\n",
              "      <td>-73.952046</td>\n",
              "      <td>0.792596</td>\n",
              "    </tr>\n",
              "    <tr>\n",
              "      <th>std</th>\n",
              "      <td>1.095415e+07</td>\n",
              "      <td>7.869506e+07</td>\n",
              "      <td>205.86666</td>\n",
              "      <td>43.344327</td>\n",
              "      <td>1.536549</td>\n",
              "      <td>131.769744</td>\n",
              "      <td>0.574882</td>\n",
              "      <td>52.013192</td>\n",
              "      <td>0.299870</td>\n",
              "      <td>0.054575</td>\n",
              "      <td>0.045837</td>\n",
              "      <td>0.405468</td>\n",
              "    </tr>\n",
              "    <tr>\n",
              "      <th>min</th>\n",
              "      <td>3.831000e+03</td>\n",
              "      <td>2.787000e+03</td>\n",
              "      <td>0.00000</td>\n",
              "      <td>0.000000</td>\n",
              "      <td>0.000000</td>\n",
              "      <td>0.000000</td>\n",
              "      <td>3.000633</td>\n",
              "      <td>0.000000</td>\n",
              "      <td>0.000000</td>\n",
              "      <td>40.508680</td>\n",
              "      <td>-74.239860</td>\n",
              "      <td>0.000000</td>\n",
              "    </tr>\n",
              "    <tr>\n",
              "      <th>25%</th>\n",
              "      <td>9.696668e+06</td>\n",
              "      <td>7.952219e+06</td>\n",
              "      <td>69.00000</td>\n",
              "      <td>1.000000</td>\n",
              "      <td>0.040000</td>\n",
              "      <td>0.000000</td>\n",
              "      <td>3.518948</td>\n",
              "      <td>1.200000</td>\n",
              "      <td>0.611644</td>\n",
              "      <td>40.689912</td>\n",
              "      <td>-73.983030</td>\n",
              "      <td>1.000000</td>\n",
              "    </tr>\n",
              "    <tr>\n",
              "      <th>50%</th>\n",
              "      <td>2.012299e+07</td>\n",
              "      <td>3.167018e+07</td>\n",
              "      <td>106.00000</td>\n",
              "      <td>5.000000</td>\n",
              "      <td>0.375000</td>\n",
              "      <td>44.500000</td>\n",
              "      <td>4.024327</td>\n",
              "      <td>6.000000</td>\n",
              "      <td>0.681882</td>\n",
              "      <td>40.723095</td>\n",
              "      <td>-73.955580</td>\n",
              "      <td>1.000000</td>\n",
              "    </tr>\n",
              "    <tr>\n",
              "      <th>75%</th>\n",
              "      <td>2.938694e+07</td>\n",
              "      <td>1.074344e+08</td>\n",
              "      <td>180.00000</td>\n",
              "      <td>22.000000</td>\n",
              "      <td>1.550000</td>\n",
              "      <td>227.750000</td>\n",
              "      <td>4.514427</td>\n",
              "      <td>26.400000</td>\n",
              "      <td>0.750110</td>\n",
              "      <td>40.763438</td>\n",
              "      <td>-73.936217</td>\n",
              "      <td>1.000000</td>\n",
              "    </tr>\n",
              "    <tr>\n",
              "      <th>max</th>\n",
              "      <td>3.648724e+07</td>\n",
              "      <td>2.741034e+08</td>\n",
              "      <td>8000.00000</td>\n",
              "      <td>510.000000</td>\n",
              "      <td>16.220000</td>\n",
              "      <td>365.000000</td>\n",
              "      <td>4.999561</td>\n",
              "      <td>612.000000</td>\n",
              "      <td>0.939950</td>\n",
              "      <td>40.913060</td>\n",
              "      <td>-73.719280</td>\n",
              "      <td>1.000000</td>\n",
              "    </tr>\n",
              "  </tbody>\n",
              "</table>\n",
              "</div>"
            ],
            "text/plain": [
              "         listing_id       host_id  ...    longitude     is_rated\n",
              "count  9.778000e+03  9.778000e+03  ...  9778.000000  9778.000000\n",
              "mean   1.930078e+07  6.807826e+07  ...   -73.952046     0.792596\n",
              "std    1.095415e+07  7.869506e+07  ...     0.045837     0.405468\n",
              "min    3.831000e+03  2.787000e+03  ...   -74.239860     0.000000\n",
              "25%    9.696668e+06  7.952219e+06  ...   -73.983030     1.000000\n",
              "50%    2.012299e+07  3.167018e+07  ...   -73.955580     1.000000\n",
              "75%    2.938694e+07  1.074344e+08  ...   -73.936217     1.000000\n",
              "max    3.648724e+07  2.741034e+08  ...   -73.719280     1.000000\n",
              "\n",
              "[8 rows x 12 columns]"
            ]
          },
          "metadata": {
            "tags": []
          },
          "execution_count": 117
        }
      ]
    },
    {
      "cell_type": "markdown",
      "metadata": {
        "id": "qxAJtTZ4hEtv",
        "colab_type": "text"
      },
      "source": [
        "From a common sense perspective, the most predictive factor for a room's price is the `room_type` column, so let's visualize how price varies by room type with `sns.boxplot()` which displays the following information:\n",
        "\n",
        "\n",
        "<p align=\"center\">\n",
        "<img src=\"https://github.com/adelnehme/cleaning-data-in-python-live-training/blob/master/boxplot.png?raw=true\" alt = \"DataCamp icon\" width=\"80%\">\n",
        "</p>\n",
        "\n",
        "\n"
      ]
    },
    {
      "cell_type": "code",
      "metadata": {
        "id": "CdHj-mMDtgRE",
        "colab_type": "code",
        "colab": {
          "base_uri": "https://localhost:8080/",
          "height": 284
        },
        "outputId": "65866081-6fff-44f3-efc4-cae17d9223f3"
      },
      "source": [
        "# Visualize relationship between price and room_type\n",
        "sns.boxplot(x = 'room_type', y = 'price', data = airbnb)\n",
        "plt.ylim(0,400)\n",
        "plt.show()"
      ],
      "execution_count": 118,
      "outputs": [
        {
          "output_type": "display_data",
          "data": {
            "image/png": "[encoded data removed]",
            "text/plain": [
              "<Figure size 432x288 with 1 Axes>"
            ]
          },
          "metadata": {
            "tags": [],
            "needs_background": "light"
          }
        }
      ]
    },
    {
      "cell_type": "code",
      "metadata": {
        "id": "GzAmpxWzsqRb",
        "colab_type": "code",
        "colab": {
          "base_uri": "https://localhost:8080/",
          "height": 101
        },
        "outputId": "fe241933-47c8-4216-8b76-0c5b78877db7"
      },
      "source": [
        "# Get median price per room_type\n",
        "airbnb.groupby('room_type').median()['price']"
      ],
      "execution_count": 119,
      "outputs": [
        {
          "output_type": "execute_result",
          "data": {
            "text/plain": [
              "room_type\n",
              "Entire Place    163.0\n",
              "Private Room     70.0\n",
              "Shared Room      50.0\n",
              "Name: price, dtype: float64"
            ]
          },
          "metadata": {
            "tags": []
          },
          "execution_count": 119
        }
      ]
    },
    {
      "cell_type": "code",
      "metadata": {
        "id": "AmaKYXPRypq7",
        "colab_type": "code",
        "colab": {}
      },
      "source": [
        "# Impute price based on conditions\n",
        "airbnb.loc[(airbnb['price'].isna()) & (airbnb['room_type'] == 'Entire Place'), ['price']] = 163.0\n",
        "airbnb.loc[(airbnb['price'].isna()) & (airbnb['room_type'] == 'Private Room'), ['price']] = 70.0\n",
        "airbnb.loc[(airbnb['price'].isna()) & (airbnb['room_type'] == 'Shared Room'), ['price']] = 50.0"
      ],
      "execution_count": 0,
      "outputs": []
    },
    {
      "cell_type": "code",
      "metadata": {
        "id": "bTJafaijzDkc",
        "colab_type": "code",
        "colab": {
          "base_uri": "https://localhost:8080/",
          "height": 353
        },
        "outputId": "aca863e5-6000-417f-9f99-b65f575548d8"
      },
      "source": [
        "# Confirm price has been imputed\n",
        "airbnb.isna().sum()"
      ],
      "execution_count": 121,
      "outputs": [
        {
          "output_type": "execute_result",
          "data": {
            "text/plain": [
              "listing_id              0\n",
              "name                    5\n",
              "host_id                 0\n",
              "host_name               2\n",
              "room_type               0\n",
              "price                   0\n",
              "number_of_reviews       0\n",
              "last_review          2075\n",
              "reviews_per_month       0\n",
              "availability_365        0\n",
              "rating               2075\n",
              "number_of_stays         0\n",
              "5_stars                 0\n",
              "listing_added           0\n",
              "latitude                0\n",
              "longitude               0\n",
              "borough                 0\n",
              "neighbourhood           0\n",
              "is_rated                0\n",
              "dtype: int64"
            ]
          },
          "metadata": {
            "tags": []
          },
          "execution_count": 121
        }
      ]
    },
    {
      "cell_type": "markdown",
      "metadata": {
        "id": "VnxYYabO0Bdt",
        "colab_type": "text"
      },
      "source": [
        "_Further Steps_"
      ]
    },
    {
      "cell_type": "markdown",
      "metadata": {
        "id": "q2cyXCxk0VP3",
        "colab_type": "text"
      },
      "source": [
        "There are still a couple of problems yet to be diagnosed. When cleaning data, we need to consider:\n",
        "\n",
        "- Values that do not make any sense *(for example: are there values of `last_review` that older than `listing_added`? Are there listings in the future?*)\n",
        "- Presence of duplicates values - and how to deal with them?"
      ]
    },
    {
      "cell_type": "markdown",
      "metadata": {
        "id": "KGpasg3L6Je4",
        "colab_type": "text"
      },
      "source": [
        "##### **Task 8:** Do we have consistent date data?"
      ]
    },
    {
      "cell_type": "code",
      "metadata": {
        "id": "jT_hz8Dj0EhB",
        "colab_type": "code",
        "colab": {
          "base_uri": "https://localhost:8080/",
          "height": 34
        },
        "outputId": "610f92f3-df96-480b-c7bb-b8815f751f05"
      },
      "source": [
        "# Doing some sanity checks on date data\n",
        "today = dt.date.today()\n",
        "today"
      ],
      "execution_count": 122,
      "outputs": [
        {
          "output_type": "execute_result",
          "data": {
            "text/plain": [
              "datetime.date(2020, 4, 13)"
            ]
          },
          "metadata": {
            "tags": []
          },
          "execution_count": 122
        }
      ]
    },
    {
      "cell_type": "code",
      "metadata": {
        "id": "pUKi4Dbi27Zb",
        "colab_type": "code",
        "colab": {
          "base_uri": "https://localhost:8080/",
          "height": 67
        },
        "outputId": "dd7c4e6e-f6e5-4dee-8320-fca8321d01de"
      },
      "source": [
        "# Are there reviews in the future?\n",
        "airbnb[airbnb['last_review'].dt.date > today]"
      ],
      "execution_count": 123,
      "outputs": [
        {
          "output_type": "execute_result",
          "data": {
            "text/html": [
              "<div>\n",
              "<style scoped>\n",
              "    .dataframe tbody tr th:only-of-type {\n",
              "        vertical-align: middle;\n",
              "    }\n",
              "\n",
              "    .dataframe tbody tr th {\n",
              "        vertical-align: top;\n",
              "    }\n",
              "\n",
              "    .dataframe thead th {\n",
              "        text-align: right;\n",
              "    }\n",
              "</style>\n",
              "<table border=\"1\" class=\"dataframe\">\n",
              "  <thead>\n",
              "    <tr style=\"text-align: right;\">\n",
              "      <th></th>\n",
              "      <th>listing_id</th>\n",
              "      <th>name</th>\n",
              "      <th>host_id</th>\n",
              "      <th>host_name</th>\n",
              "      <th>room_type</th>\n",
              "      <th>price</th>\n",
              "      <th>number_of_reviews</th>\n",
              "      <th>last_review</th>\n",
              "      <th>reviews_per_month</th>\n",
              "      <th>availability_365</th>\n",
              "      <th>rating</th>\n",
              "      <th>number_of_stays</th>\n",
              "      <th>5_stars</th>\n",
              "      <th>listing_added</th>\n",
              "      <th>latitude</th>\n",
              "      <th>longitude</th>\n",
              "      <th>borough</th>\n",
              "      <th>neighbourhood</th>\n",
              "      <th>is_rated</th>\n",
              "    </tr>\n",
              "  </thead>\n",
              "  <tbody>\n",
              "  </tbody>\n",
              "</table>\n",
              "</div>"
            ],
            "text/plain": [
              "Empty DataFrame\n",
              "Columns: [listing_id, name, host_id, host_name, room_type, price, number_of_reviews, last_review, reviews_per_month, availability_365, rating, number_of_stays, 5_stars, listing_added, latitude, longitude, borough, neighbourhood, is_rated]\n",
              "Index: []"
            ]
          },
          "metadata": {
            "tags": []
          },
          "execution_count": 123
        }
      ]
    },
    {
      "cell_type": "code",
      "metadata": {
        "id": "vqoU8byCBkaJ",
        "colab_type": "code",
        "colab": {
          "base_uri": "https://localhost:8080/",
          "height": 488
        },
        "outputId": "7c20cc51-3c9a-4328-f30f-a3ba2e8ee142"
      },
      "source": [
        "# Are there listings in the future?\n",
        "airbnb[airbnb['listing_added'].dt.date > today]"
      ],
      "execution_count": 124,
      "outputs": [
        {
          "output_type": "execute_result",
          "data": {
            "text/html": [
              "<div>\n",
              "<style scoped>\n",
              "    .dataframe tbody tr th:only-of-type {\n",
              "        vertical-align: middle;\n",
              "    }\n",
              "\n",
              "    .dataframe tbody tr th {\n",
              "        vertical-align: top;\n",
              "    }\n",
              "\n",
              "    .dataframe thead th {\n",
              "        text-align: right;\n",
              "    }\n",
              "</style>\n",
              "<table border=\"1\" class=\"dataframe\">\n",
              "  <thead>\n",
              "    <tr style=\"text-align: right;\">\n",
              "      <th></th>\n",
              "      <th>listing_id</th>\n",
              "      <th>name</th>\n",
              "      <th>host_id</th>\n",
              "      <th>host_name</th>\n",
              "      <th>room_type</th>\n",
              "      <th>price</th>\n",
              "      <th>number_of_reviews</th>\n",
              "      <th>last_review</th>\n",
              "      <th>reviews_per_month</th>\n",
              "      <th>availability_365</th>\n",
              "      <th>rating</th>\n",
              "      <th>number_of_stays</th>\n",
              "      <th>5_stars</th>\n",
              "      <th>listing_added</th>\n",
              "      <th>latitude</th>\n",
              "      <th>longitude</th>\n",
              "      <th>borough</th>\n",
              "      <th>neighbourhood</th>\n",
              "      <th>is_rated</th>\n",
              "    </tr>\n",
              "  </thead>\n",
              "  <tbody>\n",
              "    <tr>\n",
              "      <th>4</th>\n",
              "      <td>22986519</td>\n",
              "      <td>Bedroom on the lively Lower East Side</td>\n",
              "      <td>154262349</td>\n",
              "      <td>Brooke</td>\n",
              "      <td>Private Room</td>\n",
              "      <td>160.0</td>\n",
              "      <td>23</td>\n",
              "      <td>2019-06-12</td>\n",
              "      <td>2.29</td>\n",
              "      <td>102</td>\n",
              "      <td>3.822591</td>\n",
              "      <td>27.6</td>\n",
              "      <td>0.649383</td>\n",
              "      <td>2020-10-23</td>\n",
              "      <td>40.71884</td>\n",
              "      <td>-73.98354</td>\n",
              "      <td>Manhattan</td>\n",
              "      <td>Lower East Side</td>\n",
              "      <td>1</td>\n",
              "    </tr>\n",
              "    <tr>\n",
              "      <th>124</th>\n",
              "      <td>28659894</td>\n",
              "      <td>Private bedroom in prime Bushwick! Near Trains!!!</td>\n",
              "      <td>216235179</td>\n",
              "      <td>Nina</td>\n",
              "      <td>Private Room</td>\n",
              "      <td>55.0</td>\n",
              "      <td>4</td>\n",
              "      <td>2019-04-12</td>\n",
              "      <td>0.58</td>\n",
              "      <td>358</td>\n",
              "      <td>4.916252</td>\n",
              "      <td>4.8</td>\n",
              "      <td>0.703117</td>\n",
              "      <td>2020-08-23</td>\n",
              "      <td>40.69988</td>\n",
              "      <td>-73.92072</td>\n",
              "      <td>Brooklyn</td>\n",
              "      <td>Bushwick</td>\n",
              "      <td>1</td>\n",
              "    </tr>\n",
              "    <tr>\n",
              "      <th>511</th>\n",
              "      <td>33619855</td>\n",
              "      <td>Modern &amp; Spacious in trendy Crown Heights</td>\n",
              "      <td>253354074</td>\n",
              "      <td>Yehudis</td>\n",
              "      <td>Entire Place</td>\n",
              "      <td>150.0</td>\n",
              "      <td>6</td>\n",
              "      <td>2019-05-27</td>\n",
              "      <td>2.50</td>\n",
              "      <td>148</td>\n",
              "      <td>3.462432</td>\n",
              "      <td>7.2</td>\n",
              "      <td>0.610929</td>\n",
              "      <td>2020-10-07</td>\n",
              "      <td>40.66387</td>\n",
              "      <td>-73.93840</td>\n",
              "      <td>Brooklyn</td>\n",
              "      <td>Crown Heights</td>\n",
              "      <td>1</td>\n",
              "    </tr>\n",
              "    <tr>\n",
              "      <th>521</th>\n",
              "      <td>25317793</td>\n",
              "      <td>Awesome Cozy Room in The Heart of Sunnyside!</td>\n",
              "      <td>136406167</td>\n",
              "      <td>Kara</td>\n",
              "      <td>Private Room</td>\n",
              "      <td>65.0</td>\n",
              "      <td>22</td>\n",
              "      <td>2019-06-11</td>\n",
              "      <td>1.63</td>\n",
              "      <td>131</td>\n",
              "      <td>4.442485</td>\n",
              "      <td>26.4</td>\n",
              "      <td>0.722388</td>\n",
              "      <td>2020-10-22</td>\n",
              "      <td>40.74090</td>\n",
              "      <td>-73.92696</td>\n",
              "      <td>Queens</td>\n",
              "      <td>Sunnyside</td>\n",
              "      <td>1</td>\n",
              "    </tr>\n",
              "  </tbody>\n",
              "</table>\n",
              "</div>"
            ],
            "text/plain": [
              "     listing_id  ... is_rated\n",
              "4      22986519  ...        1\n",
              "124    28659894  ...        1\n",
              "511    33619855  ...        1\n",
              "521    25317793  ...        1\n",
              "\n",
              "[4 rows x 19 columns]"
            ]
          },
          "metadata": {
            "tags": []
          },
          "execution_count": 124
        }
      ]
    },
    {
      "cell_type": "code",
      "metadata": {
        "id": "3xJUlJFm3cmc",
        "colab_type": "code",
        "colab": {}
      },
      "source": [
        "# Drop these rows since they are only 4 rows\n",
        "airbnb = airbnb[~(airbnb['listing_added'].dt.date > today)]"
      ],
      "execution_count": 0,
      "outputs": []
    },
    {
      "cell_type": "code",
      "metadata": {
        "id": "BvqMxmux4e_Q",
        "colab_type": "code",
        "colab": {
          "base_uri": "https://localhost:8080/",
          "height": 244
        },
        "outputId": "d7a04d25-5aa4-453a-a7da-13a6e6cac7ee"
      },
      "source": [
        "# Are there any listings with listing_added > last_review\n",
        "incosistent_dates = airbnb[airbnb['listing_added'].dt.date > airbnb['last_review'].dt.date]\n",
        "incosistent_dates"
      ],
      "execution_count": 126,
      "outputs": [
        {
          "output_type": "execute_result",
          "data": {
            "text/html": [
              "<div>\n",
              "<style scoped>\n",
              "    .dataframe tbody tr th:only-of-type {\n",
              "        vertical-align: middle;\n",
              "    }\n",
              "\n",
              "    .dataframe tbody tr th {\n",
              "        vertical-align: top;\n",
              "    }\n",
              "\n",
              "    .dataframe thead th {\n",
              "        text-align: right;\n",
              "    }\n",
              "</style>\n",
              "<table border=\"1\" class=\"dataframe\">\n",
              "  <thead>\n",
              "    <tr style=\"text-align: right;\">\n",
              "      <th></th>\n",
              "      <th>listing_id</th>\n",
              "      <th>name</th>\n",
              "      <th>host_id</th>\n",
              "      <th>host_name</th>\n",
              "      <th>room_type</th>\n",
              "      <th>price</th>\n",
              "      <th>number_of_reviews</th>\n",
              "      <th>last_review</th>\n",
              "      <th>reviews_per_month</th>\n",
              "      <th>availability_365</th>\n",
              "      <th>rating</th>\n",
              "      <th>number_of_stays</th>\n",
              "      <th>5_stars</th>\n",
              "      <th>listing_added</th>\n",
              "      <th>latitude</th>\n",
              "      <th>longitude</th>\n",
              "      <th>borough</th>\n",
              "      <th>neighbourhood</th>\n",
              "      <th>is_rated</th>\n",
              "    </tr>\n",
              "  </thead>\n",
              "  <tbody>\n",
              "    <tr>\n",
              "      <th>50</th>\n",
              "      <td>20783900</td>\n",
              "      <td>Marvelous Manhattan Marble Hill Private Suites</td>\n",
              "      <td>148960265</td>\n",
              "      <td>Randy</td>\n",
              "      <td>Private Room</td>\n",
              "      <td>93.0</td>\n",
              "      <td>7</td>\n",
              "      <td>2018-10-06</td>\n",
              "      <td>0.32</td>\n",
              "      <td>0</td>\n",
              "      <td>4.868036</td>\n",
              "      <td>8.4</td>\n",
              "      <td>0.609263</td>\n",
              "      <td>2020-02-17</td>\n",
              "      <td>40.87618</td>\n",
              "      <td>-73.91266</td>\n",
              "      <td>Manhattan</td>\n",
              "      <td>Marble Hill</td>\n",
              "      <td>1</td>\n",
              "    </tr>\n",
              "    <tr>\n",
              "      <th>60</th>\n",
              "      <td>1908852</td>\n",
              "      <td>Oversized Studio By Columbus Circle</td>\n",
              "      <td>684629</td>\n",
              "      <td>Alana</td>\n",
              "      <td>Entire Place</td>\n",
              "      <td>189.0</td>\n",
              "      <td>7</td>\n",
              "      <td>2016-05-06</td>\n",
              "      <td>0.13</td>\n",
              "      <td>0</td>\n",
              "      <td>4.841204</td>\n",
              "      <td>8.4</td>\n",
              "      <td>0.725995</td>\n",
              "      <td>2017-09-17</td>\n",
              "      <td>40.77060</td>\n",
              "      <td>-73.98919</td>\n",
              "      <td>Manhattan</td>\n",
              "      <td>Upper West Side</td>\n",
              "      <td>1</td>\n",
              "    </tr>\n",
              "  </tbody>\n",
              "</table>\n",
              "</div>"
            ],
            "text/plain": [
              "    listing_id  ... is_rated\n",
              "50    20783900  ...        1\n",
              "60     1908852  ...        1\n",
              "\n",
              "[2 rows x 19 columns]"
            ]
          },
          "metadata": {
            "tags": []
          },
          "execution_count": 126
        }
      ]
    },
    {
      "cell_type": "code",
      "metadata": {
        "id": "cCziTT7T4xbT",
        "colab_type": "code",
        "colab": {}
      },
      "source": [
        "# Drop these rows since they are only 2 rows\n",
        "airbnb.drop(incosistent_dates.index, inplace=True)"
      ],
      "execution_count": 0,
      "outputs": []
    },
    {
      "cell_type": "markdown",
      "metadata": {
        "id": "JD1ChXPF6BR7",
        "colab_type": "text"
      },
      "source": [
        "##### **Task 9:** Let's deal with duplicate data"
      ]
    },
    {
      "cell_type": "markdown",
      "metadata": {
        "id": "hz9oQHyt8KmO",
        "colab_type": "text"
      },
      "source": [
        "\n",
        "There are two notable types of duplicate data:\n",
        "\n",
        "- Identical duplicate data across all columns\n",
        "- Identical duplicate data cross most or some columns\n",
        "\n",
        "To diagnose, and deal with duplicate data, we will be using the following methods and functions:\n",
        "\n",
        "- `.duplicated(subset = , keep = )`\n",
        "  - `subset` lets us pick one or more columns with duplicate values.\n",
        "  - `keep` returns lets us return all instances of duplicate values.\n",
        "- `.drop_duplicates(subset = , keep = )`\n",
        "  "
      ]
    },
    {
      "cell_type": "code",
      "metadata": {
        "id": "_m3Gdg7x6ATJ",
        "colab_type": "code",
        "colab": {
          "base_uri": "https://localhost:8080/",
          "height": 450
        },
        "outputId": "f74afcd2-5042-40d8-973b-510c1686b82b"
      },
      "source": [
        "# Print the header of the DataFrame again\n",
        "airbnb.head()"
      ],
      "execution_count": 128,
      "outputs": [
        {
          "output_type": "execute_result",
          "data": {
            "text/html": [
              "<div>\n",
              "<style scoped>\n",
              "    .dataframe tbody tr th:only-of-type {\n",
              "        vertical-align: middle;\n",
              "    }\n",
              "\n",
              "    .dataframe tbody tr th {\n",
              "        vertical-align: top;\n",
              "    }\n",
              "\n",
              "    .dataframe thead th {\n",
              "        text-align: right;\n",
              "    }\n",
              "</style>\n",
              "<table border=\"1\" class=\"dataframe\">\n",
              "  <thead>\n",
              "    <tr style=\"text-align: right;\">\n",
              "      <th></th>\n",
              "      <th>listing_id</th>\n",
              "      <th>name</th>\n",
              "      <th>host_id</th>\n",
              "      <th>host_name</th>\n",
              "      <th>room_type</th>\n",
              "      <th>price</th>\n",
              "      <th>number_of_reviews</th>\n",
              "      <th>last_review</th>\n",
              "      <th>reviews_per_month</th>\n",
              "      <th>availability_365</th>\n",
              "      <th>rating</th>\n",
              "      <th>number_of_stays</th>\n",
              "      <th>5_stars</th>\n",
              "      <th>listing_added</th>\n",
              "      <th>latitude</th>\n",
              "      <th>longitude</th>\n",
              "      <th>borough</th>\n",
              "      <th>neighbourhood</th>\n",
              "      <th>is_rated</th>\n",
              "    </tr>\n",
              "  </thead>\n",
              "  <tbody>\n",
              "    <tr>\n",
              "      <th>0</th>\n",
              "      <td>13740704</td>\n",
              "      <td>Cozy,budget friendly, cable inc, private entra...</td>\n",
              "      <td>20583125</td>\n",
              "      <td>Michel</td>\n",
              "      <td>Private Room</td>\n",
              "      <td>45.0</td>\n",
              "      <td>10</td>\n",
              "      <td>2018-12-12</td>\n",
              "      <td>0.70</td>\n",
              "      <td>85</td>\n",
              "      <td>4.100954</td>\n",
              "      <td>12.0</td>\n",
              "      <td>0.609432</td>\n",
              "      <td>2018-06-08</td>\n",
              "      <td>40.63222</td>\n",
              "      <td>-73.93398</td>\n",
              "      <td>Brooklyn</td>\n",
              "      <td>Flatlands</td>\n",
              "      <td>1</td>\n",
              "    </tr>\n",
              "    <tr>\n",
              "      <th>1</th>\n",
              "      <td>22005115</td>\n",
              "      <td>Two floor apartment near Central Park</td>\n",
              "      <td>82746113</td>\n",
              "      <td>Cecilia</td>\n",
              "      <td>Entire Place</td>\n",
              "      <td>135.0</td>\n",
              "      <td>1</td>\n",
              "      <td>2019-06-30</td>\n",
              "      <td>1.00</td>\n",
              "      <td>145</td>\n",
              "      <td>3.367600</td>\n",
              "      <td>1.2</td>\n",
              "      <td>0.746135</td>\n",
              "      <td>2018-12-25</td>\n",
              "      <td>40.78761</td>\n",
              "      <td>-73.96862</td>\n",
              "      <td>Manhattan</td>\n",
              "      <td>Upper West Side</td>\n",
              "      <td>1</td>\n",
              "    </tr>\n",
              "    <tr>\n",
              "      <th>2</th>\n",
              "      <td>21667615</td>\n",
              "      <td>Beautiful 1BR in Brooklyn Heights</td>\n",
              "      <td>78251</td>\n",
              "      <td>Leslie</td>\n",
              "      <td>Entire Place</td>\n",
              "      <td>150.0</td>\n",
              "      <td>0</td>\n",
              "      <td>NaT</td>\n",
              "      <td>0.00</td>\n",
              "      <td>65</td>\n",
              "      <td>NaN</td>\n",
              "      <td>0.0</td>\n",
              "      <td>0.000000</td>\n",
              "      <td>2018-08-15</td>\n",
              "      <td>40.70070</td>\n",
              "      <td>-73.99517</td>\n",
              "      <td>Brooklyn</td>\n",
              "      <td>Brooklyn Heights</td>\n",
              "      <td>0</td>\n",
              "    </tr>\n",
              "    <tr>\n",
              "      <th>3</th>\n",
              "      <td>6425850</td>\n",
              "      <td>Spacious, charming studio</td>\n",
              "      <td>32715865</td>\n",
              "      <td>Yelena</td>\n",
              "      <td>Entire Place</td>\n",
              "      <td>86.0</td>\n",
              "      <td>5</td>\n",
              "      <td>2017-09-23</td>\n",
              "      <td>0.13</td>\n",
              "      <td>0</td>\n",
              "      <td>4.763203</td>\n",
              "      <td>6.0</td>\n",
              "      <td>0.769947</td>\n",
              "      <td>2017-03-20</td>\n",
              "      <td>40.79169</td>\n",
              "      <td>-73.97498</td>\n",
              "      <td>Manhattan</td>\n",
              "      <td>Upper West Side</td>\n",
              "      <td>1</td>\n",
              "    </tr>\n",
              "    <tr>\n",
              "      <th>5</th>\n",
              "      <td>271954</td>\n",
              "      <td>Beautiful brownstone apartment</td>\n",
              "      <td>1423798</td>\n",
              "      <td>Aj</td>\n",
              "      <td>Entire Place</td>\n",
              "      <td>150.0</td>\n",
              "      <td>203</td>\n",
              "      <td>2019-06-20</td>\n",
              "      <td>2.22</td>\n",
              "      <td>300</td>\n",
              "      <td>4.478396</td>\n",
              "      <td>243.6</td>\n",
              "      <td>0.743500</td>\n",
              "      <td>2018-12-15</td>\n",
              "      <td>40.73388</td>\n",
              "      <td>-73.99452</td>\n",
              "      <td>Manhattan</td>\n",
              "      <td>Greenwich Village</td>\n",
              "      <td>1</td>\n",
              "    </tr>\n",
              "  </tbody>\n",
              "</table>\n",
              "</div>"
            ],
            "text/plain": [
              "   listing_id  ... is_rated\n",
              "0    13740704  ...        1\n",
              "1    22005115  ...        1\n",
              "2    21667615  ...        0\n",
              "3     6425850  ...        1\n",
              "5      271954  ...        1\n",
              "\n",
              "[5 rows x 19 columns]"
            ]
          },
          "metadata": {
            "tags": []
          },
          "execution_count": 128
        }
      ]
    },
    {
      "cell_type": "code",
      "metadata": {
        "id": "EzT8q3SCIW7w",
        "colab_type": "code",
        "colab": {
          "base_uri": "https://localhost:8080/",
          "height": 218
        },
        "outputId": "07cc612d-027a-4036-d8d6-5822804ba146"
      },
      "source": [
        "# Find duplicates\n",
        "duplicates = airbnb.duplicated(subset='listing_id', keep=False)\n",
        "print(duplicates)"
      ],
      "execution_count": 129,
      "outputs": [
        {
          "output_type": "stream",
          "text": [
            "0        False\n",
            "1        False\n",
            "2        False\n",
            "3        False\n",
            "5        False\n",
            "         ...  \n",
            "10014    False\n",
            "10015    False\n",
            "10016    False\n",
            "10017    False\n",
            "10018    False\n",
            "Length: 10010, dtype: bool\n"
          ],
          "name": "stdout"
        }
      ]
    },
    {
      "cell_type": "code",
      "metadata": {
        "id": "pqVxdea4Ik5g",
        "colab_type": "code",
        "colab": {
          "base_uri": "https://localhost:8080/",
          "height": 1000
        },
        "outputId": "e5a31127-03a4-4675-a597-e9ca7a6982b5"
      },
      "source": [
        "# Find duplicates\n",
        "airbnb[duplicates].sort_values('listing_id')"
      ],
      "execution_count": 130,
      "outputs": [
        {
          "output_type": "execute_result",
          "data": {
            "text/html": [
              "<div>\n",
              "<style scoped>\n",
              "    .dataframe tbody tr th:only-of-type {\n",
              "        vertical-align: middle;\n",
              "    }\n",
              "\n",
              "    .dataframe tbody tr th {\n",
              "        vertical-align: top;\n",
              "    }\n",
              "\n",
              "    .dataframe thead th {\n",
              "        text-align: right;\n",
              "    }\n",
              "</style>\n",
              "<table border=\"1\" class=\"dataframe\">\n",
              "  <thead>\n",
              "    <tr style=\"text-align: right;\">\n",
              "      <th></th>\n",
              "      <th>listing_id</th>\n",
              "      <th>name</th>\n",
              "      <th>host_id</th>\n",
              "      <th>host_name</th>\n",
              "      <th>room_type</th>\n",
              "      <th>price</th>\n",
              "      <th>number_of_reviews</th>\n",
              "      <th>last_review</th>\n",
              "      <th>reviews_per_month</th>\n",
              "      <th>availability_365</th>\n",
              "      <th>rating</th>\n",
              "      <th>number_of_stays</th>\n",
              "      <th>5_stars</th>\n",
              "      <th>listing_added</th>\n",
              "      <th>latitude</th>\n",
              "      <th>longitude</th>\n",
              "      <th>borough</th>\n",
              "      <th>neighbourhood</th>\n",
              "      <th>is_rated</th>\n",
              "    </tr>\n",
              "  </thead>\n",
              "  <tbody>\n",
              "    <tr>\n",
              "      <th>1145</th>\n",
              "      <td>253806</td>\n",
              "      <td>Loft Suite @ The Box House Hotel</td>\n",
              "      <td>417504</td>\n",
              "      <td>The Box House Hotel</td>\n",
              "      <td>Entire Place</td>\n",
              "      <td>199.0</td>\n",
              "      <td>43</td>\n",
              "      <td>2019-07-02</td>\n",
              "      <td>0.47</td>\n",
              "      <td>60</td>\n",
              "      <td>4.620238</td>\n",
              "      <td>51.6</td>\n",
              "      <td>0.861086</td>\n",
              "      <td>2018-12-27</td>\n",
              "      <td>40.73652</td>\n",
              "      <td>-73.95236</td>\n",
              "      <td>Brooklyn</td>\n",
              "      <td>Greenpoint</td>\n",
              "      <td>1</td>\n",
              "    </tr>\n",
              "    <tr>\n",
              "      <th>6562</th>\n",
              "      <td>253806</td>\n",
              "      <td>Loft Suite @ The Box House Hotel</td>\n",
              "      <td>417504</td>\n",
              "      <td>The Box House Hotel</td>\n",
              "      <td>Entire Place</td>\n",
              "      <td>199.0</td>\n",
              "      <td>43</td>\n",
              "      <td>2019-07-02</td>\n",
              "      <td>0.47</td>\n",
              "      <td>60</td>\n",
              "      <td>4.620238</td>\n",
              "      <td>51.6</td>\n",
              "      <td>0.861086</td>\n",
              "      <td>2018-12-27</td>\n",
              "      <td>40.73652</td>\n",
              "      <td>-73.95236</td>\n",
              "      <td>Brooklyn</td>\n",
              "      <td>Greenpoint</td>\n",
              "      <td>1</td>\n",
              "    </tr>\n",
              "    <tr>\n",
              "      <th>8699</th>\n",
              "      <td>2044392</td>\n",
              "      <td>The heart of Williamsburg 2 bedroom</td>\n",
              "      <td>620218</td>\n",
              "      <td>Sarah</td>\n",
              "      <td>Entire Place</td>\n",
              "      <td>245.0</td>\n",
              "      <td>0</td>\n",
              "      <td>NaT</td>\n",
              "      <td>0.00</td>\n",
              "      <td>0</td>\n",
              "      <td>NaN</td>\n",
              "      <td>0.0</td>\n",
              "      <td>0.000000</td>\n",
              "      <td>2018-08-09</td>\n",
              "      <td>40.71257</td>\n",
              "      <td>-73.96149</td>\n",
              "      <td>Brooklyn</td>\n",
              "      <td>Williamsburg</td>\n",
              "      <td>0</td>\n",
              "    </tr>\n",
              "    <tr>\n",
              "      <th>5761</th>\n",
              "      <td>2044392</td>\n",
              "      <td>The heart of Williamsburg 2 bedroom</td>\n",
              "      <td>620218</td>\n",
              "      <td>Sarah</td>\n",
              "      <td>Entire Place</td>\n",
              "      <td>250.0</td>\n",
              "      <td>0</td>\n",
              "      <td>NaT</td>\n",
              "      <td>0.00</td>\n",
              "      <td>0</td>\n",
              "      <td>NaN</td>\n",
              "      <td>0.0</td>\n",
              "      <td>0.000000</td>\n",
              "      <td>2018-05-24</td>\n",
              "      <td>40.71257</td>\n",
              "      <td>-73.96149</td>\n",
              "      <td>Brooklyn</td>\n",
              "      <td>Williamsburg</td>\n",
              "      <td>0</td>\n",
              "    </tr>\n",
              "    <tr>\n",
              "      <th>4187</th>\n",
              "      <td>4244242</td>\n",
              "      <td>Best Bedroom in Bedstuy/Bushwick. Ensuite bath...</td>\n",
              "      <td>22023014</td>\n",
              "      <td>BrooklynSleeps</td>\n",
              "      <td>Private Room</td>\n",
              "      <td>73.0</td>\n",
              "      <td>110</td>\n",
              "      <td>2019-06-23</td>\n",
              "      <td>1.96</td>\n",
              "      <td>323</td>\n",
              "      <td>4.962314</td>\n",
              "      <td>132.0</td>\n",
              "      <td>0.809882</td>\n",
              "      <td>2018-12-18</td>\n",
              "      <td>40.69496</td>\n",
              "      <td>-73.93949</td>\n",
              "      <td>Brooklyn</td>\n",
              "      <td>Bedford-Stuyvesant</td>\n",
              "      <td>1</td>\n",
              "    </tr>\n",
              "    <tr>\n",
              "      <th>2871</th>\n",
              "      <td>4244242</td>\n",
              "      <td>Best Bedroom in Bedstuy/Bushwick. Ensuite bath...</td>\n",
              "      <td>22023014</td>\n",
              "      <td>BrooklynSleeps</td>\n",
              "      <td>Private Room</td>\n",
              "      <td>70.0</td>\n",
              "      <td>110</td>\n",
              "      <td>2019-06-23</td>\n",
              "      <td>1.96</td>\n",
              "      <td>323</td>\n",
              "      <td>4.962314</td>\n",
              "      <td>132.0</td>\n",
              "      <td>0.809882</td>\n",
              "      <td>2018-12-18</td>\n",
              "      <td>40.69496</td>\n",
              "      <td>-73.93949</td>\n",
              "      <td>Brooklyn</td>\n",
              "      <td>Bedford-Stuyvesant</td>\n",
              "      <td>1</td>\n",
              "    </tr>\n",
              "    <tr>\n",
              "      <th>77</th>\n",
              "      <td>7319856</td>\n",
              "      <td>450ft Square Studio in Gramercy NY</td>\n",
              "      <td>11773680</td>\n",
              "      <td>Adam</td>\n",
              "      <td>Entire Place</td>\n",
              "      <td>289.0</td>\n",
              "      <td>4</td>\n",
              "      <td>2016-05-22</td>\n",
              "      <td>0.09</td>\n",
              "      <td>225</td>\n",
              "      <td>3.903764</td>\n",
              "      <td>4.8</td>\n",
              "      <td>0.756381</td>\n",
              "      <td>2015-11-17</td>\n",
              "      <td>40.73813</td>\n",
              "      <td>-73.98098</td>\n",
              "      <td>Manhattan</td>\n",
              "      <td>Kips Bay</td>\n",
              "      <td>1</td>\n",
              "    </tr>\n",
              "    <tr>\n",
              "      <th>2255</th>\n",
              "      <td>7319856</td>\n",
              "      <td>450ft Square Studio in Gramercy NY</td>\n",
              "      <td>11773680</td>\n",
              "      <td>Adam</td>\n",
              "      <td>Entire Place</td>\n",
              "      <td>280.0</td>\n",
              "      <td>4</td>\n",
              "      <td>2016-05-22</td>\n",
              "      <td>0.09</td>\n",
              "      <td>225</td>\n",
              "      <td>3.903764</td>\n",
              "      <td>4.8</td>\n",
              "      <td>0.756381</td>\n",
              "      <td>2015-11-17</td>\n",
              "      <td>40.73813</td>\n",
              "      <td>-73.98098</td>\n",
              "      <td>Manhattan</td>\n",
              "      <td>Kips Bay</td>\n",
              "      <td>1</td>\n",
              "    </tr>\n",
              "    <tr>\n",
              "      <th>555</th>\n",
              "      <td>9078222</td>\n",
              "      <td>Prospect Park 3 bdrm, Sleeps 8 (#2)</td>\n",
              "      <td>47219962</td>\n",
              "      <td>Babajide</td>\n",
              "      <td>Entire Place</td>\n",
              "      <td>154.0</td>\n",
              "      <td>123</td>\n",
              "      <td>2019-07-01</td>\n",
              "      <td>2.74</td>\n",
              "      <td>263</td>\n",
              "      <td>3.466881</td>\n",
              "      <td>147.6</td>\n",
              "      <td>0.738191</td>\n",
              "      <td>2018-12-26</td>\n",
              "      <td>40.66086</td>\n",
              "      <td>-73.96159</td>\n",
              "      <td>Brooklyn</td>\n",
              "      <td>Prospect-Lefferts Gardens</td>\n",
              "      <td>1</td>\n",
              "    </tr>\n",
              "    <tr>\n",
              "      <th>7933</th>\n",
              "      <td>9078222</td>\n",
              "      <td>Prospect Park 3 bdrm, Sleeps 8 (#2)</td>\n",
              "      <td>47219962</td>\n",
              "      <td>Babajide</td>\n",
              "      <td>Entire Place</td>\n",
              "      <td>150.0</td>\n",
              "      <td>123</td>\n",
              "      <td>2019-07-01</td>\n",
              "      <td>2.74</td>\n",
              "      <td>263</td>\n",
              "      <td>3.466881</td>\n",
              "      <td>147.6</td>\n",
              "      <td>0.738191</td>\n",
              "      <td>2018-12-26</td>\n",
              "      <td>40.66086</td>\n",
              "      <td>-73.96159</td>\n",
              "      <td>Brooklyn</td>\n",
              "      <td>Prospect-Lefferts Gardens</td>\n",
              "      <td>1</td>\n",
              "    </tr>\n",
              "    <tr>\n",
              "      <th>1481</th>\n",
              "      <td>15027024</td>\n",
              "      <td>Newly renovated 1bd on lively &amp; historic St Marks</td>\n",
              "      <td>8344620</td>\n",
              "      <td>Ethan</td>\n",
              "      <td>Entire Place</td>\n",
              "      <td>180.0</td>\n",
              "      <td>10</td>\n",
              "      <td>2018-12-31</td>\n",
              "      <td>0.30</td>\n",
              "      <td>0</td>\n",
              "      <td>3.969729</td>\n",
              "      <td>12.0</td>\n",
              "      <td>0.772513</td>\n",
              "      <td>2018-06-27</td>\n",
              "      <td>40.72693</td>\n",
              "      <td>-73.98385</td>\n",
              "      <td>Manhattan</td>\n",
              "      <td>East Village</td>\n",
              "      <td>1</td>\n",
              "    </tr>\n",
              "    <tr>\n",
              "      <th>3430</th>\n",
              "      <td>15027024</td>\n",
              "      <td>Newly renovated 1bd on lively &amp; historic St Marks</td>\n",
              "      <td>8344620</td>\n",
              "      <td>Ethan</td>\n",
              "      <td>Entire Place</td>\n",
              "      <td>180.0</td>\n",
              "      <td>10</td>\n",
              "      <td>2018-12-31</td>\n",
              "      <td>0.30</td>\n",
              "      <td>0</td>\n",
              "      <td>3.869729</td>\n",
              "      <td>12.0</td>\n",
              "      <td>0.772513</td>\n",
              "      <td>2018-06-27</td>\n",
              "      <td>40.72693</td>\n",
              "      <td>-73.98385</td>\n",
              "      <td>Manhattan</td>\n",
              "      <td>East Village</td>\n",
              "      <td>1</td>\n",
              "    </tr>\n",
              "    <tr>\n",
              "      <th>3065</th>\n",
              "      <td>16518377</td>\n",
              "      <td>East Village 1BR Apt with all the amenities</td>\n",
              "      <td>3012457</td>\n",
              "      <td>Cody</td>\n",
              "      <td>Entire Place</td>\n",
              "      <td>200.0</td>\n",
              "      <td>3</td>\n",
              "      <td>2018-07-10</td>\n",
              "      <td>0.16</td>\n",
              "      <td>0</td>\n",
              "      <td>4.676670</td>\n",
              "      <td>3.6</td>\n",
              "      <td>0.694443</td>\n",
              "      <td>2018-01-04</td>\n",
              "      <td>40.72350</td>\n",
              "      <td>-73.97963</td>\n",
              "      <td>Manhattan</td>\n",
              "      <td>East Village</td>\n",
              "      <td>1</td>\n",
              "    </tr>\n",
              "    <tr>\n",
              "      <th>5397</th>\n",
              "      <td>16518377</td>\n",
              "      <td>East Village 1BR Apt with all the amenities</td>\n",
              "      <td>3012457</td>\n",
              "      <td>Cody</td>\n",
              "      <td>Entire Place</td>\n",
              "      <td>200.0</td>\n",
              "      <td>3</td>\n",
              "      <td>2018-07-10</td>\n",
              "      <td>0.16</td>\n",
              "      <td>0</td>\n",
              "      <td>4.676670</td>\n",
              "      <td>3.6</td>\n",
              "      <td>0.694443</td>\n",
              "      <td>2018-01-04</td>\n",
              "      <td>40.72350</td>\n",
              "      <td>-73.97963</td>\n",
              "      <td>Manhattan</td>\n",
              "      <td>East Village</td>\n",
              "      <td>1</td>\n",
              "    </tr>\n",
              "    <tr>\n",
              "      <th>3007</th>\n",
              "      <td>17861841</td>\n",
              "      <td>THE CREATIVE COZY ROOM</td>\n",
              "      <td>47591528</td>\n",
              "      <td>Janessa</td>\n",
              "      <td>Private Room</td>\n",
              "      <td>99.0</td>\n",
              "      <td>13</td>\n",
              "      <td>2019-05-23</td>\n",
              "      <td>0.52</td>\n",
              "      <td>82</td>\n",
              "      <td>4.806590</td>\n",
              "      <td>15.6</td>\n",
              "      <td>0.937422</td>\n",
              "      <td>2018-11-17</td>\n",
              "      <td>40.59211</td>\n",
              "      <td>-73.94127</td>\n",
              "      <td>Brooklyn</td>\n",
              "      <td>Sheepshead Bay</td>\n",
              "      <td>1</td>\n",
              "    </tr>\n",
              "    <tr>\n",
              "      <th>368</th>\n",
              "      <td>17861841</td>\n",
              "      <td>THE CREATIVE COZY ROOM</td>\n",
              "      <td>47591528</td>\n",
              "      <td>Janessa</td>\n",
              "      <td>Private Room</td>\n",
              "      <td>99.0</td>\n",
              "      <td>13</td>\n",
              "      <td>2019-05-23</td>\n",
              "      <td>0.52</td>\n",
              "      <td>82</td>\n",
              "      <td>4.806590</td>\n",
              "      <td>15.6</td>\n",
              "      <td>0.937422</td>\n",
              "      <td>2018-11-17</td>\n",
              "      <td>40.59211</td>\n",
              "      <td>-73.94127</td>\n",
              "      <td>Brooklyn</td>\n",
              "      <td>Sheepshead Bay</td>\n",
              "      <td>1</td>\n",
              "    </tr>\n",
              "    <tr>\n",
              "      <th>6438</th>\n",
              "      <td>19477677</td>\n",
              "      <td>Huge sunny room next to subway!</td>\n",
              "      <td>25038748</td>\n",
              "      <td>Justin</td>\n",
              "      <td>Private Room</td>\n",
              "      <td>70.0</td>\n",
              "      <td>11</td>\n",
              "      <td>2019-05-11</td>\n",
              "      <td>0.45</td>\n",
              "      <td>0</td>\n",
              "      <td>3.074890</td>\n",
              "      <td>13.2</td>\n",
              "      <td>0.631619</td>\n",
              "      <td>2018-11-05</td>\n",
              "      <td>40.82119</td>\n",
              "      <td>-73.95583</td>\n",
              "      <td>Manhattan</td>\n",
              "      <td>Harlem</td>\n",
              "      <td>1</td>\n",
              "    </tr>\n",
              "    <tr>\n",
              "      <th>5251</th>\n",
              "      <td>19477677</td>\n",
              "      <td>Huge sunny room next to subway!</td>\n",
              "      <td>25038748</td>\n",
              "      <td>Justin</td>\n",
              "      <td>Private Room</td>\n",
              "      <td>70.0</td>\n",
              "      <td>11</td>\n",
              "      <td>2019-05-11</td>\n",
              "      <td>0.45</td>\n",
              "      <td>0</td>\n",
              "      <td>3.074890</td>\n",
              "      <td>13.2</td>\n",
              "      <td>0.631619</td>\n",
              "      <td>2018-11-05</td>\n",
              "      <td>40.82119</td>\n",
              "      <td>-73.95583</td>\n",
              "      <td>Manhattan</td>\n",
              "      <td>Harlem</td>\n",
              "      <td>1</td>\n",
              "    </tr>\n",
              "    <tr>\n",
              "      <th>5454</th>\n",
              "      <td>21106251</td>\n",
              "      <td>Private Bedroom in Great Brooklyn Apartment</td>\n",
              "      <td>25354313</td>\n",
              "      <td>Tommy</td>\n",
              "      <td>Private Room</td>\n",
              "      <td>45.0</td>\n",
              "      <td>9</td>\n",
              "      <td>2019-06-22</td>\n",
              "      <td>0.43</td>\n",
              "      <td>0</td>\n",
              "      <td>3.779114</td>\n",
              "      <td>10.8</td>\n",
              "      <td>0.738191</td>\n",
              "      <td>2018-12-17</td>\n",
              "      <td>40.67359</td>\n",
              "      <td>-73.95812</td>\n",
              "      <td>Brooklyn</td>\n",
              "      <td>Crown Heights</td>\n",
              "      <td>1</td>\n",
              "    </tr>\n",
              "    <tr>\n",
              "      <th>6832</th>\n",
              "      <td>21106251</td>\n",
              "      <td>Private Bedroom in Great Brooklyn Apartment</td>\n",
              "      <td>25354313</td>\n",
              "      <td>Tommy</td>\n",
              "      <td>Private Room</td>\n",
              "      <td>45.0</td>\n",
              "      <td>9</td>\n",
              "      <td>2019-06-22</td>\n",
              "      <td>0.43</td>\n",
              "      <td>0</td>\n",
              "      <td>3.779114</td>\n",
              "      <td>10.8</td>\n",
              "      <td>0.738191</td>\n",
              "      <td>2018-12-17</td>\n",
              "      <td>40.67359</td>\n",
              "      <td>-73.95812</td>\n",
              "      <td>Brooklyn</td>\n",
              "      <td>Crown Heights</td>\n",
              "      <td>1</td>\n",
              "    </tr>\n",
              "    <tr>\n",
              "      <th>5246</th>\n",
              "      <td>22014840</td>\n",
              "      <td>Sunny Bedroom Only 1 Metro Stop to Manhattan</td>\n",
              "      <td>32093643</td>\n",
              "      <td>Scarlett</td>\n",
              "      <td>Private Room</td>\n",
              "      <td>70.0</td>\n",
              "      <td>2</td>\n",
              "      <td>2018-01-07</td>\n",
              "      <td>0.11</td>\n",
              "      <td>0</td>\n",
              "      <td>4.024336</td>\n",
              "      <td>2.4</td>\n",
              "      <td>0.719426</td>\n",
              "      <td>2017-07-04</td>\n",
              "      <td>40.76211</td>\n",
              "      <td>-73.94887</td>\n",
              "      <td>Manhattan</td>\n",
              "      <td>Roosevelt Island</td>\n",
              "      <td>1</td>\n",
              "    </tr>\n",
              "    <tr>\n",
              "      <th>6068</th>\n",
              "      <td>22014840</td>\n",
              "      <td>Sunny Bedroom Only 1 Metro Stop to Manhattan</td>\n",
              "      <td>32093643</td>\n",
              "      <td>Scarlett</td>\n",
              "      <td>Private Room</td>\n",
              "      <td>70.0</td>\n",
              "      <td>2</td>\n",
              "      <td>2018-01-07</td>\n",
              "      <td>0.11</td>\n",
              "      <td>0</td>\n",
              "      <td>4.024336</td>\n",
              "      <td>2.4</td>\n",
              "      <td>0.719426</td>\n",
              "      <td>2017-07-04</td>\n",
              "      <td>40.76211</td>\n",
              "      <td>-73.94887</td>\n",
              "      <td>Manhattan</td>\n",
              "      <td>Roosevelt Island</td>\n",
              "      <td>1</td>\n",
              "    </tr>\n",
              "    <tr>\n",
              "      <th>5861</th>\n",
              "      <td>23990868</td>\n",
              "      <td>1 Bedroom in Luxury Building</td>\n",
              "      <td>4447548</td>\n",
              "      <td>Grace</td>\n",
              "      <td>Entire Place</td>\n",
              "      <td>88.0</td>\n",
              "      <td>8</td>\n",
              "      <td>2019-06-16</td>\n",
              "      <td>0.56</td>\n",
              "      <td>18</td>\n",
              "      <td>4.164548</td>\n",
              "      <td>9.6</td>\n",
              "      <td>0.640106</td>\n",
              "      <td>2018-12-11</td>\n",
              "      <td>40.69336</td>\n",
              "      <td>-73.94453</td>\n",
              "      <td>Brooklyn</td>\n",
              "      <td>Bedford-Stuyvesant</td>\n",
              "      <td>1</td>\n",
              "    </tr>\n",
              "    <tr>\n",
              "      <th>6132</th>\n",
              "      <td>23990868</td>\n",
              "      <td>1 Bedroom in Luxury Building</td>\n",
              "      <td>4447548</td>\n",
              "      <td>Grace</td>\n",
              "      <td>Entire Place</td>\n",
              "      <td>88.0</td>\n",
              "      <td>8</td>\n",
              "      <td>2019-06-16</td>\n",
              "      <td>0.56</td>\n",
              "      <td>18</td>\n",
              "      <td>4.164548</td>\n",
              "      <td>9.6</td>\n",
              "      <td>0.640106</td>\n",
              "      <td>2018-12-11</td>\n",
              "      <td>40.69336</td>\n",
              "      <td>-73.94453</td>\n",
              "      <td>Brooklyn</td>\n",
              "      <td>Bedford-Stuyvesant</td>\n",
              "      <td>1</td>\n",
              "    </tr>\n",
              "    <tr>\n",
              "      <th>7769</th>\n",
              "      <td>26554879</td>\n",
              "      <td>East Village/Union Square Flat</td>\n",
              "      <td>17400431</td>\n",
              "      <td>Bob</td>\n",
              "      <td>Entire Place</td>\n",
              "      <td>179.0</td>\n",
              "      <td>32</td>\n",
              "      <td>2019-06-26</td>\n",
              "      <td>2.92</td>\n",
              "      <td>12</td>\n",
              "      <td>3.125513</td>\n",
              "      <td>38.4</td>\n",
              "      <td>0.631764</td>\n",
              "      <td>2018-12-21</td>\n",
              "      <td>40.73177</td>\n",
              "      <td>-73.98691</td>\n",
              "      <td>Manhattan</td>\n",
              "      <td>East Village</td>\n",
              "      <td>1</td>\n",
              "    </tr>\n",
              "    <tr>\n",
              "      <th>7116</th>\n",
              "      <td>26554879</td>\n",
              "      <td>East Village/Union Square Flat</td>\n",
              "      <td>17400431</td>\n",
              "      <td>Bob</td>\n",
              "      <td>Entire Place</td>\n",
              "      <td>179.0</td>\n",
              "      <td>32</td>\n",
              "      <td>2019-06-26</td>\n",
              "      <td>2.92</td>\n",
              "      <td>12</td>\n",
              "      <td>3.125513</td>\n",
              "      <td>38.4</td>\n",
              "      <td>0.631764</td>\n",
              "      <td>2018-12-21</td>\n",
              "      <td>40.73177</td>\n",
              "      <td>-73.98691</td>\n",
              "      <td>Manhattan</td>\n",
              "      <td>East Village</td>\n",
              "      <td>1</td>\n",
              "    </tr>\n",
              "    <tr>\n",
              "      <th>5236</th>\n",
              "      <td>29844951</td>\n",
              "      <td>Cozy Home In Queens</td>\n",
              "      <td>49946447</td>\n",
              "      <td>Rah</td>\n",
              "      <td>Private Room</td>\n",
              "      <td>50.0</td>\n",
              "      <td>1</td>\n",
              "      <td>2019-03-19</td>\n",
              "      <td>0.27</td>\n",
              "      <td>311</td>\n",
              "      <td>4.792923</td>\n",
              "      <td>1.2</td>\n",
              "      <td>0.701232</td>\n",
              "      <td>2018-09-13</td>\n",
              "      <td>40.68842</td>\n",
              "      <td>-73.77677</td>\n",
              "      <td>Queens</td>\n",
              "      <td>Jamaica</td>\n",
              "      <td>1</td>\n",
              "    </tr>\n",
              "    <tr>\n",
              "      <th>9425</th>\n",
              "      <td>29844951</td>\n",
              "      <td>Cozy Home In Queens</td>\n",
              "      <td>49946447</td>\n",
              "      <td>Rah</td>\n",
              "      <td>Private Room</td>\n",
              "      <td>50.0</td>\n",
              "      <td>1</td>\n",
              "      <td>2019-03-19</td>\n",
              "      <td>0.27</td>\n",
              "      <td>311</td>\n",
              "      <td>4.792923</td>\n",
              "      <td>1.2</td>\n",
              "      <td>0.701232</td>\n",
              "      <td>2018-09-13</td>\n",
              "      <td>40.68842</td>\n",
              "      <td>-73.77677</td>\n",
              "      <td>Queens</td>\n",
              "      <td>Jamaica</td>\n",
              "      <td>1</td>\n",
              "    </tr>\n",
              "    <tr>\n",
              "      <th>7316</th>\n",
              "      <td>31470004</td>\n",
              "      <td>Private bedroom/Bathroom in a 2 bedroom apartment</td>\n",
              "      <td>71241932</td>\n",
              "      <td>Max</td>\n",
              "      <td>Private Room</td>\n",
              "      <td>2500.0</td>\n",
              "      <td>0</td>\n",
              "      <td>NaT</td>\n",
              "      <td>0.00</td>\n",
              "      <td>90</td>\n",
              "      <td>NaN</td>\n",
              "      <td>0.0</td>\n",
              "      <td>0.000000</td>\n",
              "      <td>2018-04-09</td>\n",
              "      <td>40.72544</td>\n",
              "      <td>-73.97818</td>\n",
              "      <td>Manhattan</td>\n",
              "      <td>East Village</td>\n",
              "      <td>0</td>\n",
              "    </tr>\n",
              "    <tr>\n",
              "      <th>9322</th>\n",
              "      <td>31470004</td>\n",
              "      <td>Private bedroom/Bathroom in a 2 bedroom apartment</td>\n",
              "      <td>71241932</td>\n",
              "      <td>Max</td>\n",
              "      <td>Private Room</td>\n",
              "      <td>2500.0</td>\n",
              "      <td>0</td>\n",
              "      <td>NaT</td>\n",
              "      <td>0.00</td>\n",
              "      <td>90</td>\n",
              "      <td>NaN</td>\n",
              "      <td>0.0</td>\n",
              "      <td>0.000000</td>\n",
              "      <td>2018-03-12</td>\n",
              "      <td>40.72544</td>\n",
              "      <td>-73.97818</td>\n",
              "      <td>Manhattan</td>\n",
              "      <td>East Village</td>\n",
              "      <td>0</td>\n",
              "    </tr>\n",
              "    <tr>\n",
              "      <th>1338</th>\n",
              "      <td>32610834</td>\n",
              "      <td>Manhattan by the water!</td>\n",
              "      <td>12132369</td>\n",
              "      <td>Omar</td>\n",
              "      <td>Entire Place</td>\n",
              "      <td>150.0</td>\n",
              "      <td>0</td>\n",
              "      <td>NaT</td>\n",
              "      <td>0.00</td>\n",
              "      <td>9</td>\n",
              "      <td>NaN</td>\n",
              "      <td>0.0</td>\n",
              "      <td>0.000000</td>\n",
              "      <td>2018-06-28</td>\n",
              "      <td>40.73767</td>\n",
              "      <td>-73.97384</td>\n",
              "      <td>Manhattan</td>\n",
              "      <td>Kips Bay</td>\n",
              "      <td>0</td>\n",
              "    </tr>\n",
              "    <tr>\n",
              "      <th>6313</th>\n",
              "      <td>32610834</td>\n",
              "      <td>Manhattan by the water!</td>\n",
              "      <td>12132369</td>\n",
              "      <td>Omar</td>\n",
              "      <td>Entire Place</td>\n",
              "      <td>150.0</td>\n",
              "      <td>0</td>\n",
              "      <td>NaT</td>\n",
              "      <td>0.00</td>\n",
              "      <td>9</td>\n",
              "      <td>NaN</td>\n",
              "      <td>0.0</td>\n",
              "      <td>0.000000</td>\n",
              "      <td>2018-06-28</td>\n",
              "      <td>40.73767</td>\n",
              "      <td>-73.97384</td>\n",
              "      <td>Manhattan</td>\n",
              "      <td>Kips Bay</td>\n",
              "      <td>0</td>\n",
              "    </tr>\n",
              "    <tr>\n",
              "      <th>6085</th>\n",
              "      <td>33346762</td>\n",
              "      <td>2BR Apartment in Brownstone Brooklyn!</td>\n",
              "      <td>50321289</td>\n",
              "      <td>Avery</td>\n",
              "      <td>Entire Place</td>\n",
              "      <td>140.0</td>\n",
              "      <td>4</td>\n",
              "      <td>2019-06-14</td>\n",
              "      <td>1.58</td>\n",
              "      <td>4</td>\n",
              "      <td>4.013393</td>\n",
              "      <td>4.8</td>\n",
              "      <td>0.719591</td>\n",
              "      <td>2018-12-09</td>\n",
              "      <td>40.68200</td>\n",
              "      <td>-73.95681</td>\n",
              "      <td>Brooklyn</td>\n",
              "      <td>Bedford-Stuyvesant</td>\n",
              "      <td>1</td>\n",
              "    </tr>\n",
              "    <tr>\n",
              "      <th>2118</th>\n",
              "      <td>33346762</td>\n",
              "      <td>2BR Apartment in Brownstone Brooklyn!</td>\n",
              "      <td>50321289</td>\n",
              "      <td>Avery</td>\n",
              "      <td>Entire Place</td>\n",
              "      <td>140.0</td>\n",
              "      <td>4</td>\n",
              "      <td>2019-06-14</td>\n",
              "      <td>1.58</td>\n",
              "      <td>4</td>\n",
              "      <td>4.013393</td>\n",
              "      <td>4.8</td>\n",
              "      <td>0.719591</td>\n",
              "      <td>2018-12-09</td>\n",
              "      <td>40.68200</td>\n",
              "      <td>-73.95681</td>\n",
              "      <td>Brooklyn</td>\n",
              "      <td>Bedford-Stuyvesant</td>\n",
              "      <td>1</td>\n",
              "    </tr>\n",
              "    <tr>\n",
              "      <th>5025</th>\n",
              "      <td>33831116</td>\n",
              "      <td>Sonder | Stock Exchange | Collected 1BR + Laundry</td>\n",
              "      <td>219517861</td>\n",
              "      <td>Sonder (NYC)</td>\n",
              "      <td>Entire Place</td>\n",
              "      <td>229.0</td>\n",
              "      <td>5</td>\n",
              "      <td>2019-06-15</td>\n",
              "      <td>1.92</td>\n",
              "      <td>350</td>\n",
              "      <td>4.026379</td>\n",
              "      <td>6.0</td>\n",
              "      <td>0.601737</td>\n",
              "      <td>2018-12-10</td>\n",
              "      <td>40.70621</td>\n",
              "      <td>-74.01199</td>\n",
              "      <td>Manhattan</td>\n",
              "      <td>Financial District</td>\n",
              "      <td>1</td>\n",
              "    </tr>\n",
              "    <tr>\n",
              "      <th>5077</th>\n",
              "      <td>33831116</td>\n",
              "      <td>Sonder | Stock Exchange | Collected 1BR + Laundry</td>\n",
              "      <td>219517861</td>\n",
              "      <td>Sonder (NYC)</td>\n",
              "      <td>Entire Place</td>\n",
              "      <td>229.0</td>\n",
              "      <td>5</td>\n",
              "      <td>2019-06-15</td>\n",
              "      <td>1.92</td>\n",
              "      <td>350</td>\n",
              "      <td>4.026379</td>\n",
              "      <td>6.0</td>\n",
              "      <td>0.601737</td>\n",
              "      <td>2018-12-10</td>\n",
              "      <td>40.70621</td>\n",
              "      <td>-74.01199</td>\n",
              "      <td>Manhattan</td>\n",
              "      <td>Financial District</td>\n",
              "      <td>1</td>\n",
              "    </tr>\n",
              "    <tr>\n",
              "      <th>1658</th>\n",
              "      <td>35646737</td>\n",
              "      <td>Private Cabins @ Chelsea, Manhattan</td>\n",
              "      <td>117365574</td>\n",
              "      <td>Maria</td>\n",
              "      <td>Private Room</td>\n",
              "      <td>85.0</td>\n",
              "      <td>1</td>\n",
              "      <td>2019-06-22</td>\n",
              "      <td>1.00</td>\n",
              "      <td>261</td>\n",
              "      <td>4.951714</td>\n",
              "      <td>1.2</td>\n",
              "      <td>0.671388</td>\n",
              "      <td>2018-12-17</td>\n",
              "      <td>40.74946</td>\n",
              "      <td>-73.99627</td>\n",
              "      <td>Manhattan</td>\n",
              "      <td>Chelsea</td>\n",
              "      <td>1</td>\n",
              "    </tr>\n",
              "    <tr>\n",
              "      <th>3340</th>\n",
              "      <td>35646737</td>\n",
              "      <td>Private Cabins @ Chelsea, Manhattan</td>\n",
              "      <td>117365574</td>\n",
              "      <td>Maria</td>\n",
              "      <td>Private Room</td>\n",
              "      <td>85.0</td>\n",
              "      <td>1</td>\n",
              "      <td>2019-06-22</td>\n",
              "      <td>1.00</td>\n",
              "      <td>261</td>\n",
              "      <td>4.951714</td>\n",
              "      <td>1.2</td>\n",
              "      <td>0.671388</td>\n",
              "      <td>2018-12-17</td>\n",
              "      <td>40.74946</td>\n",
              "      <td>-73.99627</td>\n",
              "      <td>Manhattan</td>\n",
              "      <td>Chelsea</td>\n",
              "      <td>1</td>\n",
              "    </tr>\n",
              "    <tr>\n",
              "      <th>7155</th>\n",
              "      <td>35801208</td>\n",
              "      <td>Comfy 2 bedroom Close To Manhattan</td>\n",
              "      <td>256911412</td>\n",
              "      <td>Taylor</td>\n",
              "      <td>Entire Place</td>\n",
              "      <td>101.0</td>\n",
              "      <td>0</td>\n",
              "      <td>NaT</td>\n",
              "      <td>0.00</td>\n",
              "      <td>27</td>\n",
              "      <td>NaN</td>\n",
              "      <td>0.0</td>\n",
              "      <td>0.000000</td>\n",
              "      <td>2018-10-17</td>\n",
              "      <td>40.70469</td>\n",
              "      <td>-73.93690</td>\n",
              "      <td>Brooklyn</td>\n",
              "      <td>Williamsburg</td>\n",
              "      <td>0</td>\n",
              "    </tr>\n",
              "    <tr>\n",
              "      <th>9265</th>\n",
              "      <td>35801208</td>\n",
              "      <td>Comfy 2 bedroom Close To Manhattan</td>\n",
              "      <td>256911412</td>\n",
              "      <td>Taylor</td>\n",
              "      <td>Entire Place</td>\n",
              "      <td>101.0</td>\n",
              "      <td>0</td>\n",
              "      <td>NaT</td>\n",
              "      <td>0.00</td>\n",
              "      <td>27</td>\n",
              "      <td>NaN</td>\n",
              "      <td>0.0</td>\n",
              "      <td>0.000000</td>\n",
              "      <td>2018-05-03</td>\n",
              "      <td>40.70469</td>\n",
              "      <td>-73.93690</td>\n",
              "      <td>Brooklyn</td>\n",
              "      <td>Williamsburg</td>\n",
              "      <td>0</td>\n",
              "    </tr>\n",
              "  </tbody>\n",
              "</table>\n",
              "</div>"
            ],
            "text/plain": [
              "      listing_id  ... is_rated\n",
              "1145      253806  ...        1\n",
              "6562      253806  ...        1\n",
              "8699     2044392  ...        0\n",
              "5761     2044392  ...        0\n",
              "4187     4244242  ...        1\n",
              "2871     4244242  ...        1\n",
              "77       7319856  ...        1\n",
              "2255     7319856  ...        1\n",
              "555      9078222  ...        1\n",
              "7933     9078222  ...        1\n",
              "1481    15027024  ...        1\n",
              "3430    15027024  ...        1\n",
              "3065    16518377  ...        1\n",
              "5397    16518377  ...        1\n",
              "3007    17861841  ...        1\n",
              "368     17861841  ...        1\n",
              "6438    19477677  ...        1\n",
              "5251    19477677  ...        1\n",
              "5454    21106251  ...        1\n",
              "6832    21106251  ...        1\n",
              "5246    22014840  ...        1\n",
              "6068    22014840  ...        1\n",
              "5861    23990868  ...        1\n",
              "6132    23990868  ...        1\n",
              "7769    26554879  ...        1\n",
              "7116    26554879  ...        1\n",
              "5236    29844951  ...        1\n",
              "9425    29844951  ...        1\n",
              "7316    31470004  ...        0\n",
              "9322    31470004  ...        0\n",
              "1338    32610834  ...        0\n",
              "6313    32610834  ...        0\n",
              "6085    33346762  ...        1\n",
              "2118    33346762  ...        1\n",
              "5025    33831116  ...        1\n",
              "5077    33831116  ...        1\n",
              "1658    35646737  ...        1\n",
              "3340    35646737  ...        1\n",
              "7155    35801208  ...        0\n",
              "9265    35801208  ...        0\n",
              "\n",
              "[40 rows x 19 columns]"
            ]
          },
          "metadata": {
            "tags": []
          },
          "execution_count": 130
        }
      ]
    },
    {
      "cell_type": "code",
      "metadata": {
        "id": "uSXEpMFlJCJc",
        "colab_type": "code",
        "colab": {}
      },
      "source": [
        "# Remove identical duplicates\n",
        "airbnb = airbnb.drop_duplicates()"
      ],
      "execution_count": 0,
      "outputs": []
    },
    {
      "cell_type": "code",
      "metadata": {
        "id": "nYf1M1cNKIIN",
        "colab_type": "code",
        "colab": {}
      },
      "source": [
        "# Find non-identical duplicates\n",
        "duplicates = airbnb.duplicated(subset='listing_id', keep = False)"
      ],
      "execution_count": 0,
      "outputs": []
    },
    {
      "cell_type": "code",
      "metadata": {
        "id": "wiN1SBw8Kizr",
        "colab_type": "code",
        "colab": {
          "base_uri": "https://localhost:8080/",
          "height": 986
        },
        "outputId": "960c9809-1535-4e5c-f7dc-23f85764353c"
      },
      "source": [
        "# Show all duplicates\n",
        "airbnb[duplicates].sort_values('listing_id')"
      ],
      "execution_count": 133,
      "outputs": [
        {
          "output_type": "execute_result",
          "data": {
            "text/html": [
              "<div>\n",
              "<style scoped>\n",
              "    .dataframe tbody tr th:only-of-type {\n",
              "        vertical-align: middle;\n",
              "    }\n",
              "\n",
              "    .dataframe tbody tr th {\n",
              "        vertical-align: top;\n",
              "    }\n",
              "\n",
              "    .dataframe thead th {\n",
              "        text-align: right;\n",
              "    }\n",
              "</style>\n",
              "<table border=\"1\" class=\"dataframe\">\n",
              "  <thead>\n",
              "    <tr style=\"text-align: right;\">\n",
              "      <th></th>\n",
              "      <th>listing_id</th>\n",
              "      <th>name</th>\n",
              "      <th>host_id</th>\n",
              "      <th>host_name</th>\n",
              "      <th>room_type</th>\n",
              "      <th>price</th>\n",
              "      <th>number_of_reviews</th>\n",
              "      <th>last_review</th>\n",
              "      <th>reviews_per_month</th>\n",
              "      <th>availability_365</th>\n",
              "      <th>rating</th>\n",
              "      <th>number_of_stays</th>\n",
              "      <th>5_stars</th>\n",
              "      <th>listing_added</th>\n",
              "      <th>latitude</th>\n",
              "      <th>longitude</th>\n",
              "      <th>borough</th>\n",
              "      <th>neighbourhood</th>\n",
              "      <th>is_rated</th>\n",
              "    </tr>\n",
              "  </thead>\n",
              "  <tbody>\n",
              "    <tr>\n",
              "      <th>5761</th>\n",
              "      <td>2044392</td>\n",
              "      <td>The heart of Williamsburg 2 bedroom</td>\n",
              "      <td>620218</td>\n",
              "      <td>Sarah</td>\n",
              "      <td>Entire Place</td>\n",
              "      <td>250.0</td>\n",
              "      <td>0</td>\n",
              "      <td>NaT</td>\n",
              "      <td>0.00</td>\n",
              "      <td>0</td>\n",
              "      <td>NaN</td>\n",
              "      <td>0.0</td>\n",
              "      <td>0.000000</td>\n",
              "      <td>2018-05-24</td>\n",
              "      <td>40.71257</td>\n",
              "      <td>-73.96149</td>\n",
              "      <td>Brooklyn</td>\n",
              "      <td>Williamsburg</td>\n",
              "      <td>0</td>\n",
              "    </tr>\n",
              "    <tr>\n",
              "      <th>8699</th>\n",
              "      <td>2044392</td>\n",
              "      <td>The heart of Williamsburg 2 bedroom</td>\n",
              "      <td>620218</td>\n",
              "      <td>Sarah</td>\n",
              "      <td>Entire Place</td>\n",
              "      <td>245.0</td>\n",
              "      <td>0</td>\n",
              "      <td>NaT</td>\n",
              "      <td>0.00</td>\n",
              "      <td>0</td>\n",
              "      <td>NaN</td>\n",
              "      <td>0.0</td>\n",
              "      <td>0.000000</td>\n",
              "      <td>2018-08-09</td>\n",
              "      <td>40.71257</td>\n",
              "      <td>-73.96149</td>\n",
              "      <td>Brooklyn</td>\n",
              "      <td>Williamsburg</td>\n",
              "      <td>0</td>\n",
              "    </tr>\n",
              "    <tr>\n",
              "      <th>2871</th>\n",
              "      <td>4244242</td>\n",
              "      <td>Best Bedroom in Bedstuy/Bushwick. Ensuite bath...</td>\n",
              "      <td>22023014</td>\n",
              "      <td>BrooklynSleeps</td>\n",
              "      <td>Private Room</td>\n",
              "      <td>70.0</td>\n",
              "      <td>110</td>\n",
              "      <td>2019-06-23</td>\n",
              "      <td>1.96</td>\n",
              "      <td>323</td>\n",
              "      <td>4.962314</td>\n",
              "      <td>132.0</td>\n",
              "      <td>0.809882</td>\n",
              "      <td>2018-12-18</td>\n",
              "      <td>40.69496</td>\n",
              "      <td>-73.93949</td>\n",
              "      <td>Brooklyn</td>\n",
              "      <td>Bedford-Stuyvesant</td>\n",
              "      <td>1</td>\n",
              "    </tr>\n",
              "    <tr>\n",
              "      <th>4187</th>\n",
              "      <td>4244242</td>\n",
              "      <td>Best Bedroom in Bedstuy/Bushwick. Ensuite bath...</td>\n",
              "      <td>22023014</td>\n",
              "      <td>BrooklynSleeps</td>\n",
              "      <td>Private Room</td>\n",
              "      <td>73.0</td>\n",
              "      <td>110</td>\n",
              "      <td>2019-06-23</td>\n",
              "      <td>1.96</td>\n",
              "      <td>323</td>\n",
              "      <td>4.962314</td>\n",
              "      <td>132.0</td>\n",
              "      <td>0.809882</td>\n",
              "      <td>2018-12-18</td>\n",
              "      <td>40.69496</td>\n",
              "      <td>-73.93949</td>\n",
              "      <td>Brooklyn</td>\n",
              "      <td>Bedford-Stuyvesant</td>\n",
              "      <td>1</td>\n",
              "    </tr>\n",
              "    <tr>\n",
              "      <th>77</th>\n",
              "      <td>7319856</td>\n",
              "      <td>450ft Square Studio in Gramercy NY</td>\n",
              "      <td>11773680</td>\n",
              "      <td>Adam</td>\n",
              "      <td>Entire Place</td>\n",
              "      <td>289.0</td>\n",
              "      <td>4</td>\n",
              "      <td>2016-05-22</td>\n",
              "      <td>0.09</td>\n",
              "      <td>225</td>\n",
              "      <td>3.903764</td>\n",
              "      <td>4.8</td>\n",
              "      <td>0.756381</td>\n",
              "      <td>2015-11-17</td>\n",
              "      <td>40.73813</td>\n",
              "      <td>-73.98098</td>\n",
              "      <td>Manhattan</td>\n",
              "      <td>Kips Bay</td>\n",
              "      <td>1</td>\n",
              "    </tr>\n",
              "    <tr>\n",
              "      <th>2255</th>\n",
              "      <td>7319856</td>\n",
              "      <td>450ft Square Studio in Gramercy NY</td>\n",
              "      <td>11773680</td>\n",
              "      <td>Adam</td>\n",
              "      <td>Entire Place</td>\n",
              "      <td>280.0</td>\n",
              "      <td>4</td>\n",
              "      <td>2016-05-22</td>\n",
              "      <td>0.09</td>\n",
              "      <td>225</td>\n",
              "      <td>3.903764</td>\n",
              "      <td>4.8</td>\n",
              "      <td>0.756381</td>\n",
              "      <td>2015-11-17</td>\n",
              "      <td>40.73813</td>\n",
              "      <td>-73.98098</td>\n",
              "      <td>Manhattan</td>\n",
              "      <td>Kips Bay</td>\n",
              "      <td>1</td>\n",
              "    </tr>\n",
              "    <tr>\n",
              "      <th>555</th>\n",
              "      <td>9078222</td>\n",
              "      <td>Prospect Park 3 bdrm, Sleeps 8 (#2)</td>\n",
              "      <td>47219962</td>\n",
              "      <td>Babajide</td>\n",
              "      <td>Entire Place</td>\n",
              "      <td>154.0</td>\n",
              "      <td>123</td>\n",
              "      <td>2019-07-01</td>\n",
              "      <td>2.74</td>\n",
              "      <td>263</td>\n",
              "      <td>3.466881</td>\n",
              "      <td>147.6</td>\n",
              "      <td>0.738191</td>\n",
              "      <td>2018-12-26</td>\n",
              "      <td>40.66086</td>\n",
              "      <td>-73.96159</td>\n",
              "      <td>Brooklyn</td>\n",
              "      <td>Prospect-Lefferts Gardens</td>\n",
              "      <td>1</td>\n",
              "    </tr>\n",
              "    <tr>\n",
              "      <th>7933</th>\n",
              "      <td>9078222</td>\n",
              "      <td>Prospect Park 3 bdrm, Sleeps 8 (#2)</td>\n",
              "      <td>47219962</td>\n",
              "      <td>Babajide</td>\n",
              "      <td>Entire Place</td>\n",
              "      <td>150.0</td>\n",
              "      <td>123</td>\n",
              "      <td>2019-07-01</td>\n",
              "      <td>2.74</td>\n",
              "      <td>263</td>\n",
              "      <td>3.466881</td>\n",
              "      <td>147.6</td>\n",
              "      <td>0.738191</td>\n",
              "      <td>2018-12-26</td>\n",
              "      <td>40.66086</td>\n",
              "      <td>-73.96159</td>\n",
              "      <td>Brooklyn</td>\n",
              "      <td>Prospect-Lefferts Gardens</td>\n",
              "      <td>1</td>\n",
              "    </tr>\n",
              "    <tr>\n",
              "      <th>1481</th>\n",
              "      <td>15027024</td>\n",
              "      <td>Newly renovated 1bd on lively &amp; historic St Marks</td>\n",
              "      <td>8344620</td>\n",
              "      <td>Ethan</td>\n",
              "      <td>Entire Place</td>\n",
              "      <td>180.0</td>\n",
              "      <td>10</td>\n",
              "      <td>2018-12-31</td>\n",
              "      <td>0.30</td>\n",
              "      <td>0</td>\n",
              "      <td>3.969729</td>\n",
              "      <td>12.0</td>\n",
              "      <td>0.772513</td>\n",
              "      <td>2018-06-27</td>\n",
              "      <td>40.72693</td>\n",
              "      <td>-73.98385</td>\n",
              "      <td>Manhattan</td>\n",
              "      <td>East Village</td>\n",
              "      <td>1</td>\n",
              "    </tr>\n",
              "    <tr>\n",
              "      <th>3430</th>\n",
              "      <td>15027024</td>\n",
              "      <td>Newly renovated 1bd on lively &amp; historic St Marks</td>\n",
              "      <td>8344620</td>\n",
              "      <td>Ethan</td>\n",
              "      <td>Entire Place</td>\n",
              "      <td>180.0</td>\n",
              "      <td>10</td>\n",
              "      <td>2018-12-31</td>\n",
              "      <td>0.30</td>\n",
              "      <td>0</td>\n",
              "      <td>3.869729</td>\n",
              "      <td>12.0</td>\n",
              "      <td>0.772513</td>\n",
              "      <td>2018-06-27</td>\n",
              "      <td>40.72693</td>\n",
              "      <td>-73.98385</td>\n",
              "      <td>Manhattan</td>\n",
              "      <td>East Village</td>\n",
              "      <td>1</td>\n",
              "    </tr>\n",
              "    <tr>\n",
              "      <th>7316</th>\n",
              "      <td>31470004</td>\n",
              "      <td>Private bedroom/Bathroom in a 2 bedroom apartment</td>\n",
              "      <td>71241932</td>\n",
              "      <td>Max</td>\n",
              "      <td>Private Room</td>\n",
              "      <td>2500.0</td>\n",
              "      <td>0</td>\n",
              "      <td>NaT</td>\n",
              "      <td>0.00</td>\n",
              "      <td>90</td>\n",
              "      <td>NaN</td>\n",
              "      <td>0.0</td>\n",
              "      <td>0.000000</td>\n",
              "      <td>2018-04-09</td>\n",
              "      <td>40.72544</td>\n",
              "      <td>-73.97818</td>\n",
              "      <td>Manhattan</td>\n",
              "      <td>East Village</td>\n",
              "      <td>0</td>\n",
              "    </tr>\n",
              "    <tr>\n",
              "      <th>9322</th>\n",
              "      <td>31470004</td>\n",
              "      <td>Private bedroom/Bathroom in a 2 bedroom apartment</td>\n",
              "      <td>71241932</td>\n",
              "      <td>Max</td>\n",
              "      <td>Private Room</td>\n",
              "      <td>2500.0</td>\n",
              "      <td>0</td>\n",
              "      <td>NaT</td>\n",
              "      <td>0.00</td>\n",
              "      <td>90</td>\n",
              "      <td>NaN</td>\n",
              "      <td>0.0</td>\n",
              "      <td>0.000000</td>\n",
              "      <td>2018-03-12</td>\n",
              "      <td>40.72544</td>\n",
              "      <td>-73.97818</td>\n",
              "      <td>Manhattan</td>\n",
              "      <td>East Village</td>\n",
              "      <td>0</td>\n",
              "    </tr>\n",
              "    <tr>\n",
              "      <th>7155</th>\n",
              "      <td>35801208</td>\n",
              "      <td>Comfy 2 bedroom Close To Manhattan</td>\n",
              "      <td>256911412</td>\n",
              "      <td>Taylor</td>\n",
              "      <td>Entire Place</td>\n",
              "      <td>101.0</td>\n",
              "      <td>0</td>\n",
              "      <td>NaT</td>\n",
              "      <td>0.00</td>\n",
              "      <td>27</td>\n",
              "      <td>NaN</td>\n",
              "      <td>0.0</td>\n",
              "      <td>0.000000</td>\n",
              "      <td>2018-10-17</td>\n",
              "      <td>40.70469</td>\n",
              "      <td>-73.93690</td>\n",
              "      <td>Brooklyn</td>\n",
              "      <td>Williamsburg</td>\n",
              "      <td>0</td>\n",
              "    </tr>\n",
              "    <tr>\n",
              "      <th>9265</th>\n",
              "      <td>35801208</td>\n",
              "      <td>Comfy 2 bedroom Close To Manhattan</td>\n",
              "      <td>256911412</td>\n",
              "      <td>Taylor</td>\n",
              "      <td>Entire Place</td>\n",
              "      <td>101.0</td>\n",
              "      <td>0</td>\n",
              "      <td>NaT</td>\n",
              "      <td>0.00</td>\n",
              "      <td>27</td>\n",
              "      <td>NaN</td>\n",
              "      <td>0.0</td>\n",
              "      <td>0.000000</td>\n",
              "      <td>2018-05-03</td>\n",
              "      <td>40.70469</td>\n",
              "      <td>-73.93690</td>\n",
              "      <td>Brooklyn</td>\n",
              "      <td>Williamsburg</td>\n",
              "      <td>0</td>\n",
              "    </tr>\n",
              "  </tbody>\n",
              "</table>\n",
              "</div>"
            ],
            "text/plain": [
              "      listing_id  ... is_rated\n",
              "5761     2044392  ...        0\n",
              "8699     2044392  ...        0\n",
              "2871     4244242  ...        1\n",
              "4187     4244242  ...        1\n",
              "77       7319856  ...        1\n",
              "2255     7319856  ...        1\n",
              "555      9078222  ...        1\n",
              "7933     9078222  ...        1\n",
              "1481    15027024  ...        1\n",
              "3430    15027024  ...        1\n",
              "7316    31470004  ...        0\n",
              "9322    31470004  ...        0\n",
              "7155    35801208  ...        0\n",
              "9265    35801208  ...        0\n",
              "\n",
              "[14 rows x 19 columns]"
            ]
          },
          "metadata": {
            "tags": []
          },
          "execution_count": 133
        }
      ]
    },
    {
      "cell_type": "markdown",
      "metadata": {
        "id": "E6_O2EYkcGoF",
        "colab_type": "text"
      },
      "source": [
        "To treat identical duplicates across some columns, we will chain the `.groupby()` and `.agg()` methods where we group by the column used to find duplicates (`listing_id`) and aggregate across statistical measures for `price`, `rating` and `list_added`. The `.agg()` method takes in a dictionary with each column's aggregation method - we will use the following aggregations:\n",
        "\n",
        "- `mean` for `price` and `rating` columns\n",
        "- `max` for `listing_added` column\n",
        "- `first` for all remaining column\n",
        "\n",
        "*A note on dictionary comprehensions:*\n",
        "\n",
        "Dictionaries are useful data structures in Python with the following format\n",
        "`my_dictionary = {key: value}` where a `key` is mapped to a `value` and whose `value` can be returned with `my_dictionary[key]` - dictionary comprehensions allow us to programmatically create dicitonaries using the structure:\n",
        "\n",
        "```\n",
        "{x: x*2 for x in [1,2,3,4,5]} \n",
        "{1:2, 2:4, 3:6, 4:8, 5:10}\n",
        "```"
      ]
    },
    {
      "cell_type": "code",
      "metadata": {
        "id": "v7l82ErIqO1-",
        "colab_type": "code",
        "colab": {
          "base_uri": "https://localhost:8080/",
          "height": 118
        },
        "outputId": "dacae6f3-fccc-4abb-865f-e41ca77e71d0"
      },
      "source": [
        "# Get column names from airbnb\n",
        "column_names = airbnb.columns\n",
        "column_names"
      ],
      "execution_count": 134,
      "outputs": [
        {
          "output_type": "execute_result",
          "data": {
            "text/plain": [
              "Index(['listing_id', 'name', 'host_id', 'host_name', 'room_type', 'price',\n",
              "       'number_of_reviews', 'last_review', 'reviews_per_month',\n",
              "       'availability_365', 'rating', 'number_of_stays', '5_stars',\n",
              "       'listing_added', 'latitude', 'longitude', 'borough', 'neighbourhood',\n",
              "       'is_rated'],\n",
              "      dtype='object')"
            ]
          },
          "metadata": {
            "tags": []
          },
          "execution_count": 134
        }
      ]
    },
    {
      "cell_type": "code",
      "metadata": {
        "id": "CxCJ3xPbKmJg",
        "colab_type": "code",
        "colab": {
          "base_uri": "https://localhost:8080/",
          "height": 319
        },
        "outputId": "b9bb3003-d598-42cf-c216-1dd5d76f68ff"
      },
      "source": [
        "# Create dictionary comprehension with 'first' as value for all columns not being aggregated\n",
        "aggregations = {column:'first' for column in column_names.difference(['listing_id', 'price', 'rating', 'listing_added'])}\n",
        "aggregations['price'] = 'mean'\n",
        "aggregations['listing_added'] = 'max'\n",
        "aggregations['rating'] = 'mean'\n",
        "aggregations"
      ],
      "execution_count": 137,
      "outputs": [
        {
          "output_type": "execute_result",
          "data": {
            "text/plain": [
              "{'5_stars': 'first',\n",
              " 'availability_365': 'first',\n",
              " 'borough': 'first',\n",
              " 'host_id': 'first',\n",
              " 'host_name': 'first',\n",
              " 'is_rated': 'first',\n",
              " 'last_review': 'first',\n",
              " 'latitude': 'first',\n",
              " 'listing_added': 'max',\n",
              " 'longitude': 'first',\n",
              " 'name': 'first',\n",
              " 'neighbourhood': 'first',\n",
              " 'number_of_reviews': 'first',\n",
              " 'number_of_stays': 'first',\n",
              " 'price': 'mean',\n",
              " 'rating': 'mean',\n",
              " 'reviews_per_month': 'first',\n",
              " 'room_type': 'first'}"
            ]
          },
          "metadata": {
            "tags": []
          },
          "execution_count": 137
        }
      ]
    },
    {
      "cell_type": "code",
      "metadata": {
        "id": "jaS5j-KsRUD-",
        "colab_type": "code",
        "colab": {}
      },
      "source": [
        "# Remove non-identical duplicates\n",
        "airbnb = airbnb.groupby('listing_id').agg(aggregations).reset_index()"
      ],
      "execution_count": 0,
      "outputs": []
    },
    {
      "cell_type": "code",
      "metadata": {
        "id": "q93L6waFWpTq",
        "colab_type": "code",
        "colab": {
          "base_uri": "https://localhost:8080/",
          "height": 67
        },
        "outputId": "1ef90461-538a-4a46-d52f-4f1563ec4cbb"
      },
      "source": [
        "# Make sure no duplication happened\n",
        "airbnb[airbnb.duplicated('listing_id', keep=False)]"
      ],
      "execution_count": 139,
      "outputs": [
        {
          "output_type": "execute_result",
          "data": {
            "text/html": [
              "<div>\n",
              "<style scoped>\n",
              "    .dataframe tbody tr th:only-of-type {\n",
              "        vertical-align: middle;\n",
              "    }\n",
              "\n",
              "    .dataframe tbody tr th {\n",
              "        vertical-align: top;\n",
              "    }\n",
              "\n",
              "    .dataframe thead th {\n",
              "        text-align: right;\n",
              "    }\n",
              "</style>\n",
              "<table border=\"1\" class=\"dataframe\">\n",
              "  <thead>\n",
              "    <tr style=\"text-align: right;\">\n",
              "      <th></th>\n",
              "      <th>listing_id</th>\n",
              "      <th>5_stars</th>\n",
              "      <th>availability_365</th>\n",
              "      <th>borough</th>\n",
              "      <th>host_id</th>\n",
              "      <th>host_name</th>\n",
              "      <th>is_rated</th>\n",
              "      <th>last_review</th>\n",
              "      <th>latitude</th>\n",
              "      <th>longitude</th>\n",
              "      <th>name</th>\n",
              "      <th>neighbourhood</th>\n",
              "      <th>number_of_reviews</th>\n",
              "      <th>number_of_stays</th>\n",
              "      <th>reviews_per_month</th>\n",
              "      <th>room_type</th>\n",
              "      <th>price</th>\n",
              "      <th>listing_added</th>\n",
              "      <th>rating</th>\n",
              "    </tr>\n",
              "  </thead>\n",
              "  <tbody>\n",
              "  </tbody>\n",
              "</table>\n",
              "</div>"
            ],
            "text/plain": [
              "Empty DataFrame\n",
              "Columns: [listing_id, 5_stars, availability_365, borough, host_id, host_name, is_rated, last_review, latitude, longitude, name, neighbourhood, number_of_reviews, number_of_stays, reviews_per_month, room_type, price, listing_added, rating]\n",
              "Index: []"
            ]
          },
          "metadata": {
            "tags": []
          },
          "execution_count": 139
        }
      ]
    },
    {
      "cell_type": "code",
      "metadata": {
        "id": "ZmIRBaZgW4q2",
        "colab_type": "code",
        "colab": {
          "base_uri": "https://localhost:8080/",
          "height": 434
        },
        "outputId": "508b3f20-1dad-43a6-9c43-fe4785bacfb8"
      },
      "source": [
        "# Print header of DataFrame\n",
        "airbnb.head()"
      ],
      "execution_count": 140,
      "outputs": [
        {
          "output_type": "execute_result",
          "data": {
            "text/html": [
              "<div>\n",
              "<style scoped>\n",
              "    .dataframe tbody tr th:only-of-type {\n",
              "        vertical-align: middle;\n",
              "    }\n",
              "\n",
              "    .dataframe tbody tr th {\n",
              "        vertical-align: top;\n",
              "    }\n",
              "\n",
              "    .dataframe thead th {\n",
              "        text-align: right;\n",
              "    }\n",
              "</style>\n",
              "<table border=\"1\" class=\"dataframe\">\n",
              "  <thead>\n",
              "    <tr style=\"text-align: right;\">\n",
              "      <th></th>\n",
              "      <th>listing_id</th>\n",
              "      <th>5_stars</th>\n",
              "      <th>availability_365</th>\n",
              "      <th>borough</th>\n",
              "      <th>host_id</th>\n",
              "      <th>host_name</th>\n",
              "      <th>is_rated</th>\n",
              "      <th>last_review</th>\n",
              "      <th>latitude</th>\n",
              "      <th>longitude</th>\n",
              "      <th>name</th>\n",
              "      <th>neighbourhood</th>\n",
              "      <th>number_of_reviews</th>\n",
              "      <th>number_of_stays</th>\n",
              "      <th>reviews_per_month</th>\n",
              "      <th>room_type</th>\n",
              "      <th>price</th>\n",
              "      <th>listing_added</th>\n",
              "      <th>rating</th>\n",
              "    </tr>\n",
              "  </thead>\n",
              "  <tbody>\n",
              "    <tr>\n",
              "      <th>0</th>\n",
              "      <td>3831</td>\n",
              "      <td>0.757366</td>\n",
              "      <td>194</td>\n",
              "      <td>Brooklyn</td>\n",
              "      <td>4869</td>\n",
              "      <td>LisaRoxanne</td>\n",
              "      <td>1</td>\n",
              "      <td>2019-07-05</td>\n",
              "      <td>40.68514</td>\n",
              "      <td>-73.95976</td>\n",
              "      <td>Cozy Entire Floor of Brownstone</td>\n",
              "      <td>Clinton Hill</td>\n",
              "      <td>270</td>\n",
              "      <td>324.0</td>\n",
              "      <td>4.64</td>\n",
              "      <td>Entire Place</td>\n",
              "      <td>89.0</td>\n",
              "      <td>2018-12-30</td>\n",
              "      <td>3.273935</td>\n",
              "    </tr>\n",
              "    <tr>\n",
              "      <th>1</th>\n",
              "      <td>6848</td>\n",
              "      <td>0.789743</td>\n",
              "      <td>46</td>\n",
              "      <td>Brooklyn</td>\n",
              "      <td>15991</td>\n",
              "      <td>Allen &amp; Irina</td>\n",
              "      <td>1</td>\n",
              "      <td>2019-06-29</td>\n",
              "      <td>40.70837</td>\n",
              "      <td>-73.95352</td>\n",
              "      <td>Only 2 stops to Manhattan studio</td>\n",
              "      <td>Williamsburg</td>\n",
              "      <td>148</td>\n",
              "      <td>177.6</td>\n",
              "      <td>1.20</td>\n",
              "      <td>Entire Place</td>\n",
              "      <td>140.0</td>\n",
              "      <td>2018-12-24</td>\n",
              "      <td>3.495760</td>\n",
              "    </tr>\n",
              "    <tr>\n",
              "      <th>2</th>\n",
              "      <td>7322</td>\n",
              "      <td>0.669873</td>\n",
              "      <td>12</td>\n",
              "      <td>Manhattan</td>\n",
              "      <td>18946</td>\n",
              "      <td>Doti</td>\n",
              "      <td>1</td>\n",
              "      <td>2019-07-01</td>\n",
              "      <td>40.74192</td>\n",
              "      <td>-73.99501</td>\n",
              "      <td>Chelsea Perfect</td>\n",
              "      <td>Chelsea</td>\n",
              "      <td>260</td>\n",
              "      <td>312.0</td>\n",
              "      <td>2.12</td>\n",
              "      <td>Private Room</td>\n",
              "      <td>140.0</td>\n",
              "      <td>2018-12-26</td>\n",
              "      <td>4.389051</td>\n",
              "    </tr>\n",
              "    <tr>\n",
              "      <th>3</th>\n",
              "      <td>7726</td>\n",
              "      <td>0.640251</td>\n",
              "      <td>21</td>\n",
              "      <td>Brooklyn</td>\n",
              "      <td>20950</td>\n",
              "      <td>Adam And Charity</td>\n",
              "      <td>1</td>\n",
              "      <td>2019-06-22</td>\n",
              "      <td>40.67592</td>\n",
              "      <td>-73.94694</td>\n",
              "      <td>Hip Historic Brownstone Apartment with Backyard</td>\n",
              "      <td>Crown Heights</td>\n",
              "      <td>53</td>\n",
              "      <td>63.6</td>\n",
              "      <td>4.44</td>\n",
              "      <td>Entire Place</td>\n",
              "      <td>99.0</td>\n",
              "      <td>2018-12-17</td>\n",
              "      <td>3.305382</td>\n",
              "    </tr>\n",
              "    <tr>\n",
              "      <th>4</th>\n",
              "      <td>12303</td>\n",
              "      <td>0.918593</td>\n",
              "      <td>311</td>\n",
              "      <td>Brooklyn</td>\n",
              "      <td>47618</td>\n",
              "      <td>Yolande</td>\n",
              "      <td>1</td>\n",
              "      <td>2018-09-30</td>\n",
              "      <td>40.69673</td>\n",
              "      <td>-73.97584</td>\n",
              "      <td>1bdr w private bath. in lofty apt</td>\n",
              "      <td>Fort Greene</td>\n",
              "      <td>25</td>\n",
              "      <td>30.0</td>\n",
              "      <td>0.23</td>\n",
              "      <td>Private Room</td>\n",
              "      <td>120.0</td>\n",
              "      <td>2018-03-27</td>\n",
              "      <td>4.568745</td>\n",
              "    </tr>\n",
              "  </tbody>\n",
              "</table>\n",
              "</div>"
            ],
            "text/plain": [
              "   listing_id   5_stars  availability_365  ...  price  listing_added    rating\n",
              "0        3831  0.757366               194  ...   89.0     2018-12-30  3.273935\n",
              "1        6848  0.789743                46  ...  140.0     2018-12-24  3.495760\n",
              "2        7322  0.669873                12  ...  140.0     2018-12-26  4.389051\n",
              "3        7726  0.640251                21  ...   99.0     2018-12-17  3.305382\n",
              "4       12303  0.918593               311  ...  120.0     2018-03-27  4.568745\n",
              "\n",
              "[5 rows x 19 columns]"
            ]
          },
          "metadata": {
            "tags": []
          },
          "execution_count": 140
        }
      ]
    },
    {
      "cell_type": "markdown",
      "metadata": {
        "id": "zaF7ZDbzA6P7",
        "colab_type": "text"
      },
      "source": [
        "- What is the average price of listings by borough? Visualize your results with a bar plot!\n",
        "- What is the average availability in days of listings by borough? Visualize your results with a bar plot!\n",
        "- What is the median price per room type in each borough? Visualize your results with a bar plot!\n",
        "- Visualize the number of listings over time.\n",
        "\n",
        "**Functions to be used:**\n",
        "- `.groupby()` and `.agg()`\n",
        "- `sns.barplot(x = , y = , hue = , data = )`\n",
        "- `sns.lineplot(x = , y = , data = )`\n",
        "- `.dt.strftime()` for extracting specific dates from a `datetime` column\n"
      ]
    },
    {
      "cell_type": "code",
      "metadata": {
        "id": "Q7oQ3LTwl6xS",
        "colab_type": "code",
        "colab": {
          "base_uri": "https://localhost:8080/",
          "height": 134
        },
        "outputId": "806d950d-9f0d-4c7f-d729-867ed7d78323"
      },
      "source": [
        "borough_price_mean = airbnb.groupby('borough').agg('mean')['price']\n",
        "borough_price_mean"
      ],
      "execution_count": 157,
      "outputs": [
        {
          "output_type": "execute_result",
          "data": {
            "text/plain": [
              "borough\n",
              "Bronx             88.628821\n",
              "Brooklyn         122.959735\n",
              "Manhattan        192.334273\n",
              "Queens            96.952542\n",
              "Staten Island     91.890411\n",
              "Name: price, dtype: float64"
            ]
          },
          "metadata": {
            "tags": []
          },
          "execution_count": 157
        }
      ]
    },
    {
      "cell_type": "code",
      "metadata": {
        "id": "3lNLbr-TmM-V",
        "colab_type": "code",
        "colab": {
          "base_uri": "https://localhost:8080/",
          "height": 354
        },
        "outputId": "9ade4212-386c-4bf3-831a-2a38eeb9efdd"
      },
      "source": [
        "borough_price_mean.plot(kind='bar')"
      ],
      "execution_count": 151,
      "outputs": [
        {
          "output_type": "execute_result",
          "data": {
            "text/plain": [
              "<matplotlib.axes._subplots.AxesSubplot at 0x7f324205df98>"
            ]
          },
          "metadata": {
            "tags": []
          },
          "execution_count": 151
        },
        {
          "output_type": "display_data",
          "data": {
            "image/png": "[encoded data removed]",
            "text/plain": [
              "<Figure size 432x288 with 1 Axes>"
            ]
          },
          "metadata": {
            "tags": [],
            "needs_background": "light"
          }
        }
      ]
    },
    {
      "cell_type": "code",
      "metadata": {
        "id": "fJHmizmanLwU",
        "colab_type": "code",
        "colab": {
          "base_uri": "https://localhost:8080/",
          "height": 281
        },
        "outputId": "f2e7e5c1-34a1-42d6-d026-1a099b0405b0"
      },
      "source": [
        "sns.barplot(x=borough_price_mean.index, y=borough_price_mean.values)\n",
        "plt.show()"
      ],
      "execution_count": 160,
      "outputs": [
        {
          "output_type": "display_data",
          "data": {
            "image/png": "[encoded data removed]",
            "text/plain": [
              "<Figure size 432x288 with 1 Axes>"
            ]
          },
          "metadata": {
            "tags": [],
            "needs_background": "light"
          }
        }
      ]
    },
    {
      "cell_type": "code",
      "metadata": {
        "id": "6bcOd_bgoQp6",
        "colab_type": "code",
        "colab": {
          "base_uri": "https://localhost:8080/",
          "height": 195
        },
        "outputId": "0bbee715-c2ce-46f3-e877-70d593ddb351"
      },
      "source": [
        "borough_days_mean = airbnb.groupby('borough')['availability_365'].agg('mean').reset_index()\n",
        "borough_days_mean"
      ],
      "execution_count": 188,
      "outputs": [
        {
          "output_type": "execute_result",
          "data": {
            "text/html": [
              "<div>\n",
              "<style scoped>\n",
              "    .dataframe tbody tr th:only-of-type {\n",
              "        vertical-align: middle;\n",
              "    }\n",
              "\n",
              "    .dataframe tbody tr th {\n",
              "        vertical-align: top;\n",
              "    }\n",
              "\n",
              "    .dataframe thead th {\n",
              "        text-align: right;\n",
              "    }\n",
              "</style>\n",
              "<table border=\"1\" class=\"dataframe\">\n",
              "  <thead>\n",
              "    <tr style=\"text-align: right;\">\n",
              "      <th></th>\n",
              "      <th>borough</th>\n",
              "      <th>availability_365</th>\n",
              "    </tr>\n",
              "  </thead>\n",
              "  <tbody>\n",
              "    <tr>\n",
              "      <th>0</th>\n",
              "      <td>Bronx</td>\n",
              "      <td>146.716157</td>\n",
              "    </tr>\n",
              "    <tr>\n",
              "      <th>1</th>\n",
              "      <td>Brooklyn</td>\n",
              "      <td>99.483182</td>\n",
              "    </tr>\n",
              "    <tr>\n",
              "      <th>2</th>\n",
              "      <td>Manhattan</td>\n",
              "      <td>112.233822</td>\n",
              "    </tr>\n",
              "    <tr>\n",
              "      <th>3</th>\n",
              "      <td>Queens</td>\n",
              "      <td>143.862712</td>\n",
              "    </tr>\n",
              "    <tr>\n",
              "      <th>4</th>\n",
              "      <td>Staten Island</td>\n",
              "      <td>214.205479</td>\n",
              "    </tr>\n",
              "  </tbody>\n",
              "</table>\n",
              "</div>"
            ],
            "text/plain": [
              "         borough  availability_365\n",
              "0          Bronx        146.716157\n",
              "1       Brooklyn         99.483182\n",
              "2      Manhattan        112.233822\n",
              "3         Queens        143.862712\n",
              "4  Staten Island        214.205479"
            ]
          },
          "metadata": {
            "tags": []
          },
          "execution_count": 188
        }
      ]
    },
    {
      "cell_type": "code",
      "metadata": {
        "id": "rmbHNPLPpMPa",
        "colab_type": "code",
        "colab": {
          "base_uri": "https://localhost:8080/",
          "height": 279
        },
        "outputId": "745ecf00-8856-4f68-da0e-14ca3f5ff332"
      },
      "source": [
        "sns.barplot(x='borough', y='availability_365', data=borough_days_mean)\n",
        "plt.show()"
      ],
      "execution_count": 189,
      "outputs": [
        {
          "output_type": "display_data",
          "data": {
            "image/png": "[encoded data removed]",
            "text/plain": [
              "<Figure size 432x288 with 1 Axes>"
            ]
          },
          "metadata": {
            "tags": [],
            "needs_background": "light"
          }
        }
      ]
    },
    {
      "cell_type": "code",
      "metadata": {
        "id": "oj3EACZ0snP6",
        "colab_type": "code",
        "colab": {
          "base_uri": "https://localhost:8080/",
          "height": 491
        },
        "outputId": "c3ae1954-8ddf-4d93-d83e-ddecc3924af4"
      },
      "source": [
        "borough_roomtype_mean = airbnb.groupby(['borough', 'room_type'], as_index=False)['price'].agg('median')\n",
        "borough_roomtype_mean"
      ],
      "execution_count": 185,
      "outputs": [
        {
          "output_type": "execute_result",
          "data": {
            "text/html": [
              "<div>\n",
              "<style scoped>\n",
              "    .dataframe tbody tr th:only-of-type {\n",
              "        vertical-align: middle;\n",
              "    }\n",
              "\n",
              "    .dataframe tbody tr th {\n",
              "        vertical-align: top;\n",
              "    }\n",
              "\n",
              "    .dataframe thead th {\n",
              "        text-align: right;\n",
              "    }\n",
              "</style>\n",
              "<table border=\"1\" class=\"dataframe\">\n",
              "  <thead>\n",
              "    <tr style=\"text-align: right;\">\n",
              "      <th></th>\n",
              "      <th>borough</th>\n",
              "      <th>room_type</th>\n",
              "      <th>price</th>\n",
              "    </tr>\n",
              "  </thead>\n",
              "  <tbody>\n",
              "    <tr>\n",
              "      <th>0</th>\n",
              "      <td>Bronx</td>\n",
              "      <td>Entire Place</td>\n",
              "      <td>99.0</td>\n",
              "    </tr>\n",
              "    <tr>\n",
              "      <th>1</th>\n",
              "      <td>Bronx</td>\n",
              "      <td>Private Room</td>\n",
              "      <td>55.0</td>\n",
              "    </tr>\n",
              "    <tr>\n",
              "      <th>2</th>\n",
              "      <td>Bronx</td>\n",
              "      <td>Shared Room</td>\n",
              "      <td>31.5</td>\n",
              "    </tr>\n",
              "    <tr>\n",
              "      <th>3</th>\n",
              "      <td>Brooklyn</td>\n",
              "      <td>Entire Place</td>\n",
              "      <td>149.0</td>\n",
              "    </tr>\n",
              "    <tr>\n",
              "      <th>4</th>\n",
              "      <td>Brooklyn</td>\n",
              "      <td>Private Room</td>\n",
              "      <td>65.0</td>\n",
              "    </tr>\n",
              "    <tr>\n",
              "      <th>5</th>\n",
              "      <td>Brooklyn</td>\n",
              "      <td>Shared Room</td>\n",
              "      <td>38.0</td>\n",
              "    </tr>\n",
              "    <tr>\n",
              "      <th>6</th>\n",
              "      <td>Manhattan</td>\n",
              "      <td>Entire Place</td>\n",
              "      <td>193.0</td>\n",
              "    </tr>\n",
              "    <tr>\n",
              "      <th>7</th>\n",
              "      <td>Manhattan</td>\n",
              "      <td>Private Room</td>\n",
              "      <td>85.0</td>\n",
              "    </tr>\n",
              "    <tr>\n",
              "      <th>8</th>\n",
              "      <td>Manhattan</td>\n",
              "      <td>Shared Room</td>\n",
              "      <td>65.0</td>\n",
              "    </tr>\n",
              "    <tr>\n",
              "      <th>9</th>\n",
              "      <td>Queens</td>\n",
              "      <td>Entire Place</td>\n",
              "      <td>120.0</td>\n",
              "    </tr>\n",
              "    <tr>\n",
              "      <th>10</th>\n",
              "      <td>Queens</td>\n",
              "      <td>Private Room</td>\n",
              "      <td>60.0</td>\n",
              "    </tr>\n",
              "    <tr>\n",
              "      <th>11</th>\n",
              "      <td>Queens</td>\n",
              "      <td>Shared Room</td>\n",
              "      <td>37.0</td>\n",
              "    </tr>\n",
              "    <tr>\n",
              "      <th>12</th>\n",
              "      <td>Staten Island</td>\n",
              "      <td>Entire Place</td>\n",
              "      <td>110.0</td>\n",
              "    </tr>\n",
              "    <tr>\n",
              "      <th>13</th>\n",
              "      <td>Staten Island</td>\n",
              "      <td>Private Room</td>\n",
              "      <td>59.0</td>\n",
              "    </tr>\n",
              "    <tr>\n",
              "      <th>14</th>\n",
              "      <td>Staten Island</td>\n",
              "      <td>Shared Room</td>\n",
              "      <td>75.0</td>\n",
              "    </tr>\n",
              "  </tbody>\n",
              "</table>\n",
              "</div>"
            ],
            "text/plain": [
              "          borough     room_type  price\n",
              "0           Bronx  Entire Place   99.0\n",
              "1           Bronx  Private Room   55.0\n",
              "2           Bronx   Shared Room   31.5\n",
              "3        Brooklyn  Entire Place  149.0\n",
              "4        Brooklyn  Private Room   65.0\n",
              "5        Brooklyn   Shared Room   38.0\n",
              "6       Manhattan  Entire Place  193.0\n",
              "7       Manhattan  Private Room   85.0\n",
              "8       Manhattan   Shared Room   65.0\n",
              "9          Queens  Entire Place  120.0\n",
              "10         Queens  Private Room   60.0\n",
              "11         Queens   Shared Room   37.0\n",
              "12  Staten Island  Entire Place  110.0\n",
              "13  Staten Island  Private Room   59.0\n",
              "14  Staten Island   Shared Room   75.0"
            ]
          },
          "metadata": {
            "tags": []
          },
          "execution_count": 185
        }
      ]
    },
    {
      "cell_type": "code",
      "metadata": {
        "id": "H_NwUkCap9lA",
        "colab_type": "code",
        "colab": {
          "base_uri": "https://localhost:8080/",
          "height": 280
        },
        "outputId": "36da9181-764d-4a76-acc1-1602ba8d1b66"
      },
      "source": [
        "sns.barplot(x='borough', y='price', hue='room_type', data=borough_roomtype_mean)\n",
        "plt.show()"
      ],
      "execution_count": 186,
      "outputs": [
        {
          "output_type": "display_data",
          "data": {
            "image/png": "[encoded data removed]",
            "text/plain": [
              "<Figure size 432x288 with 1 Axes>"
            ]
          },
          "metadata": {
            "tags": [],
            "needs_background": "light"
          }
        }
      ]
    },
    {
      "cell_type": "code",
      "metadata": {
        "id": "5hX8QMIvvSL2",
        "colab_type": "code",
        "colab": {}
      },
      "source": [
        "year = airbnb.listing_added.dt.strftime(\"%Y\")\n",
        "airbnb['year'] = year"
      ],
      "execution_count": 0,
      "outputs": []
    },
    {
      "cell_type": "code",
      "metadata": {
        "id": "KmnT5ZP-rEh1",
        "colab_type": "code",
        "colab": {
          "base_uri": "https://localhost:8080/",
          "height": 343
        },
        "outputId": "1742b27c-674e-4fa3-cd2f-4a1d2ee6b202"
      },
      "source": [
        "listing_per_year = airbnb.groupby('year')['listing_id'].agg('count').reset_index()\n",
        "listing_per_year"
      ],
      "execution_count": 199,
      "outputs": [
        {
          "output_type": "execute_result",
          "data": {
            "text/html": [
              "<div>\n",
              "<style scoped>\n",
              "    .dataframe tbody tr th:only-of-type {\n",
              "        vertical-align: middle;\n",
              "    }\n",
              "\n",
              "    .dataframe tbody tr th {\n",
              "        vertical-align: top;\n",
              "    }\n",
              "\n",
              "    .dataframe thead th {\n",
              "        text-align: right;\n",
              "    }\n",
              "</style>\n",
              "<table border=\"1\" class=\"dataframe\">\n",
              "  <thead>\n",
              "    <tr style=\"text-align: right;\">\n",
              "      <th></th>\n",
              "      <th>year</th>\n",
              "      <th>listing_id</th>\n",
              "    </tr>\n",
              "  </thead>\n",
              "  <tbody>\n",
              "    <tr>\n",
              "      <th>0</th>\n",
              "      <td>2010</td>\n",
              "      <td>2</td>\n",
              "    </tr>\n",
              "    <tr>\n",
              "      <th>1</th>\n",
              "      <td>2011</td>\n",
              "      <td>2</td>\n",
              "    </tr>\n",
              "    <tr>\n",
              "      <th>2</th>\n",
              "      <td>2012</td>\n",
              "      <td>6</td>\n",
              "    </tr>\n",
              "    <tr>\n",
              "      <th>3</th>\n",
              "      <td>2013</td>\n",
              "      <td>17</td>\n",
              "    </tr>\n",
              "    <tr>\n",
              "      <th>4</th>\n",
              "      <td>2014</td>\n",
              "      <td>76</td>\n",
              "    </tr>\n",
              "    <tr>\n",
              "      <th>5</th>\n",
              "      <td>2015</td>\n",
              "      <td>443</td>\n",
              "    </tr>\n",
              "    <tr>\n",
              "      <th>6</th>\n",
              "      <td>2016</td>\n",
              "      <td>587</td>\n",
              "    </tr>\n",
              "    <tr>\n",
              "      <th>7</th>\n",
              "      <td>2017</td>\n",
              "      <td>822</td>\n",
              "    </tr>\n",
              "    <tr>\n",
              "      <th>8</th>\n",
              "      <td>2018</td>\n",
              "      <td>7866</td>\n",
              "    </tr>\n",
              "    <tr>\n",
              "      <th>9</th>\n",
              "      <td>2019</td>\n",
              "      <td>169</td>\n",
              "    </tr>\n",
              "  </tbody>\n",
              "</table>\n",
              "</div>"
            ],
            "text/plain": [
              "   year  listing_id\n",
              "0  2010           2\n",
              "1  2011           2\n",
              "2  2012           6\n",
              "3  2013          17\n",
              "4  2014          76\n",
              "5  2015         443\n",
              "6  2016         587\n",
              "7  2017         822\n",
              "8  2018        7866\n",
              "9  2019         169"
            ]
          },
          "metadata": {
            "tags": []
          },
          "execution_count": 199
        }
      ]
    },
    {
      "cell_type": "code",
      "metadata": {
        "id": "Oa4HKSb-wXyw",
        "colab_type": "code",
        "colab": {
          "base_uri": "https://localhost:8080/",
          "height": 279
        },
        "outputId": "0c98fca5-8a19-41a0-e587-ff2569a84799"
      },
      "source": [
        "sns.lineplot(x='year',y='listing_id',data=listing_per_year)\n",
        "plt.show()"
      ],
      "execution_count": 200,
      "outputs": [
        {
          "output_type": "display_data",
          "data": {
            "image/png": "[encoded data removed]",
            "text/plain": [
              "<Figure size 432x288 with 1 Axes>"
            ]
          },
          "metadata": {
            "tags": [],
            "needs_background": "light"
          }
        }
      ]
    }
  ]
}